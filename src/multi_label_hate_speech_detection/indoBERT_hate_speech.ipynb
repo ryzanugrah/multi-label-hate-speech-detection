{
  "cells": [
    {
      "cell_type": "markdown",
      "metadata": {
        "id": "CaaHtz_zGOeU"
      },
      "source": [
        "# IndoBERT Hate Speech\n",
        "\n",
        "Hate Speech Detection System In Indonesian Language Using Indonesian Bidirectional Encoder Representations from Transformers (IndoBERT) Method\n",
        "\n",
        "By Rizky Anugerah"
      ]
    },
    {
      "cell_type": "markdown",
      "metadata": {
        "id": "XZBPqBoAxzZY"
      },
      "source": [
        "# 1. Setup"
      ]
    },
    {
      "cell_type": "markdown",
      "metadata": {
        "id": "5RHeMYqjoLNG"
      },
      "source": [
        "## 1.1 Install Packages"
      ]
    },
    {
      "cell_type": "markdown",
      "metadata": {
        "id": "QBjye9ABIWQr"
      },
      "source": [
        "Install packages so we can use the libraries that will be used"
      ]
    },
    {
      "cell_type": "code",
      "execution_count": 652,
      "metadata": {
        "colab": {
          "base_uri": "https://localhost:8080/"
        },
        "id": "C3r9qn55c3P3",
        "outputId": "1a6a208c-96d5-47f0-c540-3a708c0d7a61"
      },
      "outputs": [
        {
          "output_type": "stream",
          "name": "stdout",
          "text": [
            "Looking in indexes: https://pypi.org/simple, https://us-python.pkg.dev/colab-wheels/public/simple/\n",
            "Requirement already satisfied: imbalanced-learn in /usr/local/lib/python3.7/dist-packages (0.8.1)\n",
            "Requirement already satisfied: scipy>=0.19.1 in /usr/local/lib/python3.7/dist-packages (from imbalanced-learn) (1.4.1)\n",
            "Requirement already satisfied: joblib>=0.11 in /usr/local/lib/python3.7/dist-packages (from imbalanced-learn) (1.1.0)\n",
            "Requirement already satisfied: scikit-learn>=0.24 in /usr/local/lib/python3.7/dist-packages (from imbalanced-learn) (1.0.2)\n",
            "Requirement already satisfied: numpy>=1.13.3 in /usr/local/lib/python3.7/dist-packages (from imbalanced-learn) (1.21.6)\n",
            "Requirement already satisfied: threadpoolctl>=2.0.0 in /usr/local/lib/python3.7/dist-packages (from scikit-learn>=0.24->imbalanced-learn) (3.1.0)\n",
            "Looking in indexes: https://pypi.org/simple, https://us-python.pkg.dev/colab-wheels/public/simple/\n",
            "Requirement already satisfied: transformers in /usr/local/lib/python3.7/dist-packages (4.20.0)\n",
            "Requirement already satisfied: requests in /usr/local/lib/python3.7/dist-packages (from transformers) (2.23.0)\n",
            "Requirement already satisfied: importlib-metadata in /usr/local/lib/python3.7/dist-packages (from transformers) (4.11.4)\n",
            "Requirement already satisfied: filelock in /usr/local/lib/python3.7/dist-packages (from transformers) (3.7.1)\n",
            "Requirement already satisfied: pyyaml>=5.1 in /usr/local/lib/python3.7/dist-packages (from transformers) (6.0)\n",
            "Requirement already satisfied: numpy>=1.17 in /usr/local/lib/python3.7/dist-packages (from transformers) (1.21.6)\n",
            "Requirement already satisfied: huggingface-hub<1.0,>=0.1.0 in /usr/local/lib/python3.7/dist-packages (from transformers) (0.7.0)\n",
            "Requirement already satisfied: packaging>=20.0 in /usr/local/lib/python3.7/dist-packages (from transformers) (21.3)\n",
            "Requirement already satisfied: tokenizers!=0.11.3,<0.13,>=0.11.1 in /usr/local/lib/python3.7/dist-packages (from transformers) (0.12.1)\n",
            "Requirement already satisfied: regex!=2019.12.17 in /usr/local/lib/python3.7/dist-packages (from transformers) (2022.6.2)\n",
            "Requirement already satisfied: tqdm>=4.27 in /usr/local/lib/python3.7/dist-packages (from transformers) (4.64.0)\n",
            "Requirement already satisfied: typing-extensions>=3.7.4.3 in /usr/local/lib/python3.7/dist-packages (from huggingface-hub<1.0,>=0.1.0->transformers) (4.1.1)\n",
            "Requirement already satisfied: pyparsing!=3.0.5,>=2.0.2 in /usr/local/lib/python3.7/dist-packages (from packaging>=20.0->transformers) (3.0.9)\n",
            "Requirement already satisfied: zipp>=0.5 in /usr/local/lib/python3.7/dist-packages (from importlib-metadata->transformers) (3.8.0)\n",
            "Requirement already satisfied: urllib3!=1.25.0,!=1.25.1,<1.26,>=1.21.1 in /usr/local/lib/python3.7/dist-packages (from requests->transformers) (1.24.3)\n",
            "Requirement already satisfied: certifi>=2017.4.17 in /usr/local/lib/python3.7/dist-packages (from requests->transformers) (2022.6.15)\n",
            "Requirement already satisfied: idna<3,>=2.5 in /usr/local/lib/python3.7/dist-packages (from requests->transformers) (2.10)\n",
            "Requirement already satisfied: chardet<4,>=3.0.2 in /usr/local/lib/python3.7/dist-packages (from requests->transformers) (3.0.4)\n",
            "Looking in indexes: https://pypi.org/simple, https://us-python.pkg.dev/colab-wheels/public/simple/\n",
            "Requirement already satisfied: nltk in /usr/local/lib/python3.7/dist-packages (3.7)\n",
            "Requirement already satisfied: click in /usr/local/lib/python3.7/dist-packages (from nltk) (8.1.3)\n",
            "Requirement already satisfied: regex>=2021.8.3 in /usr/local/lib/python3.7/dist-packages (from nltk) (2022.6.2)\n",
            "Requirement already satisfied: joblib in /usr/local/lib/python3.7/dist-packages (from nltk) (1.1.0)\n",
            "Requirement already satisfied: tqdm in /usr/local/lib/python3.7/dist-packages (from nltk) (4.64.0)\n",
            "Requirement already satisfied: importlib-metadata in /usr/local/lib/python3.7/dist-packages (from click->nltk) (4.11.4)\n",
            "Requirement already satisfied: zipp>=0.5 in /usr/local/lib/python3.7/dist-packages (from importlib-metadata->click->nltk) (3.8.0)\n",
            "Requirement already satisfied: typing-extensions>=3.6.4 in /usr/local/lib/python3.7/dist-packages (from importlib-metadata->click->nltk) (4.1.1)\n",
            "Looking in indexes: https://pypi.org/simple, https://us-python.pkg.dev/colab-wheels/public/simple/\n",
            "Requirement already satisfied: PySastrawi in /usr/local/lib/python3.7/dist-packages (1.2.0)\n",
            "Looking in indexes: https://pypi.org/simple, https://us-python.pkg.dev/colab-wheels/public/simple/\n",
            "Requirement already satisfied: black[jupyter] in /usr/local/lib/python3.7/dist-packages (22.3.0)\n",
            "Requirement already satisfied: pathspec>=0.9.0 in /usr/local/lib/python3.7/dist-packages (from black[jupyter]) (0.9.0)\n",
            "Requirement already satisfied: tomli>=1.1.0 in /usr/local/lib/python3.7/dist-packages (from black[jupyter]) (2.0.1)\n",
            "Requirement already satisfied: typed-ast>=1.4.2 in /usr/local/lib/python3.7/dist-packages (from black[jupyter]) (1.5.4)\n",
            "Requirement already satisfied: platformdirs>=2 in /usr/local/lib/python3.7/dist-packages (from black[jupyter]) (2.5.2)\n",
            "Requirement already satisfied: mypy-extensions>=0.4.3 in /usr/local/lib/python3.7/dist-packages (from black[jupyter]) (0.4.3)\n",
            "Requirement already satisfied: click>=8.0.0 in /usr/local/lib/python3.7/dist-packages (from black[jupyter]) (8.1.3)\n",
            "Requirement already satisfied: typing-extensions>=3.10.0.0 in /usr/local/lib/python3.7/dist-packages (from black[jupyter]) (4.1.1)\n",
            "Requirement already satisfied: ipython>=7.8.0 in /usr/local/lib/python3.7/dist-packages (from black[jupyter]) (7.34.0)\n",
            "Requirement already satisfied: tokenize-rt>=3.2.0 in /usr/local/lib/python3.7/dist-packages (from black[jupyter]) (4.2.1)\n",
            "Requirement already satisfied: importlib-metadata in /usr/local/lib/python3.7/dist-packages (from click>=8.0.0->black[jupyter]) (4.11.4)\n",
            "Requirement already satisfied: pexpect>4.3 in /usr/local/lib/python3.7/dist-packages (from ipython>=7.8.0->black[jupyter]) (4.8.0)\n",
            "Requirement already satisfied: prompt-toolkit!=3.0.0,!=3.0.1,<3.1.0,>=2.0.0 in /usr/local/lib/python3.7/dist-packages (from ipython>=7.8.0->black[jupyter]) (3.0.29)\n",
            "Requirement already satisfied: backcall in /usr/local/lib/python3.7/dist-packages (from ipython>=7.8.0->black[jupyter]) (0.2.0)\n",
            "Requirement already satisfied: decorator in /usr/local/lib/python3.7/dist-packages (from ipython>=7.8.0->black[jupyter]) (4.4.2)\n",
            "Requirement already satisfied: pickleshare in /usr/local/lib/python3.7/dist-packages (from ipython>=7.8.0->black[jupyter]) (0.7.5)\n",
            "Requirement already satisfied: setuptools>=18.5 in /usr/local/lib/python3.7/dist-packages (from ipython>=7.8.0->black[jupyter]) (57.4.0)\n",
            "Requirement already satisfied: jedi>=0.16 in /usr/local/lib/python3.7/dist-packages (from ipython>=7.8.0->black[jupyter]) (0.18.1)\n",
            "Requirement already satisfied: traitlets>=4.2 in /usr/local/lib/python3.7/dist-packages (from ipython>=7.8.0->black[jupyter]) (5.1.1)\n",
            "Requirement already satisfied: matplotlib-inline in /usr/local/lib/python3.7/dist-packages (from ipython>=7.8.0->black[jupyter]) (0.1.3)\n",
            "Requirement already satisfied: pygments in /usr/local/lib/python3.7/dist-packages (from ipython>=7.8.0->black[jupyter]) (2.6.1)\n",
            "Requirement already satisfied: parso<0.9.0,>=0.8.0 in /usr/local/lib/python3.7/dist-packages (from jedi>=0.16->ipython>=7.8.0->black[jupyter]) (0.8.3)\n",
            "Requirement already satisfied: ptyprocess>=0.5 in /usr/local/lib/python3.7/dist-packages (from pexpect>4.3->ipython>=7.8.0->black[jupyter]) (0.7.0)\n",
            "Requirement already satisfied: wcwidth in /usr/local/lib/python3.7/dist-packages (from prompt-toolkit!=3.0.0,!=3.0.1,<3.1.0,>=2.0.0->ipython>=7.8.0->black[jupyter]) (0.2.5)\n",
            "Requirement already satisfied: zipp>=0.5 in /usr/local/lib/python3.7/dist-packages (from importlib-metadata->click>=8.0.0->black[jupyter]) (3.8.0)\n"
          ]
        }
      ],
      "source": [
        "!pip install imbalanced-learn\n",
        "!pip install transformers\n",
        "!pip install nltk\n",
        "!pip install PySastrawi\n",
        "!pip install black[jupyter]"
      ]
    },
    {
      "cell_type": "markdown",
      "metadata": {
        "id": "kjPyAzg3oSzx"
      },
      "source": [
        "## 1.2 Import Libraries"
      ]
    },
    {
      "cell_type": "markdown",
      "metadata": {
        "id": "ydeCT7TLUkRk"
      },
      "source": [
        "Clone the IndoNLU repository first"
      ]
    },
    {
      "cell_type": "code",
      "execution_count": 653,
      "metadata": {
        "colab": {
          "base_uri": "https://localhost:8080/"
        },
        "id": "szUB-h7uc_-x",
        "outputId": "019665ef-eb81-43be-b70d-b9ad410eaa45"
      },
      "outputs": [
        {
          "output_type": "stream",
          "name": "stdout",
          "text": [
            "fatal: destination path 'indonlu' already exists and is not an empty directory.\n"
          ]
        }
      ],
      "source": [
        "# indonlu repository forked from https://github.com/indobenchmark/indonlu\n",
        "!git clone https://github.com/ryzanugrah/indonlu"
      ]
    },
    {
      "cell_type": "markdown",
      "metadata": {
        "id": "PWVKHDs8U5kg"
      },
      "source": [
        "Then import the libraries"
      ]
    },
    {
      "cell_type": "code",
      "execution_count": 654,
      "metadata": {
        "colab": {
          "base_uri": "https://localhost:8080/"
        },
        "id": "o1aBqTVtdEpw",
        "outputId": "10f7f911-3f47-4244-abe6-a2d44e8710eb"
      },
      "outputs": [
        {
          "output_type": "stream",
          "name": "stdout",
          "text": [
            "CPU times: user 109 µs, sys: 45 µs, total: 154 µs\n",
            "Wall time: 158 µs\n"
          ]
        }
      ],
      "source": [
        "%%time\n",
        "\n",
        "import os\n",
        "import pickle\n",
        "import random\n",
        "\n",
        "from imblearn.over_sampling import SMOTE\n",
        "from sklearn.feature_extraction.text import TfidfVectorizer\n",
        "from sklearn.model_selection import train_test_split\n",
        "import tensorflow as tf\n",
        "import matplotlib.pyplot as plt\n",
        "import numpy as np\n",
        "import pandas as pd\n",
        "import re\n",
        "import seaborn as sns\n",
        "import torch\n",
        "import torch.nn.functional as F\n",
        "from google.colab import data_table, drive\n",
        "from indonlu.utils.data_utils import (\n",
        "    HateSpeechClassificationDataLoader,\n",
        "    MultiLabelHateSpeechClassificationDataset,\n",
        ")\n",
        "from indonlu.utils.forward_fn import forward_sequence_classification\n",
        "from indonlu.utils.metrics import multi_label_hate_speech_classification_metrics_fn\n",
        "from sklearn.metrics import classification_report, confusion_matrix, precision_score, accuracy_score, recall_score, f1_score\n",
        "from torch import optim\n",
        "from tqdm import tqdm\n",
        "from transformers import BertConfig, BertForSequenceClassification, BertTokenizer, AdamW\n",
        "from transformers.optimization import Adafactor\n",
        "\n",
        "import nltk\n",
        "from nltk.corpus import stopwords\n",
        "from nltk.tokenize import word_tokenize\n",
        "from Sastrawi.Stemmer.StemmerFactory import StemmerFactory"
      ]
    },
    {
      "cell_type": "markdown",
      "metadata": {
        "id": "0PrB9vKelK7e"
      },
      "source": [
        "## 1.3 Colab Configuration\n",
        "You can ignore this section if you are not using Google Colab"
      ]
    },
    {
      "cell_type": "code",
      "execution_count": 655,
      "metadata": {
        "colab": {
          "base_uri": "https://localhost:8080/"
        },
        "id": "WMxTujqZEhCI",
        "outputId": "3d2889a6-78b3-4562-85ea-bc830ec1df68"
      },
      "outputs": [
        {
          "output_type": "stream",
          "name": "stdout",
          "text": [
            "Drive already mounted at /content/drive; to attempt to forcibly remount, call drive.mount(\"/content/drive\", force_remount=True).\n"
          ]
        }
      ],
      "source": [
        "# mount Drive\n",
        "drive.mount(\"/content/drive\")\n",
        "\n",
        "# enable data table display (interactive table)\n",
        "data_table.enable_dataframe_formatter()"
      ]
    },
    {
      "cell_type": "markdown",
      "metadata": {
        "id": "nSU7yERLP_66"
      },
      "source": [
        "## 1.4 Using GPU for Training\n"
      ]
    },
    {
      "cell_type": "markdown",
      "metadata": {
        "id": "GI0iOY8zvZzL"
      },
      "source": [
        "You can use GPUs to run this training code. \n",
        "\n",
        "> First, you'll need to enable GPUs for the notebook. GPUs can be added by going to the menu and selecting:\n",
        "\n",
        "`Edit 🡒 Notebook Settings 🡒 Hardware accelerator 🡒 GPU`\n",
        "\n",
        "Then run the following cell to confirm that the GPU is detected."
      ]
    },
    {
      "cell_type": "code",
      "execution_count": 656,
      "metadata": {
        "colab": {
          "base_uri": "https://localhost:8080/"
        },
        "id": "DEfSbAA4QHas",
        "outputId": "908f91f2-4223-4645-b0ed-3383acd3fb4c"
      },
      "outputs": [
        {
          "output_type": "stream",
          "name": "stdout",
          "text": [
            "TensorFlow version: 2.8.2\n",
            "PyTorch version: 1.11.0+cu113\n",
            "Found GPU at: /device:GPU:0\n"
          ]
        }
      ],
      "source": [
        "# check Tensorflow version\n",
        "print('TensorFlow version: ' + tf.__version__)\n",
        "\n",
        "# check PyTorch version\n",
        "print('PyTorch version: ' + torch.__version__)\n",
        "\n",
        "# get the GPU device name\n",
        "device_name = tf.test.gpu_device_name()\n",
        "\n",
        "# the device name should look like the following\n",
        "if device_name != '/device:GPU:0':\n",
        "  print(\n",
        "      '\\n\\nThis error most likely means that this notebook is not '\n",
        "      'configured to use a GPU.  Change this in Notebook Settings via the '\n",
        "      'command palette (cmd/ctrl-shift-P) or the Edit menu.\\n\\n')\n",
        "  raise SystemError('GPU device not found')\n",
        "print('Found GPU at: {}'.format(device_name))"
      ]
    },
    {
      "cell_type": "markdown",
      "metadata": {
        "id": "cqG7FzRVFEIv"
      },
      "source": [
        "In order for torch to use the GPU, we need to identify and specify the GPU as the device. Later, in our training loop, we will load data onto the device. "
      ]
    },
    {
      "cell_type": "code",
      "execution_count": 657,
      "metadata": {
        "colab": {
          "base_uri": "https://localhost:8080/"
        },
        "id": "oYsV4H8fCpZ-",
        "outputId": "934bb958-313c-420a-bbb1-b9df2a960027"
      },
      "outputs": [
        {
          "output_type": "stream",
          "name": "stdout",
          "text": [
            "There are 1 GPU(s) available.\n",
            "GPU: Tesla T4\n"
          ]
        }
      ],
      "source": [
        "# if there's a GPU available\n",
        "if torch.cuda.is_available():\n",
        "    # Tell PyTorch to use the GPU.    \n",
        "    device = torch.device(\"cuda\")\n",
        "\n",
        "    print('There are %d GPU(s) available.' % torch.cuda.device_count())\n",
        "\n",
        "    print('GPU:', torch.cuda.get_device_name(0))\n",
        "\n",
        "# if not\n",
        "else:\n",
        "    print('No GPU available.')\n",
        "    device = torch.device(\"cpu\")"
      ]
    },
    {
      "cell_type": "markdown",
      "metadata": {
        "id": "zdKeyvogBDc6"
      },
      "source": [
        "## 1.5 Configuration"
      ]
    },
    {
      "cell_type": "markdown",
      "metadata": {
        "id": "obGvQrFgDwaM"
      },
      "source": [
        "Set global variable, parameters, and hyperparameters used (Hyperparameter Tuning)"
      ]
    },
    {
      "cell_type": "code",
      "execution_count": 658,
      "metadata": {
        "id": "BL7C3NWABZIR"
      },
      "outputs": [],
      "source": [
        "batch_size=32 # batch size\n",
        "lr=3e-5 # learning rate\n",
        "epochs=4 # epochs\n",
        "attention_probs_dropout_prob=0.1 # dropout\n",
        "hidden_dropout_prob=0.1 # dropout\n",
        "\n",
        "max_seq_len=512 # maximum length\n",
        "num_labels=4 # number of labels\n",
        "num_workers=2 # number of workers // set lower for faster training\n",
        "eps=1e-8 # epsilon\n",
        "weight_decay=1e-2 #weight decay\n",
        "\n",
        "random_state=0"
      ]
    },
    {
      "cell_type": "markdown",
      "metadata": {
        "id": "jSObCeNAowSa"
      },
      "source": [
        "## 1.6 Set Random Seed"
      ]
    },
    {
      "cell_type": "code",
      "execution_count": 659,
      "metadata": {
        "id": "h6r9OaZUfBwd"
      },
      "outputs": [],
      "source": [
        "# common functions\n",
        "def set_seed(seed):\n",
        "  random.seed(seed)\n",
        "  np.random.seed(seed)\n",
        "  torch.manual_seed(seed)\n",
        "  torch.cuda.manual_seed(seed)\n",
        "    \n",
        "# count number of parameters  \n",
        "def count_param(module, trainable=False):\n",
        "  if trainable:\n",
        "    return sum(p.numel() for p in module.parameters() if p.requires_grad)\n",
        "  else:\n",
        "    return sum(p.numel() for p in module.parameters())\n",
        "\n",
        "# get the learning rate\n",
        "def get_lr(optimizer):\n",
        "  for param_group in optimizer.param_groups:\n",
        "    return param_group['lr']\n",
        "\n",
        "# change from metrics evaluation to string\n",
        "def metrics_to_string(metric_dict):\n",
        "  string_list = []\n",
        "  \n",
        "  for key, value in metric_dict.items():\n",
        "    string_list.append('{}:{:.2f}'.format(key, value))\n",
        "  return ' '.join(string_list)\n",
        "\n",
        "# set the seed value all over the place to make this reproducible\n",
        "set_seed(0)"
      ]
    },
    {
      "cell_type": "markdown",
      "metadata": {
        "id": "HiEg8UhwHCA0"
      },
      "source": [
        "# 2. Load Dataset"
      ]
    },
    {
      "cell_type": "markdown",
      "metadata": {
        "id": "223_0ZXNLF6k"
      },
      "source": [
        "## 2.1 Import Dataset"
      ]
    },
    {
      "cell_type": "code",
      "execution_count": 660,
      "metadata": {
        "colab": {
          "base_uri": "https://localhost:8080/"
        },
        "id": "2Aio106gHc3R",
        "outputId": "a24b4338-039f-4d02-f923-d17f4dca4796"
      },
      "outputs": [
        {
          "output_type": "stream",
          "name": "stdout",
          "text": [
            "Dataset successfully imported\n"
          ]
        }
      ],
      "source": [
        "# import dataset, forked dataset from (Ibrohim & Budi, 2019)\n",
        "# raw data from 'https://raw.githubusercontent.com/okkyibrohim/id-multi-label-hate-speech-and-abusive-language-detection/master/re_dataset.csv'\n",
        "df = \"https://raw.githubusercontent.com/ryzanugrah/id-multi-label-hate-speech-and-abusive-language-detection/master/re_multi_label_dataset.csv\"\n",
        "df = pd.read_csv(df, encoding=\"utf-8\")\n",
        "df.rename({'Tweet': 'text'}, axis=1, inplace=True)\n",
        "\n",
        "print('Dataset successfully imported')"
      ]
    },
    {
      "cell_type": "code",
      "execution_count": 661,
      "metadata": {
        "colab": {
          "base_uri": "https://localhost:8080/"
        },
        "id": "e1-rLGiWU-rN",
        "outputId": "86110e06-a8d9-4c44-eeb5-0aa4c7491e87"
      },
      "outputs": [
        {
          "output_type": "stream",
          "name": "stdout",
          "text": [
            "<class 'pandas.core.frame.DataFrame'>\n",
            "RangeIndex: 13169 entries, 0 to 13168\n",
            "Data columns (total 5 columns):\n",
            " #   Column       Non-Null Count  Dtype \n",
            "---  ------       --------------  ----- \n",
            " 0   text         13169 non-null  object\n",
            " 1   HS           13169 non-null  int64 \n",
            " 2   HS_Weak      13169 non-null  int64 \n",
            " 3   HS_Moderate  13169 non-null  int64 \n",
            " 4   HS_Strong    13169 non-null  int64 \n",
            "dtypes: int64(4), object(1)\n",
            "memory usage: 514.5+ KB\n"
          ]
        }
      ],
      "source": [
        "# check how many records are in the dataset\n",
        "df.info()"
      ]
    },
    {
      "cell_type": "code",
      "execution_count": 662,
      "metadata": {
        "colab": {
          "base_uri": "https://localhost:8080/",
          "height": 231
        },
        "id": "4MdBuJdRJDqj",
        "outputId": "0074d62d-ef6f-4bf6-a652-33930ef02b98"
      },
      "outputs": [
        {
          "output_type": "stream",
          "name": "stdout",
          "text": [
            "Number of Data:  (13169, 5)\n"
          ]
        },
        {
          "output_type": "execute_result",
          "data": {
            "text/plain": [
              "                                                text  HS  HS_Weak  \\\n",
              "0  - disaat semua cowok berusaha melacak perhatia...   1        1   \n",
              "1  RT USER: USER siapa yang telat ngasih tau elu?...   1        0   \n",
              "2  41. Kadang aku berfikir, kenapa aku tetap perc...   0        0   \n",
              "3  USER USER AKU ITU AKU\\n\\nKU TAU MATAMU SIPIT T...   0        0   \n",
              "4  USER USER Kaum cebong kapir udah keliatan dong...   1        0   \n",
              "\n",
              "   HS_Moderate  HS_Strong  \n",
              "0            0          0  \n",
              "1            0          1  \n",
              "2            0          0  \n",
              "3            0          0  \n",
              "4            1          0  "
            ],
            "text/html": [
              "\n",
              "  <div id=\"df-c4e1b172-b963-480d-b806-bf14e35f8acb\">\n",
              "    <div class=\"colab-df-container\">\n",
              "      <div>\n",
              "<style scoped>\n",
              "    .dataframe tbody tr th:only-of-type {\n",
              "        vertical-align: middle;\n",
              "    }\n",
              "\n",
              "    .dataframe tbody tr th {\n",
              "        vertical-align: top;\n",
              "    }\n",
              "\n",
              "    .dataframe thead th {\n",
              "        text-align: right;\n",
              "    }\n",
              "</style>\n",
              "<table border=\"1\" class=\"dataframe\">\n",
              "  <thead>\n",
              "    <tr style=\"text-align: right;\">\n",
              "      <th></th>\n",
              "      <th>text</th>\n",
              "      <th>HS</th>\n",
              "      <th>HS_Weak</th>\n",
              "      <th>HS_Moderate</th>\n",
              "      <th>HS_Strong</th>\n",
              "    </tr>\n",
              "  </thead>\n",
              "  <tbody>\n",
              "    <tr>\n",
              "      <th>0</th>\n",
              "      <td>- disaat semua cowok berusaha melacak perhatia...</td>\n",
              "      <td>1</td>\n",
              "      <td>1</td>\n",
              "      <td>0</td>\n",
              "      <td>0</td>\n",
              "    </tr>\n",
              "    <tr>\n",
              "      <th>1</th>\n",
              "      <td>RT USER: USER siapa yang telat ngasih tau elu?...</td>\n",
              "      <td>1</td>\n",
              "      <td>0</td>\n",
              "      <td>0</td>\n",
              "      <td>1</td>\n",
              "    </tr>\n",
              "    <tr>\n",
              "      <th>2</th>\n",
              "      <td>41. Kadang aku berfikir, kenapa aku tetap perc...</td>\n",
              "      <td>0</td>\n",
              "      <td>0</td>\n",
              "      <td>0</td>\n",
              "      <td>0</td>\n",
              "    </tr>\n",
              "    <tr>\n",
              "      <th>3</th>\n",
              "      <td>USER USER AKU ITU AKU\\n\\nKU TAU MATAMU SIPIT T...</td>\n",
              "      <td>0</td>\n",
              "      <td>0</td>\n",
              "      <td>0</td>\n",
              "      <td>0</td>\n",
              "    </tr>\n",
              "    <tr>\n",
              "      <th>4</th>\n",
              "      <td>USER USER Kaum cebong kapir udah keliatan dong...</td>\n",
              "      <td>1</td>\n",
              "      <td>0</td>\n",
              "      <td>1</td>\n",
              "      <td>0</td>\n",
              "    </tr>\n",
              "  </tbody>\n",
              "</table>\n",
              "</div>\n",
              "      <button class=\"colab-df-convert\" onclick=\"convertToInteractive('df-c4e1b172-b963-480d-b806-bf14e35f8acb')\"\n",
              "              title=\"Convert this dataframe to an interactive table.\"\n",
              "              style=\"display:none;\">\n",
              "        \n",
              "  <svg xmlns=\"http://www.w3.org/2000/svg\" height=\"24px\"viewBox=\"0 0 24 24\"\n",
              "       width=\"24px\">\n",
              "    <path d=\"M0 0h24v24H0V0z\" fill=\"none\"/>\n",
              "    <path d=\"M18.56 5.44l.94 2.06.94-2.06 2.06-.94-2.06-.94-.94-2.06-.94 2.06-2.06.94zm-11 1L8.5 8.5l.94-2.06 2.06-.94-2.06-.94L8.5 2.5l-.94 2.06-2.06.94zm10 10l.94 2.06.94-2.06 2.06-.94-2.06-.94-.94-2.06-.94 2.06-2.06.94z\"/><path d=\"M17.41 7.96l-1.37-1.37c-.4-.4-.92-.59-1.43-.59-.52 0-1.04.2-1.43.59L10.3 9.45l-7.72 7.72c-.78.78-.78 2.05 0 2.83L4 21.41c.39.39.9.59 1.41.59.51 0 1.02-.2 1.41-.59l7.78-7.78 2.81-2.81c.8-.78.8-2.07 0-2.86zM5.41 20L4 18.59l7.72-7.72 1.47 1.35L5.41 20z\"/>\n",
              "  </svg>\n",
              "      </button>\n",
              "      \n",
              "  <style>\n",
              "    .colab-df-container {\n",
              "      display:flex;\n",
              "      flex-wrap:wrap;\n",
              "      gap: 12px;\n",
              "    }\n",
              "\n",
              "    .colab-df-convert {\n",
              "      background-color: #E8F0FE;\n",
              "      border: none;\n",
              "      border-radius: 50%;\n",
              "      cursor: pointer;\n",
              "      display: none;\n",
              "      fill: #1967D2;\n",
              "      height: 32px;\n",
              "      padding: 0 0 0 0;\n",
              "      width: 32px;\n",
              "    }\n",
              "\n",
              "    .colab-df-convert:hover {\n",
              "      background-color: #E2EBFA;\n",
              "      box-shadow: 0px 1px 2px rgba(60, 64, 67, 0.3), 0px 1px 3px 1px rgba(60, 64, 67, 0.15);\n",
              "      fill: #174EA6;\n",
              "    }\n",
              "\n",
              "    [theme=dark] .colab-df-convert {\n",
              "      background-color: #3B4455;\n",
              "      fill: #D2E3FC;\n",
              "    }\n",
              "\n",
              "    [theme=dark] .colab-df-convert:hover {\n",
              "      background-color: #434B5C;\n",
              "      box-shadow: 0px 1px 3px 1px rgba(0, 0, 0, 0.15);\n",
              "      filter: drop-shadow(0px 1px 2px rgba(0, 0, 0, 0.3));\n",
              "      fill: #FFFFFF;\n",
              "    }\n",
              "  </style>\n",
              "\n",
              "      <script>\n",
              "        const buttonEl =\n",
              "          document.querySelector('#df-c4e1b172-b963-480d-b806-bf14e35f8acb button.colab-df-convert');\n",
              "        buttonEl.style.display =\n",
              "          google.colab.kernel.accessAllowed ? 'block' : 'none';\n",
              "\n",
              "        async function convertToInteractive(key) {\n",
              "          const element = document.querySelector('#df-c4e1b172-b963-480d-b806-bf14e35f8acb');\n",
              "          const dataTable =\n",
              "            await google.colab.kernel.invokeFunction('convertToInteractive',\n",
              "                                                     [key], {});\n",
              "          if (!dataTable) return;\n",
              "\n",
              "          const docLinkHtml = 'Like what you see? Visit the ' +\n",
              "            '<a target=\"_blank\" href=https://colab.research.google.com/notebooks/data_table.ipynb>data table notebook</a>'\n",
              "            + ' to learn more about interactive tables.';\n",
              "          element.innerHTML = '';\n",
              "          dataTable['output_type'] = 'display_data';\n",
              "          await google.colab.output.renderOutput(dataTable, element);\n",
              "          const docLink = document.createElement('div');\n",
              "          docLink.innerHTML = docLinkHtml;\n",
              "          element.appendChild(docLink);\n",
              "        }\n",
              "      </script>\n",
              "    </div>\n",
              "  </div>\n",
              "  "
            ],
            "application/vnd.google.colaboratory.module+javascript": "\n      import \"https://ssl.gstatic.com/colaboratory/data_table/f872b2c2305463fd/data_table.js\";\n\n      window.createDataTable({\n        data: [[{\n            'v': 0,\n            'f': \"0\",\n        },\n\"- disaat semua cowok berusaha melacak perhatian gue. loe lantas remehkan perhatian yg gue kasih khusus ke elo. basic elo cowok bego ! ! !'\",\n{\n            'v': 1,\n            'f': \"1\",\n        },\n{\n            'v': 1,\n            'f': \"1\",\n        },\n{\n            'v': 0,\n            'f': \"0\",\n        },\n{\n            'v': 0,\n            'f': \"0\",\n        }],\n [{\n            'v': 1,\n            'f': \"1\",\n        },\n\"RT USER: USER siapa yang telat ngasih tau elu?edan sarap gue bergaul dengan cigax jifla calis sama siapa noh licew juga'\",\n{\n            'v': 1,\n            'f': \"1\",\n        },\n{\n            'v': 0,\n            'f': \"0\",\n        },\n{\n            'v': 0,\n            'f': \"0\",\n        },\n{\n            'v': 1,\n            'f': \"1\",\n        }],\n [{\n            'v': 2,\n            'f': \"2\",\n        },\n\"41. Kadang aku berfikir, kenapa aku tetap percaya pada Tuhan padahal aku selalu jatuh berkali-kali. Kadang aku merasa Tuhan itu ninggalkan aku sendirian. Ketika orangtuaku berencana berpisah, ketika kakakku lebih memilih jadi Kristen. Ketika aku anak ter\",\n{\n            'v': 0,\n            'f': \"0\",\n        },\n{\n            'v': 0,\n            'f': \"0\",\n        },\n{\n            'v': 0,\n            'f': \"0\",\n        },\n{\n            'v': 0,\n            'f': \"0\",\n        }],\n [{\n            'v': 3,\n            'f': \"3\",\n        },\n\"USER USER AKU ITU AKU\\\\n\\\\nKU TAU MATAMU SIPIT TAPI DILIAT DARI MANA ITU AKU'\",\n{\n            'v': 0,\n            'f': \"0\",\n        },\n{\n            'v': 0,\n            'f': \"0\",\n        },\n{\n            'v': 0,\n            'f': \"0\",\n        },\n{\n            'v': 0,\n            'f': \"0\",\n        }],\n [{\n            'v': 4,\n            'f': \"4\",\n        },\n\"USER USER Kaum cebong kapir udah keliatan dongoknya dari awal tambah dongok lagi hahahah'\",\n{\n            'v': 1,\n            'f': \"1\",\n        },\n{\n            'v': 0,\n            'f': \"0\",\n        },\n{\n            'v': 1,\n            'f': \"1\",\n        },\n{\n            'v': 0,\n            'f': \"0\",\n        }]],\n        columns: [[\"number\", \"index\"], [\"string\", \"text\"], [\"number\", \"HS\"], [\"number\", \"HS_Weak\"], [\"number\", \"HS_Moderate\"], [\"number\", \"HS_Strong\"]],\n        columnOptions: [{\"width\": \"1px\", \"className\": \"index_column\"}],\n        rowsPerPage: 25,\n        helpUrl: \"https://colab.research.google.com/notebooks/data_table.ipynb\",\n        suppressOutputScrolling: true,\n        minimumWidth: undefined,\n      });\n    "
          },
          "metadata": {},
          "execution_count": 662
        }
      ],
      "source": [
        "# show the first 5 dataset rows\n",
        "print(\"Number of Data: \", df.shape)\n",
        "df.head()"
      ]
    },
    {
      "cell_type": "markdown",
      "metadata": {
        "id": "CN2Z_0SnKyeQ"
      },
      "source": [
        "## 2.2 Show Data on Chart"
      ]
    },
    {
      "cell_type": "markdown",
      "metadata": {
        "id": "mHPdOysf8uY2"
      },
      "source": [
        "### Histogram"
      ]
    },
    {
      "cell_type": "code",
      "execution_count": 663,
      "metadata": {
        "colab": {
          "base_uri": "https://localhost:8080/",
          "height": 344
        },
        "id": "BkYXzkt257t0",
        "outputId": "020dfa69-011e-49c4-88d5-aa8796d340bc"
      },
      "outputs": [
        {
          "output_type": "execute_result",
          "data": {
            "text/plain": [
              "1    7309\n",
              "0    5860\n",
              "Name: HS, dtype: int64"
            ]
          },
          "metadata": {},
          "execution_count": 663
        },
        {
          "output_type": "display_data",
          "data": {
            "text/plain": [
              "<Figure size 432x288 with 1 Axes>"
            ],
            "image/png": "[encoded data removed]"
          },
          "metadata": {
            "needs_background": "light"
          }
        }
      ],
      "source": [
        "pd.value_counts(df[\"HS\"]).plot.bar()\n",
        "plt.title(\"Label Comparison\")\n",
        "plt.xlabel(\"Label\")\n",
        "plt.ylabel(\"Count\")\n",
        "\n",
        "# if you want to save this chart, uncomment line below\n",
        "# plt.savefig('label_histogram', dpi=300)\n",
        "\n",
        "df[\"HS\"].value_counts()"
      ]
    },
    {
      "cell_type": "markdown",
      "metadata": {
        "id": "tZYU7xYS8xKr"
      },
      "source": [
        "### Donut Chart"
      ]
    },
    {
      "cell_type": "code",
      "execution_count": 664,
      "metadata": {
        "colab": {
          "base_uri": "https://localhost:8080/",
          "height": 1000
        },
        "id": "Fcm-usfjl-ds",
        "outputId": "504da1ac-b9e9-44e2-949f-3b361661cf89"
      },
      "outputs": [
        {
          "output_type": "stream",
          "name": "stdout",
          "text": [
            "  agg_filter: a filter function, which takes a (m, n, 3) float array and a dpi value, and returns a (m, n, 3) array\n",
            "  alpha: float or None\n",
            "  animated: bool\n",
            "  antialiased or aa: unknown\n",
            "  capstyle: {'butt', 'round', 'projecting'}\n",
            "  center: unknown\n",
            "  clip_box: `.Bbox`\n",
            "  clip_on: bool\n",
            "  clip_path: Patch or (Path, Transform) or None\n",
            "  color: color\n",
            "  contains: callable\n",
            "  edgecolor or ec: color or None or 'auto'\n",
            "  facecolor or fc: color or None\n",
            "  figure: `.Figure`\n",
            "  fill: bool\n",
            "  gid: str\n",
            "  hatch: {'/', '\\\\', '|', '-', '+', 'x', 'o', 'O', '.', '*'}\n",
            "  in_layout: bool\n",
            "  joinstyle: {'miter', 'round', 'bevel'}\n",
            "  label: object\n",
            "  linestyle or ls: {'-', '--', '-.', ':', '', (offset, on-off-seq), ...}\n",
            "  linewidth or lw: float or None\n",
            "  path_effects: `.AbstractPathEffect`\n",
            "  picker: None or bool or float or callable\n",
            "  radius: unknown\n",
            "  rasterized: bool or None\n",
            "  sketch_params: (scale: float, length: float, randomness: float)\n",
            "  snap: bool or None\n",
            "  theta1: unknown\n",
            "  theta2: unknown\n",
            "  transform: `.Transform`\n",
            "  url: str\n",
            "  visible: bool\n",
            "  width: unknown\n",
            "  zorder: float\n",
            "  agg_filter: a filter function, which takes a (m, n, 3) float array and a dpi value, and returns a (m, n, 3) array\n",
            "  alpha: float or None\n",
            "  animated: bool\n",
            "  antialiased or aa: unknown\n",
            "  capstyle: {'butt', 'round', 'projecting'}\n",
            "  center: unknown\n",
            "  clip_box: `.Bbox`\n",
            "  clip_on: bool\n",
            "  clip_path: Patch or (Path, Transform) or None\n",
            "  color: color\n",
            "  contains: callable\n",
            "  edgecolor or ec: color or None or 'auto'\n",
            "  facecolor or fc: color or None\n",
            "  figure: `.Figure`\n",
            "  fill: bool\n",
            "  gid: str\n",
            "  hatch: {'/', '\\\\', '|', '-', '+', 'x', 'o', 'O', '.', '*'}\n",
            "  in_layout: bool\n",
            "  joinstyle: {'miter', 'round', 'bevel'}\n",
            "  label: object\n",
            "  linestyle or ls: {'-', '--', '-.', ':', '', (offset, on-off-seq), ...}\n",
            "  linewidth or lw: float or None\n",
            "  path_effects: `.AbstractPathEffect`\n",
            "  picker: None or bool or float or callable\n",
            "  radius: unknown\n",
            "  rasterized: bool or None\n",
            "  sketch_params: (scale: float, length: float, randomness: float)\n",
            "  snap: bool or None\n",
            "  theta1: unknown\n",
            "  theta2: unknown\n",
            "  transform: `.Transform`\n",
            "  url: str\n",
            "  visible: bool\n",
            "  width: unknown\n",
            "  zorder: float\n"
          ]
        },
        {
          "output_type": "stream",
          "name": "stderr",
          "text": [
            "/usr/local/lib/python3.7/dist-packages/ipykernel_launcher.py:27: MatplotlibDeprecationWarning: Non-1D inputs to pie() are currently squeeze()d, but this behavior is deprecated since 3.1 and will be removed in 3.3; pass a 1D array instead.\n"
          ]
        },
        {
          "output_type": "display_data",
          "data": {
            "text/plain": [
              "<Figure size 1440x720 with 1 Axes>"
            ],
            "image/png": "[encoded data removed]"
          },
          "metadata": {}
        }
      ],
      "source": [
        "def show_pie(inner_label, outer_label, inner_df, outer_df, legend_title):\n",
        "    fig, ax = plt.subplots(figsize=(20, 10), subplot_kw=dict(aspect=\"equal\"))\n",
        "    width = 0.3\n",
        "    labels = [x.split()[-1] for x in inner_label]\n",
        "\n",
        "    def func(pct, allvals):\n",
        "        absolute = int(round(pct / 100.0 * np.sum(allvals)))\n",
        "        return \"{:.1f}% ({:d})\".format(pct, absolute)\n",
        "\n",
        "    # inner pie\n",
        "    inner_pie = ax.pie(\n",
        "        inner_df,\n",
        "        autopct=lambda pct: func(pct, inner_df),\n",
        "        textprops=dict(color=\"white\", weight=\"bold\"),\n",
        "        pctdistance=0.55,\n",
        "        wedgeprops={\"width\": 0.6, \"edgecolor\": \"white\"},\n",
        "    )\n",
        "    plt.setp(inner_pie)\n",
        "\n",
        "    # outer pie\n",
        "    outer_pie = ax.pie(\n",
        "        outer_df,\n",
        "        autopct=lambda pct: func(pct, outer_df),\n",
        "        textprops=dict(color=\"white\", weight=\"bold\"),\n",
        "        pctdistance=0.85,\n",
        "        wedgeprops={\"width\": 0.3, \"edgecolor\": \"white\"},\n",
        "        startangle=160,\n",
        "    )\n",
        "    plt.setp(outer_pie)\n",
        "\n",
        "    # set legend label\n",
        "    ax.legend(\n",
        "        labels, title=legend_title, loc=\"center left\", bbox_to_anchor=(1, 0, 0.5, 1)\n",
        "    )\n",
        "\n",
        "    ax.set_title(\"Label Comparison\")\n",
        "\n",
        "    # show chart\n",
        "    plt.tight_layout()\n",
        "    plt.show()\n",
        "\n",
        "\n",
        "# count value on each label\n",
        "hs_label = df.HS.value_counts()\n",
        "non_hs_label = df.loc[df.HS == 0, \"HS\"].count()\n",
        "hs_weak_label = df.loc[df.HS_Weak == 1, \"HS_Weak\"].count()\n",
        "hs_moderate_label = df.loc[df.HS_Moderate == 1, \"HS_Moderate\"].count()\n",
        "hs_strong_label = df.loc[df.HS_Strong == 1, \"HS_Strong\"].count()\n",
        "\n",
        "inner_label = [\"Non_HS\", \"HS_Weak\", \"HS_Moderate\", \"HS_Strong\"]\n",
        "outer_label = [\"HS\", \"Non_HS\"]\n",
        "count_inner_data = [non_hs_label, hs_weak_label, hs_moderate_label, hs_strong_label]\n",
        "count_outer_data = [hs_label]\n",
        "\n",
        "show_pie(inner_label, outer_label, count_inner_data, count_outer_data, \"Label\")"
      ]
    },
    {
      "cell_type": "markdown",
      "metadata": {
        "id": "cWkTUwRvMvD4"
      },
      "source": [
        "## 2.3 Import Slang Dictionary"
      ]
    },
    {
      "cell_type": "code",
      "execution_count": 665,
      "metadata": {
        "colab": {
          "base_uri": "https://localhost:8080/",
          "height": 215
        },
        "id": "3MXZP2sMIf8o",
        "outputId": "1462ebb8-2075-4860-8d97-0839f52ee188"
      },
      "outputs": [
        {
          "output_type": "stream",
          "name": "stdout",
          "text": [
            "Number of Data:  (15167, 2)\n"
          ]
        },
        {
          "output_type": "execute_result",
          "data": {
            "text/plain": [
              "              original               replacement\n",
              "0  anakjakartaasikasik  anak jakarta asyik asyik\n",
              "1         pakcikdahtua         pak cik sudah tua\n",
              "2       pakcikmudalagi         pak cik muda lagi\n",
              "3          t3tapjokowi              tetap jokowi\n",
              "4                   3x                 tiga kali"
            ],
            "text/html": [
              "\n",
              "  <div id=\"df-335570d8-eb6b-464a-b66d-eac28c9b630e\">\n",
              "    <div class=\"colab-df-container\">\n",
              "      <div>\n",
              "<style scoped>\n",
              "    .dataframe tbody tr th:only-of-type {\n",
              "        vertical-align: middle;\n",
              "    }\n",
              "\n",
              "    .dataframe tbody tr th {\n",
              "        vertical-align: top;\n",
              "    }\n",
              "\n",
              "    .dataframe thead th {\n",
              "        text-align: right;\n",
              "    }\n",
              "</style>\n",
              "<table border=\"1\" class=\"dataframe\">\n",
              "  <thead>\n",
              "    <tr style=\"text-align: right;\">\n",
              "      <th></th>\n",
              "      <th>original</th>\n",
              "      <th>replacement</th>\n",
              "    </tr>\n",
              "  </thead>\n",
              "  <tbody>\n",
              "    <tr>\n",
              "      <th>0</th>\n",
              "      <td>anakjakartaasikasik</td>\n",
              "      <td>anak jakarta asyik asyik</td>\n",
              "    </tr>\n",
              "    <tr>\n",
              "      <th>1</th>\n",
              "      <td>pakcikdahtua</td>\n",
              "      <td>pak cik sudah tua</td>\n",
              "    </tr>\n",
              "    <tr>\n",
              "      <th>2</th>\n",
              "      <td>pakcikmudalagi</td>\n",
              "      <td>pak cik muda lagi</td>\n",
              "    </tr>\n",
              "    <tr>\n",
              "      <th>3</th>\n",
              "      <td>t3tapjokowi</td>\n",
              "      <td>tetap jokowi</td>\n",
              "    </tr>\n",
              "    <tr>\n",
              "      <th>4</th>\n",
              "      <td>3x</td>\n",
              "      <td>tiga kali</td>\n",
              "    </tr>\n",
              "  </tbody>\n",
              "</table>\n",
              "</div>\n",
              "      <button class=\"colab-df-convert\" onclick=\"convertToInteractive('df-335570d8-eb6b-464a-b66d-eac28c9b630e')\"\n",
              "              title=\"Convert this dataframe to an interactive table.\"\n",
              "              style=\"display:none;\">\n",
              "        \n",
              "  <svg xmlns=\"http://www.w3.org/2000/svg\" height=\"24px\"viewBox=\"0 0 24 24\"\n",
              "       width=\"24px\">\n",
              "    <path d=\"M0 0h24v24H0V0z\" fill=\"none\"/>\n",
              "    <path d=\"M18.56 5.44l.94 2.06.94-2.06 2.06-.94-2.06-.94-.94-2.06-.94 2.06-2.06.94zm-11 1L8.5 8.5l.94-2.06 2.06-.94-2.06-.94L8.5 2.5l-.94 2.06-2.06.94zm10 10l.94 2.06.94-2.06 2.06-.94-2.06-.94-.94-2.06-.94 2.06-2.06.94z\"/><path d=\"M17.41 7.96l-1.37-1.37c-.4-.4-.92-.59-1.43-.59-.52 0-1.04.2-1.43.59L10.3 9.45l-7.72 7.72c-.78.78-.78 2.05 0 2.83L4 21.41c.39.39.9.59 1.41.59.51 0 1.02-.2 1.41-.59l7.78-7.78 2.81-2.81c.8-.78.8-2.07 0-2.86zM5.41 20L4 18.59l7.72-7.72 1.47 1.35L5.41 20z\"/>\n",
              "  </svg>\n",
              "      </button>\n",
              "      \n",
              "  <style>\n",
              "    .colab-df-container {\n",
              "      display:flex;\n",
              "      flex-wrap:wrap;\n",
              "      gap: 12px;\n",
              "    }\n",
              "\n",
              "    .colab-df-convert {\n",
              "      background-color: #E8F0FE;\n",
              "      border: none;\n",
              "      border-radius: 50%;\n",
              "      cursor: pointer;\n",
              "      display: none;\n",
              "      fill: #1967D2;\n",
              "      height: 32px;\n",
              "      padding: 0 0 0 0;\n",
              "      width: 32px;\n",
              "    }\n",
              "\n",
              "    .colab-df-convert:hover {\n",
              "      background-color: #E2EBFA;\n",
              "      box-shadow: 0px 1px 2px rgba(60, 64, 67, 0.3), 0px 1px 3px 1px rgba(60, 64, 67, 0.15);\n",
              "      fill: #174EA6;\n",
              "    }\n",
              "\n",
              "    [theme=dark] .colab-df-convert {\n",
              "      background-color: #3B4455;\n",
              "      fill: #D2E3FC;\n",
              "    }\n",
              "\n",
              "    [theme=dark] .colab-df-convert:hover {\n",
              "      background-color: #434B5C;\n",
              "      box-shadow: 0px 1px 3px 1px rgba(0, 0, 0, 0.15);\n",
              "      filter: drop-shadow(0px 1px 2px rgba(0, 0, 0, 0.3));\n",
              "      fill: #FFFFFF;\n",
              "    }\n",
              "  </style>\n",
              "\n",
              "      <script>\n",
              "        const buttonEl =\n",
              "          document.querySelector('#df-335570d8-eb6b-464a-b66d-eac28c9b630e button.colab-df-convert');\n",
              "        buttonEl.style.display =\n",
              "          google.colab.kernel.accessAllowed ? 'block' : 'none';\n",
              "\n",
              "        async function convertToInteractive(key) {\n",
              "          const element = document.querySelector('#df-335570d8-eb6b-464a-b66d-eac28c9b630e');\n",
              "          const dataTable =\n",
              "            await google.colab.kernel.invokeFunction('convertToInteractive',\n",
              "                                                     [key], {});\n",
              "          if (!dataTable) return;\n",
              "\n",
              "          const docLinkHtml = 'Like what you see? Visit the ' +\n",
              "            '<a target=\"_blank\" href=https://colab.research.google.com/notebooks/data_table.ipynb>data table notebook</a>'\n",
              "            + ' to learn more about interactive tables.';\n",
              "          element.innerHTML = '';\n",
              "          dataTable['output_type'] = 'display_data';\n",
              "          await google.colab.output.renderOutput(dataTable, element);\n",
              "          const docLink = document.createElement('div');\n",
              "          docLink.innerHTML = docLinkHtml;\n",
              "          element.appendChild(docLink);\n",
              "        }\n",
              "      </script>\n",
              "    </div>\n",
              "  </div>\n",
              "  "
            ],
            "application/vnd.google.colaboratory.module+javascript": "\n      import \"https://ssl.gstatic.com/colaboratory/data_table/f872b2c2305463fd/data_table.js\";\n\n      window.createDataTable({\n        data: [[{\n            'v': 0,\n            'f': \"0\",\n        },\n\"anakjakartaasikasik\",\n\"anak jakarta asyik asyik\"],\n [{\n            'v': 1,\n            'f': \"1\",\n        },\n\"pakcikdahtua\",\n\"pak cik sudah tua\"],\n [{\n            'v': 2,\n            'f': \"2\",\n        },\n\"pakcikmudalagi\",\n\"pak cik muda lagi\"],\n [{\n            'v': 3,\n            'f': \"3\",\n        },\n\"t3tapjokowi\",\n\"tetap jokowi\"],\n [{\n            'v': 4,\n            'f': \"4\",\n        },\n\"3x\",\n\"tiga kali\"]],\n        columns: [[\"number\", \"index\"], [\"string\", \"original\"], [\"string\", \"replacement\"]],\n        columnOptions: [{\"width\": \"1px\", \"className\": \"index_column\"}],\n        rowsPerPage: 25,\n        helpUrl: \"https://colab.research.google.com/notebooks/data_table.ipynb\",\n        suppressOutputScrolling: true,\n        minimumWidth: undefined,\n      });\n    "
          },
          "metadata": {},
          "execution_count": 665
        }
      ],
      "source": [
        "# import kamus alay (indonesian slang words dictionary) from (Ibrohim & Budi, 2019)\n",
        "alay_dict = \"https://raw.githubusercontent.com/okkyibrohim/id-multi-label-hate-speech-and-abusive-language-detection/master/new_kamusalay.csv\"\n",
        "alay_dict = pd.read_csv(alay_dict, encoding=\"latin-1\", header=None)\n",
        "alay_dict = alay_dict.rename(columns={0: \"original\", 1: \"replacement\"})\n",
        "\n",
        "print(\"Number of Data: \", alay_dict.shape)\n",
        "alay_dict.head()"
      ]
    },
    {
      "cell_type": "markdown",
      "metadata": {
        "id": "_Gg509PTZzjC"
      },
      "source": [
        "# 3. Text Preprocessing"
      ]
    },
    {
      "cell_type": "code",
      "source": [
        "# Import raw dataset as a comparison\n",
        "df_raw = \"https://raw.githubusercontent.com/ryzanugrah/id-multi-label-hate-speech-and-abusive-language-detection/master/re_multi_label_dataset.csv\"\n",
        "df_raw = pd.read_csv(df_raw, encoding=\"utf-8\")\n",
        "df_raw.rename({'Tweet': 'raw_tweet'}, axis=1, inplace=True)"
      ],
      "metadata": {
        "id": "7ck38KgVAT2w"
      },
      "execution_count": 666,
      "outputs": []
    },
    {
      "cell_type": "markdown",
      "metadata": {
        "id": "V0t9gS2fKb4e"
      },
      "source": [
        "## 3.1 Data Cleaning"
      ]
    },
    {
      "cell_type": "code",
      "execution_count": 667,
      "metadata": {
        "colab": {
          "base_uri": "https://localhost:8080/",
          "height": 230
        },
        "id": "6ZbEZUr2rezS",
        "outputId": "5594a34b-757b-4a70-81d3-f7eef7707bb6"
      },
      "outputs": [
        {
          "output_type": "execute_result",
          "data": {
            "text/plain": [
              "                                           raw_tweet  \\\n",
              "0  - disaat semua cowok berusaha melacak perhatia...   \n",
              "1  RT USER: USER siapa yang telat ngasih tau elu?...   \n",
              "2  41. Kadang aku berfikir, kenapa aku tetap perc...   \n",
              "3  USER USER AKU ITU AKU\\n\\nKU TAU MATAMU SIPIT T...   \n",
              "4  USER USER Kaum cebong kapir udah keliatan dong...   \n",
              "\n",
              "                                                text  \n",
              "0  disaat semua cowok berusaha melacak perhatian ...  \n",
              "1  siapa yang telat ngasih tau elu edan sarap gue...  \n",
              "2  Kadang aku berfikir kenapa aku tetap percaya p...  \n",
              "3  AKU ITU AKU KU TAU MATAMU SIPIT TAPI DILIAT DA...  \n",
              "4  Kaum cebong kapir udah keliatan dongoknya dari...  "
            ],
            "text/html": [
              "\n",
              "  <div id=\"df-dbcbbae0-271f-4b4f-83a4-007ab65d7dfc\">\n",
              "    <div class=\"colab-df-container\">\n",
              "      <div>\n",
              "<style scoped>\n",
              "    .dataframe tbody tr th:only-of-type {\n",
              "        vertical-align: middle;\n",
              "    }\n",
              "\n",
              "    .dataframe tbody tr th {\n",
              "        vertical-align: top;\n",
              "    }\n",
              "\n",
              "    .dataframe thead th {\n",
              "        text-align: right;\n",
              "    }\n",
              "</style>\n",
              "<table border=\"1\" class=\"dataframe\">\n",
              "  <thead>\n",
              "    <tr style=\"text-align: right;\">\n",
              "      <th></th>\n",
              "      <th>raw_tweet</th>\n",
              "      <th>text</th>\n",
              "    </tr>\n",
              "  </thead>\n",
              "  <tbody>\n",
              "    <tr>\n",
              "      <th>0</th>\n",
              "      <td>- disaat semua cowok berusaha melacak perhatia...</td>\n",
              "      <td>disaat semua cowok berusaha melacak perhatian ...</td>\n",
              "    </tr>\n",
              "    <tr>\n",
              "      <th>1</th>\n",
              "      <td>RT USER: USER siapa yang telat ngasih tau elu?...</td>\n",
              "      <td>siapa yang telat ngasih tau elu edan sarap gue...</td>\n",
              "    </tr>\n",
              "    <tr>\n",
              "      <th>2</th>\n",
              "      <td>41. Kadang aku berfikir, kenapa aku tetap perc...</td>\n",
              "      <td>Kadang aku berfikir kenapa aku tetap percaya p...</td>\n",
              "    </tr>\n",
              "    <tr>\n",
              "      <th>3</th>\n",
              "      <td>USER USER AKU ITU AKU\\n\\nKU TAU MATAMU SIPIT T...</td>\n",
              "      <td>AKU ITU AKU KU TAU MATAMU SIPIT TAPI DILIAT DA...</td>\n",
              "    </tr>\n",
              "    <tr>\n",
              "      <th>4</th>\n",
              "      <td>USER USER Kaum cebong kapir udah keliatan dong...</td>\n",
              "      <td>Kaum cebong kapir udah keliatan dongoknya dari...</td>\n",
              "    </tr>\n",
              "  </tbody>\n",
              "</table>\n",
              "</div>\n",
              "      <button class=\"colab-df-convert\" onclick=\"convertToInteractive('df-dbcbbae0-271f-4b4f-83a4-007ab65d7dfc')\"\n",
              "              title=\"Convert this dataframe to an interactive table.\"\n",
              "              style=\"display:none;\">\n",
              "        \n",
              "  <svg xmlns=\"http://www.w3.org/2000/svg\" height=\"24px\"viewBox=\"0 0 24 24\"\n",
              "       width=\"24px\">\n",
              "    <path d=\"M0 0h24v24H0V0z\" fill=\"none\"/>\n",
              "    <path d=\"M18.56 5.44l.94 2.06.94-2.06 2.06-.94-2.06-.94-.94-2.06-.94 2.06-2.06.94zm-11 1L8.5 8.5l.94-2.06 2.06-.94-2.06-.94L8.5 2.5l-.94 2.06-2.06.94zm10 10l.94 2.06.94-2.06 2.06-.94-2.06-.94-.94-2.06-.94 2.06-2.06.94z\"/><path d=\"M17.41 7.96l-1.37-1.37c-.4-.4-.92-.59-1.43-.59-.52 0-1.04.2-1.43.59L10.3 9.45l-7.72 7.72c-.78.78-.78 2.05 0 2.83L4 21.41c.39.39.9.59 1.41.59.51 0 1.02-.2 1.41-.59l7.78-7.78 2.81-2.81c.8-.78.8-2.07 0-2.86zM5.41 20L4 18.59l7.72-7.72 1.47 1.35L5.41 20z\"/>\n",
              "  </svg>\n",
              "      </button>\n",
              "      \n",
              "  <style>\n",
              "    .colab-df-container {\n",
              "      display:flex;\n",
              "      flex-wrap:wrap;\n",
              "      gap: 12px;\n",
              "    }\n",
              "\n",
              "    .colab-df-convert {\n",
              "      background-color: #E8F0FE;\n",
              "      border: none;\n",
              "      border-radius: 50%;\n",
              "      cursor: pointer;\n",
              "      display: none;\n",
              "      fill: #1967D2;\n",
              "      height: 32px;\n",
              "      padding: 0 0 0 0;\n",
              "      width: 32px;\n",
              "    }\n",
              "\n",
              "    .colab-df-convert:hover {\n",
              "      background-color: #E2EBFA;\n",
              "      box-shadow: 0px 1px 2px rgba(60, 64, 67, 0.3), 0px 1px 3px 1px rgba(60, 64, 67, 0.15);\n",
              "      fill: #174EA6;\n",
              "    }\n",
              "\n",
              "    [theme=dark] .colab-df-convert {\n",
              "      background-color: #3B4455;\n",
              "      fill: #D2E3FC;\n",
              "    }\n",
              "\n",
              "    [theme=dark] .colab-df-convert:hover {\n",
              "      background-color: #434B5C;\n",
              "      box-shadow: 0px 1px 3px 1px rgba(0, 0, 0, 0.15);\n",
              "      filter: drop-shadow(0px 1px 2px rgba(0, 0, 0, 0.3));\n",
              "      fill: #FFFFFF;\n",
              "    }\n",
              "  </style>\n",
              "\n",
              "      <script>\n",
              "        const buttonEl =\n",
              "          document.querySelector('#df-dbcbbae0-271f-4b4f-83a4-007ab65d7dfc button.colab-df-convert');\n",
              "        buttonEl.style.display =\n",
              "          google.colab.kernel.accessAllowed ? 'block' : 'none';\n",
              "\n",
              "        async function convertToInteractive(key) {\n",
              "          const element = document.querySelector('#df-dbcbbae0-271f-4b4f-83a4-007ab65d7dfc');\n",
              "          const dataTable =\n",
              "            await google.colab.kernel.invokeFunction('convertToInteractive',\n",
              "                                                     [key], {});\n",
              "          if (!dataTable) return;\n",
              "\n",
              "          const docLinkHtml = 'Like what you see? Visit the ' +\n",
              "            '<a target=\"_blank\" href=https://colab.research.google.com/notebooks/data_table.ipynb>data table notebook</a>'\n",
              "            + ' to learn more about interactive tables.';\n",
              "          element.innerHTML = '';\n",
              "          dataTable['output_type'] = 'display_data';\n",
              "          await google.colab.output.renderOutput(dataTable, element);\n",
              "          const docLink = document.createElement('div');\n",
              "          docLink.innerHTML = docLinkHtml;\n",
              "          element.appendChild(docLink);\n",
              "        }\n",
              "      </script>\n",
              "    </div>\n",
              "  </div>\n",
              "  "
            ],
            "application/vnd.google.colaboratory.module+javascript": "\n      import \"https://ssl.gstatic.com/colaboratory/data_table/f872b2c2305463fd/data_table.js\";\n\n      window.createDataTable({\n        data: [[{\n            'v': 0,\n            'f': \"0\",\n        },\n\"- disaat semua cowok berusaha melacak perhatian gue. loe lantas remehkan perhatian yg gue kasih khusus ke elo. basic elo cowok bego ! ! !'\",\n\"disaat semua cowok berusaha melacak perhatian gue loe lantas remehkan perhatian yg gue kasih khusus ke elo basic elo cowok bego\"],\n [{\n            'v': 1,\n            'f': \"1\",\n        },\n\"RT USER: USER siapa yang telat ngasih tau elu?edan sarap gue bergaul dengan cigax jifla calis sama siapa noh licew juga'\",\n\"siapa yang telat ngasih tau elu edan sarap gue bergaul dengan cigax jifla calis sama siapa noh licew juga\"],\n [{\n            'v': 2,\n            'f': \"2\",\n        },\n\"41. Kadang aku berfikir, kenapa aku tetap percaya pada Tuhan padahal aku selalu jatuh berkali-kali. Kadang aku merasa Tuhan itu ninggalkan aku sendirian. Ketika orangtuaku berencana berpisah, ketika kakakku lebih memilih jadi Kristen. Ketika aku anak ter\",\n\"Kadang aku berfikir kenapa aku tetap percaya pada Tuhan padahal aku selalu jatuh berkali kali Kadang aku merasa Tuhan itu ninggalkan aku sendirian Ketika orangtuaku berencana berpisah ketika kakakku lebih memilih jadi Kristen Ketika aku anak ter\"],\n [{\n            'v': 3,\n            'f': \"3\",\n        },\n\"USER USER AKU ITU AKU\\\\n\\\\nKU TAU MATAMU SIPIT TAPI DILIAT DARI MANA ITU AKU'\",\n\"AKU ITU AKU KU TAU MATAMU SIPIT TAPI DILIAT DARI MANA ITU AKU\"],\n [{\n            'v': 4,\n            'f': \"4\",\n        },\n\"USER USER Kaum cebong kapir udah keliatan dongoknya dari awal tambah dongok lagi hahahah'\",\n\"Kaum cebong kapir udah keliatan dongoknya dari awal tambah dongok lagi hahahah\"]],\n        columns: [[\"number\", \"index\"], [\"string\", \"raw_tweet\"], [\"string\", \"text\"]],\n        columnOptions: [{\"width\": \"1px\", \"className\": \"index_column\"}],\n        rowsPerPage: 25,\n        helpUrl: \"https://colab.research.google.com/notebooks/data_table.ipynb\",\n        suppressOutputScrolling: true,\n        minimumWidth: undefined,\n      });\n    "
          },
          "metadata": {},
          "execution_count": 667
        }
      ],
      "source": [
        "def data_cleaning(text):\n",
        "    emoticon_byte_regex = r\"\\s*(?:\\\\x[A-Fa-f0-9]{2})+\"\n",
        "    url_regex = \"((www\\.[^\\s]+)|(https?://[^\\s]+)|(http?://[^\\s]+)||(http\\S+))\"\n",
        "\n",
        "    text = re.sub(emoticon_byte_regex, \"\", text)  # remove emoticon bytes\n",
        "    text = re.sub(url_regex, \"\", text)  # remove every url\n",
        "    text = re.sub(r\"<[^>]*>\", \"\", text)  # remove html tags\n",
        "    text = re.sub(r\"@[A-Za-z0-9]+\", \"\", text)  # remove twitter usernames\n",
        "    text = re.sub(r\"\\\\n\", \" \", text)  # remove every new line '\\n'\n",
        "    text = re.sub(\"@[\\w\\-]+\", \"\", text)  # remove mentions\n",
        "    text = re.sub(\"RT\", \"\", text)  # remove every retweet symbol\n",
        "    text = re.sub(\"USER\", \"\", text)  # remove every user\n",
        "    text = re.sub(\" URL\", \" \", text)  # remove word URL\n",
        "    text = re.sub(\" url\", \" \", text)  # remove word url\n",
        "    text = re.sub(\"\\\\+\", \" \", text)  # remove backslash\n",
        "    text = re.sub(\"\\s+\", \" \", text)  # remove special regular expression character\n",
        "    text = re.sub(\"[^0-9a-zA-Z]\", \" \", text)  # remove punctuation\n",
        "    text = re.sub(\"[^a-zA-Z]\", \" \", text)  # remove numbers\n",
        "    text = re.sub(\" +\", \" \", text)  # remove extra spaces\n",
        "\n",
        "    return text\n",
        "\n",
        "\n",
        "df[\"text\"] = df[\"text\"].apply(data_cleaning)\n",
        "df.text = df.text.str.strip() # Removes any spaces or specified characters at the start and end of a string\n",
        "\n",
        "df1 = df_raw[[\"raw_tweet\"]]\n",
        "df2 = df[[\"text\"]]\n",
        "\n",
        "df_compare = pd.concat([df1, df2], axis=1)\n",
        "df_compare.head()"
      ]
    },
    {
      "cell_type": "markdown",
      "metadata": {
        "id": "PcHxLFRykG9T"
      },
      "source": [
        "## 3.2 Case Folding"
      ]
    },
    {
      "cell_type": "code",
      "execution_count": 668,
      "metadata": {
        "colab": {
          "base_uri": "https://localhost:8080/",
          "height": 230
        },
        "id": "hy6G1N6Gr9ch",
        "outputId": "256f80de-49d8-4ac1-c1ed-20d6593ea2eb"
      },
      "outputs": [
        {
          "output_type": "execute_result",
          "data": {
            "text/plain": [
              "                                           raw_tweet  \\\n",
              "0  - disaat semua cowok berusaha melacak perhatia...   \n",
              "1  RT USER: USER siapa yang telat ngasih tau elu?...   \n",
              "2  41. Kadang aku berfikir, kenapa aku tetap perc...   \n",
              "3  USER USER AKU ITU AKU\\n\\nKU TAU MATAMU SIPIT T...   \n",
              "4  USER USER Kaum cebong kapir udah keliatan dong...   \n",
              "\n",
              "                                                text  \n",
              "0  disaat semua cowok berusaha melacak perhatian ...  \n",
              "1  siapa yang telat ngasih tau elu edan sarap gue...  \n",
              "2  kadang aku berfikir kenapa aku tetap percaya p...  \n",
              "3  aku itu aku ku tau matamu sipit tapi diliat da...  \n",
              "4  kaum cebong kapir udah keliatan dongoknya dari...  "
            ],
            "text/html": [
              "\n",
              "  <div id=\"df-e38a95d9-29a7-4117-bc8a-0754d84dc01f\">\n",
              "    <div class=\"colab-df-container\">\n",
              "      <div>\n",
              "<style scoped>\n",
              "    .dataframe tbody tr th:only-of-type {\n",
              "        vertical-align: middle;\n",
              "    }\n",
              "\n",
              "    .dataframe tbody tr th {\n",
              "        vertical-align: top;\n",
              "    }\n",
              "\n",
              "    .dataframe thead th {\n",
              "        text-align: right;\n",
              "    }\n",
              "</style>\n",
              "<table border=\"1\" class=\"dataframe\">\n",
              "  <thead>\n",
              "    <tr style=\"text-align: right;\">\n",
              "      <th></th>\n",
              "      <th>raw_tweet</th>\n",
              "      <th>text</th>\n",
              "    </tr>\n",
              "  </thead>\n",
              "  <tbody>\n",
              "    <tr>\n",
              "      <th>0</th>\n",
              "      <td>- disaat semua cowok berusaha melacak perhatia...</td>\n",
              "      <td>disaat semua cowok berusaha melacak perhatian ...</td>\n",
              "    </tr>\n",
              "    <tr>\n",
              "      <th>1</th>\n",
              "      <td>RT USER: USER siapa yang telat ngasih tau elu?...</td>\n",
              "      <td>siapa yang telat ngasih tau elu edan sarap gue...</td>\n",
              "    </tr>\n",
              "    <tr>\n",
              "      <th>2</th>\n",
              "      <td>41. Kadang aku berfikir, kenapa aku tetap perc...</td>\n",
              "      <td>kadang aku berfikir kenapa aku tetap percaya p...</td>\n",
              "    </tr>\n",
              "    <tr>\n",
              "      <th>3</th>\n",
              "      <td>USER USER AKU ITU AKU\\n\\nKU TAU MATAMU SIPIT T...</td>\n",
              "      <td>aku itu aku ku tau matamu sipit tapi diliat da...</td>\n",
              "    </tr>\n",
              "    <tr>\n",
              "      <th>4</th>\n",
              "      <td>USER USER Kaum cebong kapir udah keliatan dong...</td>\n",
              "      <td>kaum cebong kapir udah keliatan dongoknya dari...</td>\n",
              "    </tr>\n",
              "  </tbody>\n",
              "</table>\n",
              "</div>\n",
              "      <button class=\"colab-df-convert\" onclick=\"convertToInteractive('df-e38a95d9-29a7-4117-bc8a-0754d84dc01f')\"\n",
              "              title=\"Convert this dataframe to an interactive table.\"\n",
              "              style=\"display:none;\">\n",
              "        \n",
              "  <svg xmlns=\"http://www.w3.org/2000/svg\" height=\"24px\"viewBox=\"0 0 24 24\"\n",
              "       width=\"24px\">\n",
              "    <path d=\"M0 0h24v24H0V0z\" fill=\"none\"/>\n",
              "    <path d=\"M18.56 5.44l.94 2.06.94-2.06 2.06-.94-2.06-.94-.94-2.06-.94 2.06-2.06.94zm-11 1L8.5 8.5l.94-2.06 2.06-.94-2.06-.94L8.5 2.5l-.94 2.06-2.06.94zm10 10l.94 2.06.94-2.06 2.06-.94-2.06-.94-.94-2.06-.94 2.06-2.06.94z\"/><path d=\"M17.41 7.96l-1.37-1.37c-.4-.4-.92-.59-1.43-.59-.52 0-1.04.2-1.43.59L10.3 9.45l-7.72 7.72c-.78.78-.78 2.05 0 2.83L4 21.41c.39.39.9.59 1.41.59.51 0 1.02-.2 1.41-.59l7.78-7.78 2.81-2.81c.8-.78.8-2.07 0-2.86zM5.41 20L4 18.59l7.72-7.72 1.47 1.35L5.41 20z\"/>\n",
              "  </svg>\n",
              "      </button>\n",
              "      \n",
              "  <style>\n",
              "    .colab-df-container {\n",
              "      display:flex;\n",
              "      flex-wrap:wrap;\n",
              "      gap: 12px;\n",
              "    }\n",
              "\n",
              "    .colab-df-convert {\n",
              "      background-color: #E8F0FE;\n",
              "      border: none;\n",
              "      border-radius: 50%;\n",
              "      cursor: pointer;\n",
              "      display: none;\n",
              "      fill: #1967D2;\n",
              "      height: 32px;\n",
              "      padding: 0 0 0 0;\n",
              "      width: 32px;\n",
              "    }\n",
              "\n",
              "    .colab-df-convert:hover {\n",
              "      background-color: #E2EBFA;\n",
              "      box-shadow: 0px 1px 2px rgba(60, 64, 67, 0.3), 0px 1px 3px 1px rgba(60, 64, 67, 0.15);\n",
              "      fill: #174EA6;\n",
              "    }\n",
              "\n",
              "    [theme=dark] .colab-df-convert {\n",
              "      background-color: #3B4455;\n",
              "      fill: #D2E3FC;\n",
              "    }\n",
              "\n",
              "    [theme=dark] .colab-df-convert:hover {\n",
              "      background-color: #434B5C;\n",
              "      box-shadow: 0px 1px 3px 1px rgba(0, 0, 0, 0.15);\n",
              "      filter: drop-shadow(0px 1px 2px rgba(0, 0, 0, 0.3));\n",
              "      fill: #FFFFFF;\n",
              "    }\n",
              "  </style>\n",
              "\n",
              "      <script>\n",
              "        const buttonEl =\n",
              "          document.querySelector('#df-e38a95d9-29a7-4117-bc8a-0754d84dc01f button.colab-df-convert');\n",
              "        buttonEl.style.display =\n",
              "          google.colab.kernel.accessAllowed ? 'block' : 'none';\n",
              "\n",
              "        async function convertToInteractive(key) {\n",
              "          const element = document.querySelector('#df-e38a95d9-29a7-4117-bc8a-0754d84dc01f');\n",
              "          const dataTable =\n",
              "            await google.colab.kernel.invokeFunction('convertToInteractive',\n",
              "                                                     [key], {});\n",
              "          if (!dataTable) return;\n",
              "\n",
              "          const docLinkHtml = 'Like what you see? Visit the ' +\n",
              "            '<a target=\"_blank\" href=https://colab.research.google.com/notebooks/data_table.ipynb>data table notebook</a>'\n",
              "            + ' to learn more about interactive tables.';\n",
              "          element.innerHTML = '';\n",
              "          dataTable['output_type'] = 'display_data';\n",
              "          await google.colab.output.renderOutput(dataTable, element);\n",
              "          const docLink = document.createElement('div');\n",
              "          docLink.innerHTML = docLinkHtml;\n",
              "          element.appendChild(docLink);\n",
              "        }\n",
              "      </script>\n",
              "    </div>\n",
              "  </div>\n",
              "  "
            ],
            "application/vnd.google.colaboratory.module+javascript": "\n      import \"https://ssl.gstatic.com/colaboratory/data_table/f872b2c2305463fd/data_table.js\";\n\n      window.createDataTable({\n        data: [[{\n            'v': 0,\n            'f': \"0\",\n        },\n\"- disaat semua cowok berusaha melacak perhatian gue. loe lantas remehkan perhatian yg gue kasih khusus ke elo. basic elo cowok bego ! ! !'\",\n\"disaat semua cowok berusaha melacak perhatian gue loe lantas remehkan perhatian yg gue kasih khusus ke elo basic elo cowok bego\"],\n [{\n            'v': 1,\n            'f': \"1\",\n        },\n\"RT USER: USER siapa yang telat ngasih tau elu?edan sarap gue bergaul dengan cigax jifla calis sama siapa noh licew juga'\",\n\"siapa yang telat ngasih tau elu edan sarap gue bergaul dengan cigax jifla calis sama siapa noh licew juga\"],\n [{\n            'v': 2,\n            'f': \"2\",\n        },\n\"41. Kadang aku berfikir, kenapa aku tetap percaya pada Tuhan padahal aku selalu jatuh berkali-kali. Kadang aku merasa Tuhan itu ninggalkan aku sendirian. Ketika orangtuaku berencana berpisah, ketika kakakku lebih memilih jadi Kristen. Ketika aku anak ter\",\n\"kadang aku berfikir kenapa aku tetap percaya pada tuhan padahal aku selalu jatuh berkali kali kadang aku merasa tuhan itu ninggalkan aku sendirian ketika orangtuaku berencana berpisah ketika kakakku lebih memilih jadi kristen ketika aku anak ter\"],\n [{\n            'v': 3,\n            'f': \"3\",\n        },\n\"USER USER AKU ITU AKU\\\\n\\\\nKU TAU MATAMU SIPIT TAPI DILIAT DARI MANA ITU AKU'\",\n\"aku itu aku ku tau matamu sipit tapi diliat dari mana itu aku\"],\n [{\n            'v': 4,\n            'f': \"4\",\n        },\n\"USER USER Kaum cebong kapir udah keliatan dongoknya dari awal tambah dongok lagi hahahah'\",\n\"kaum cebong kapir udah keliatan dongoknya dari awal tambah dongok lagi hahahah\"]],\n        columns: [[\"number\", \"index\"], [\"string\", \"raw_tweet\"], [\"string\", \"text\"]],\n        columnOptions: [{\"width\": \"1px\", \"className\": \"index_column\"}],\n        rowsPerPage: 25,\n        helpUrl: \"https://colab.research.google.com/notebooks/data_table.ipynb\",\n        suppressOutputScrolling: true,\n        minimumWidth: undefined,\n      });\n    "
          },
          "metadata": {},
          "execution_count": 668
        }
      ],
      "source": [
        "# lowercase letters\n",
        "def case_folding(text):\n",
        "    text = text.lower()\n",
        "    return text\n",
        "\n",
        "\n",
        "df[\"text\"] = df[\"text\"].apply(case_folding)\n",
        "\n",
        "df1 = df_raw[[\"raw_tweet\"]]\n",
        "df2 = df[[\"text\"]]\n",
        "\n",
        "df_compare = pd.concat([df1, df2], axis=1)\n",
        "df_compare.head()"
      ]
    },
    {
      "cell_type": "markdown",
      "metadata": {
        "id": "5G1GgRmHJoyr"
      },
      "source": [
        "## 3.3 Normalization"
      ]
    },
    {
      "cell_type": "code",
      "execution_count": 669,
      "metadata": {
        "colab": {
          "base_uri": "https://localhost:8080/",
          "height": 247
        },
        "id": "FCrHbMTiJoDP",
        "outputId": "4252eeae-8b65-4f25-ccd0-eadb672b4aec"
      },
      "outputs": [
        {
          "output_type": "execute_result",
          "data": {
            "text/plain": [
              "                                           raw_tweet  \\\n",
              "0  - disaat semua cowok berusaha melacak perhatia...   \n",
              "1  RT USER: USER siapa yang telat ngasih tau elu?...   \n",
              "2  41. Kadang aku berfikir, kenapa aku tetap perc...   \n",
              "3  USER USER AKU ITU AKU\\n\\nKU TAU MATAMU SIPIT T...   \n",
              "4  USER USER Kaum cebong kapir udah keliatan dong...   \n",
              "\n",
              "                                                text  \n",
              "0  di saat semua cowok berusaha melacak perhatian...  \n",
              "1  siapa yang telat memberi tau kamu edan sarap g...  \n",
              "2  kadang aku berpikir kenapa aku tetap percaya p...  \n",
              "3  aku itu aku ku tau matamu sipit tapi dilihat d...  \n",
              "4  kaum cebong kafir sudah kelihatan dongoknya da...  "
            ],
            "text/html": [
              "\n",
              "  <div id=\"df-3ca42a0c-d9db-4105-87ea-fc80038e80d8\">\n",
              "    <div class=\"colab-df-container\">\n",
              "      <div>\n",
              "<style scoped>\n",
              "    .dataframe tbody tr th:only-of-type {\n",
              "        vertical-align: middle;\n",
              "    }\n",
              "\n",
              "    .dataframe tbody tr th {\n",
              "        vertical-align: top;\n",
              "    }\n",
              "\n",
              "    .dataframe thead th {\n",
              "        text-align: right;\n",
              "    }\n",
              "</style>\n",
              "<table border=\"1\" class=\"dataframe\">\n",
              "  <thead>\n",
              "    <tr style=\"text-align: right;\">\n",
              "      <th></th>\n",
              "      <th>raw_tweet</th>\n",
              "      <th>text</th>\n",
              "    </tr>\n",
              "  </thead>\n",
              "  <tbody>\n",
              "    <tr>\n",
              "      <th>0</th>\n",
              "      <td>- disaat semua cowok berusaha melacak perhatia...</td>\n",
              "      <td>di saat semua cowok berusaha melacak perhatian...</td>\n",
              "    </tr>\n",
              "    <tr>\n",
              "      <th>1</th>\n",
              "      <td>RT USER: USER siapa yang telat ngasih tau elu?...</td>\n",
              "      <td>siapa yang telat memberi tau kamu edan sarap g...</td>\n",
              "    </tr>\n",
              "    <tr>\n",
              "      <th>2</th>\n",
              "      <td>41. Kadang aku berfikir, kenapa aku tetap perc...</td>\n",
              "      <td>kadang aku berpikir kenapa aku tetap percaya p...</td>\n",
              "    </tr>\n",
              "    <tr>\n",
              "      <th>3</th>\n",
              "      <td>USER USER AKU ITU AKU\\n\\nKU TAU MATAMU SIPIT T...</td>\n",
              "      <td>aku itu aku ku tau matamu sipit tapi dilihat d...</td>\n",
              "    </tr>\n",
              "    <tr>\n",
              "      <th>4</th>\n",
              "      <td>USER USER Kaum cebong kapir udah keliatan dong...</td>\n",
              "      <td>kaum cebong kafir sudah kelihatan dongoknya da...</td>\n",
              "    </tr>\n",
              "  </tbody>\n",
              "</table>\n",
              "</div>\n",
              "      <button class=\"colab-df-convert\" onclick=\"convertToInteractive('df-3ca42a0c-d9db-4105-87ea-fc80038e80d8')\"\n",
              "              title=\"Convert this dataframe to an interactive table.\"\n",
              "              style=\"display:none;\">\n",
              "        \n",
              "  <svg xmlns=\"http://www.w3.org/2000/svg\" height=\"24px\"viewBox=\"0 0 24 24\"\n",
              "       width=\"24px\">\n",
              "    <path d=\"M0 0h24v24H0V0z\" fill=\"none\"/>\n",
              "    <path d=\"M18.56 5.44l.94 2.06.94-2.06 2.06-.94-2.06-.94-.94-2.06-.94 2.06-2.06.94zm-11 1L8.5 8.5l.94-2.06 2.06-.94-2.06-.94L8.5 2.5l-.94 2.06-2.06.94zm10 10l.94 2.06.94-2.06 2.06-.94-2.06-.94-.94-2.06-.94 2.06-2.06.94z\"/><path d=\"M17.41 7.96l-1.37-1.37c-.4-.4-.92-.59-1.43-.59-.52 0-1.04.2-1.43.59L10.3 9.45l-7.72 7.72c-.78.78-.78 2.05 0 2.83L4 21.41c.39.39.9.59 1.41.59.51 0 1.02-.2 1.41-.59l7.78-7.78 2.81-2.81c.8-.78.8-2.07 0-2.86zM5.41 20L4 18.59l7.72-7.72 1.47 1.35L5.41 20z\"/>\n",
              "  </svg>\n",
              "      </button>\n",
              "      \n",
              "  <style>\n",
              "    .colab-df-container {\n",
              "      display:flex;\n",
              "      flex-wrap:wrap;\n",
              "      gap: 12px;\n",
              "    }\n",
              "\n",
              "    .colab-df-convert {\n",
              "      background-color: #E8F0FE;\n",
              "      border: none;\n",
              "      border-radius: 50%;\n",
              "      cursor: pointer;\n",
              "      display: none;\n",
              "      fill: #1967D2;\n",
              "      height: 32px;\n",
              "      padding: 0 0 0 0;\n",
              "      width: 32px;\n",
              "    }\n",
              "\n",
              "    .colab-df-convert:hover {\n",
              "      background-color: #E2EBFA;\n",
              "      box-shadow: 0px 1px 2px rgba(60, 64, 67, 0.3), 0px 1px 3px 1px rgba(60, 64, 67, 0.15);\n",
              "      fill: #174EA6;\n",
              "    }\n",
              "\n",
              "    [theme=dark] .colab-df-convert {\n",
              "      background-color: #3B4455;\n",
              "      fill: #D2E3FC;\n",
              "    }\n",
              "\n",
              "    [theme=dark] .colab-df-convert:hover {\n",
              "      background-color: #434B5C;\n",
              "      box-shadow: 0px 1px 3px 1px rgba(0, 0, 0, 0.15);\n",
              "      filter: drop-shadow(0px 1px 2px rgba(0, 0, 0, 0.3));\n",
              "      fill: #FFFFFF;\n",
              "    }\n",
              "  </style>\n",
              "\n",
              "      <script>\n",
              "        const buttonEl =\n",
              "          document.querySelector('#df-3ca42a0c-d9db-4105-87ea-fc80038e80d8 button.colab-df-convert');\n",
              "        buttonEl.style.display =\n",
              "          google.colab.kernel.accessAllowed ? 'block' : 'none';\n",
              "\n",
              "        async function convertToInteractive(key) {\n",
              "          const element = document.querySelector('#df-3ca42a0c-d9db-4105-87ea-fc80038e80d8');\n",
              "          const dataTable =\n",
              "            await google.colab.kernel.invokeFunction('convertToInteractive',\n",
              "                                                     [key], {});\n",
              "          if (!dataTable) return;\n",
              "\n",
              "          const docLinkHtml = 'Like what you see? Visit the ' +\n",
              "            '<a target=\"_blank\" href=https://colab.research.google.com/notebooks/data_table.ipynb>data table notebook</a>'\n",
              "            + ' to learn more about interactive tables.';\n",
              "          element.innerHTML = '';\n",
              "          dataTable['output_type'] = 'display_data';\n",
              "          await google.colab.output.renderOutput(dataTable, element);\n",
              "          const docLink = document.createElement('div');\n",
              "          docLink.innerHTML = docLinkHtml;\n",
              "          element.appendChild(docLink);\n",
              "        }\n",
              "      </script>\n",
              "    </div>\n",
              "  </div>\n",
              "  "
            ],
            "application/vnd.google.colaboratory.module+javascript": "\n      import \"https://ssl.gstatic.com/colaboratory/data_table/f872b2c2305463fd/data_table.js\";\n\n      window.createDataTable({\n        data: [[{\n            'v': 0,\n            'f': \"0\",\n        },\n\"- disaat semua cowok berusaha melacak perhatian gue. loe lantas remehkan perhatian yg gue kasih khusus ke elo. basic elo cowok bego ! ! !'\",\n\"di saat semua cowok berusaha melacak perhatian gue kamu lantas remehkan perhatian yang gue kasih khusus ke kamu basic kamu cowok bego\"],\n [{\n            'v': 1,\n            'f': \"1\",\n        },\n\"RT USER: USER siapa yang telat ngasih tau elu?edan sarap gue bergaul dengan cigax jifla calis sama siapa noh licew juga'\",\n\"siapa yang telat memberi tau kamu edan sarap gue bergaul dengan cigax jifla calis sama siapa itu licew juga\"],\n [{\n            'v': 2,\n            'f': \"2\",\n        },\n\"41. Kadang aku berfikir, kenapa aku tetap percaya pada Tuhan padahal aku selalu jatuh berkali-kali. Kadang aku merasa Tuhan itu ninggalkan aku sendirian. Ketika orangtuaku berencana berpisah, ketika kakakku lebih memilih jadi Kristen. Ketika aku anak ter\",\n\"kadang aku berpikir kenapa aku tetap percaya pada tuhan padahal aku selalu jatuh berkali kali kadang aku merasa tuhan itu meninggalkan aku sendirian ketika orang tuaku berencana berpisah ketika kakakku lebih memilih jadi kristen ketika aku anak ter\"],\n [{\n            'v': 3,\n            'f': \"3\",\n        },\n\"USER USER AKU ITU AKU\\\\n\\\\nKU TAU MATAMU SIPIT TAPI DILIAT DARI MANA ITU AKU'\",\n\"aku itu aku ku tau matamu sipit tapi dilihat dari mana itu aku\"],\n [{\n            'v': 4,\n            'f': \"4\",\n        },\n\"USER USER Kaum cebong kapir udah keliatan dongoknya dari awal tambah dongok lagi hahahah'\",\n\"kaum cebong kafir sudah kelihatan dongoknya dari awal tambah dungu lagi haha\"]],\n        columns: [[\"number\", \"index\"], [\"string\", \"raw_tweet\"], [\"string\", \"text\"]],\n        columnOptions: [{\"width\": \"1px\", \"className\": \"index_column\"}],\n        rowsPerPage: 25,\n        helpUrl: \"https://colab.research.google.com/notebooks/data_table.ipynb\",\n        suppressOutputScrolling: true,\n        minimumWidth: undefined,\n      });\n    "
          },
          "metadata": {},
          "execution_count": 669
        }
      ],
      "source": [
        "alay_dict_map = dict(zip(alay_dict[\"original\"], alay_dict[\"replacement\"]))\n",
        "\n",
        "\n",
        "def normalize_alay_dict(text):\n",
        "    return \" \".join(\n",
        "        [\n",
        "            alay_dict_map[word] if word in alay_dict_map else word\n",
        "            for word in text.split(\" \")\n",
        "        ]\n",
        "    )\n",
        "\n",
        "\n",
        "df[\"text\"] = df[\"text\"].apply(normalize_alay_dict)\n",
        "\n",
        "df1 = df_raw[[\"raw_tweet\"]]\n",
        "df2 = df[[\"text\"]]\n",
        "\n",
        "df_compare = pd.concat([df1, df2], axis=1)\n",
        "df_compare.head()"
      ]
    },
    {
      "cell_type": "markdown",
      "metadata": {
        "id": "iJnoI2pWIkLC"
      },
      "source": [
        "## 3.4 Filtering"
      ]
    },
    {
      "cell_type": "code",
      "execution_count": 670,
      "metadata": {
        "id": "lrMeauIbCnhX"
      },
      "outputs": [],
      "source": [
        "# # Initiate (Tala, F. Z., 2003) stopword\n",
        "# tala_stopword_dict = pd.read_csv(\n",
        "#         \"https://raw.githubusercontent.com/ryzanugrah/stopwords-id/master/stopwords-id.txt\",\n",
        "#         header=None,\n",
        "#     )\n",
        "# tala_stopword_dict = tala_stopword_dict.rename(columns={0: \"stopword\"})\n",
        "\n",
        "# # Initiate NTLK stopword\n",
        "# nltk.download(\"stopwords\")\n",
        "# nltk.download(\"punkt\")\n",
        "\n",
        "# def remove_stopword(text):\n",
        "#     \"\"\"Remove Stopword/Filtering.\"\"\"\n",
        "\n",
        "#     # Apply Stopword (Tala, F. Z., 2003)\n",
        "#     text = \" \".join(\n",
        "#         [\n",
        "#             \"\" if word in tala_stopword_dict.stopword.values else word\n",
        "#             for word in text.split(\" \")\n",
        "#         ]\n",
        "#     )\n",
        "\n",
        "#     # Apply Stopword NLTK\n",
        "#     nltk_stopword_dict = set(stopwords.words('indonesian'))\n",
        "#     word_tokens = word_tokenize(text)\n",
        "#     filtered_sentence = []\n",
        "#     for word_token in word_tokens:\n",
        "#         if word_token not in nltk_stopword_dict:\n",
        "#             filtered_sentence.append(word_token)\n",
        "\n",
        "#     text = \" \".join(filtered_sentence) # Join words\n",
        "#     text = re.sub(\"  +\", \" \", text)  # Remove extra spaces\n",
        "#     text = text.strip() # Removes any spaces or specified characters at the start and end of a string\n",
        "\n",
        "#     return text\n",
        "\n",
        "\n",
        "# df[\"text\"] = df[\"text\"].apply(remove_stopword)\n",
        "\n",
        "# df1 = df_raw[[\"raw_tweet\"]]\n",
        "# df2 = df[[\"text\"]]\n",
        "\n",
        "# df_compare = pd.concat([df1, df2], axis=1)\n",
        "# df_compare.head()"
      ]
    },
    {
      "cell_type": "markdown",
      "metadata": {
        "id": "BRfw61LOfsg_"
      },
      "source": [
        "## 3.5 Stemming"
      ]
    },
    {
      "cell_type": "code",
      "execution_count": 671,
      "metadata": {
        "colab": {
          "base_uri": "https://localhost:8080/",
          "height": 230
        },
        "id": "gWm7PkMRCe1m",
        "outputId": "9c460b28-efd7-4586-ae9b-ce3b4939f86d"
      },
      "outputs": [
        {
          "output_type": "execute_result",
          "data": {
            "text/plain": [
              "                                           raw_tweet  \\\n",
              "0  - disaat semua cowok berusaha melacak perhatia...   \n",
              "1  RT USER: USER siapa yang telat ngasih tau elu?...   \n",
              "2  41. Kadang aku berfikir, kenapa aku tetap perc...   \n",
              "3  USER USER AKU ITU AKU\\n\\nKU TAU MATAMU SIPIT T...   \n",
              "4  USER USER Kaum cebong kapir udah keliatan dong...   \n",
              "\n",
              "                                                text  \n",
              "0  di saat semua cowok usaha lacak perhati gue ka...  \n",
              "1  siapa yang telat beri tau kamu edan sarap gue ...  \n",
              "2  kadang aku pikir kenapa aku tetap percaya pada...  \n",
              "3  aku itu aku ku tau mata sipit tapi lihat dari ...  \n",
              "4  kaum cebong kafir sudah lihat dongok dari awal...  "
            ],
            "text/html": [
              "\n",
              "  <div id=\"df-fba686a5-264c-45f2-af48-1134857fe87f\">\n",
              "    <div class=\"colab-df-container\">\n",
              "      <div>\n",
              "<style scoped>\n",
              "    .dataframe tbody tr th:only-of-type {\n",
              "        vertical-align: middle;\n",
              "    }\n",
              "\n",
              "    .dataframe tbody tr th {\n",
              "        vertical-align: top;\n",
              "    }\n",
              "\n",
              "    .dataframe thead th {\n",
              "        text-align: right;\n",
              "    }\n",
              "</style>\n",
              "<table border=\"1\" class=\"dataframe\">\n",
              "  <thead>\n",
              "    <tr style=\"text-align: right;\">\n",
              "      <th></th>\n",
              "      <th>raw_tweet</th>\n",
              "      <th>text</th>\n",
              "    </tr>\n",
              "  </thead>\n",
              "  <tbody>\n",
              "    <tr>\n",
              "      <th>0</th>\n",
              "      <td>- disaat semua cowok berusaha melacak perhatia...</td>\n",
              "      <td>di saat semua cowok usaha lacak perhati gue ka...</td>\n",
              "    </tr>\n",
              "    <tr>\n",
              "      <th>1</th>\n",
              "      <td>RT USER: USER siapa yang telat ngasih tau elu?...</td>\n",
              "      <td>siapa yang telat beri tau kamu edan sarap gue ...</td>\n",
              "    </tr>\n",
              "    <tr>\n",
              "      <th>2</th>\n",
              "      <td>41. Kadang aku berfikir, kenapa aku tetap perc...</td>\n",
              "      <td>kadang aku pikir kenapa aku tetap percaya pada...</td>\n",
              "    </tr>\n",
              "    <tr>\n",
              "      <th>3</th>\n",
              "      <td>USER USER AKU ITU AKU\\n\\nKU TAU MATAMU SIPIT T...</td>\n",
              "      <td>aku itu aku ku tau mata sipit tapi lihat dari ...</td>\n",
              "    </tr>\n",
              "    <tr>\n",
              "      <th>4</th>\n",
              "      <td>USER USER Kaum cebong kapir udah keliatan dong...</td>\n",
              "      <td>kaum cebong kafir sudah lihat dongok dari awal...</td>\n",
              "    </tr>\n",
              "  </tbody>\n",
              "</table>\n",
              "</div>\n",
              "      <button class=\"colab-df-convert\" onclick=\"convertToInteractive('df-fba686a5-264c-45f2-af48-1134857fe87f')\"\n",
              "              title=\"Convert this dataframe to an interactive table.\"\n",
              "              style=\"display:none;\">\n",
              "        \n",
              "  <svg xmlns=\"http://www.w3.org/2000/svg\" height=\"24px\"viewBox=\"0 0 24 24\"\n",
              "       width=\"24px\">\n",
              "    <path d=\"M0 0h24v24H0V0z\" fill=\"none\"/>\n",
              "    <path d=\"M18.56 5.44l.94 2.06.94-2.06 2.06-.94-2.06-.94-.94-2.06-.94 2.06-2.06.94zm-11 1L8.5 8.5l.94-2.06 2.06-.94-2.06-.94L8.5 2.5l-.94 2.06-2.06.94zm10 10l.94 2.06.94-2.06 2.06-.94-2.06-.94-.94-2.06-.94 2.06-2.06.94z\"/><path d=\"M17.41 7.96l-1.37-1.37c-.4-.4-.92-.59-1.43-.59-.52 0-1.04.2-1.43.59L10.3 9.45l-7.72 7.72c-.78.78-.78 2.05 0 2.83L4 21.41c.39.39.9.59 1.41.59.51 0 1.02-.2 1.41-.59l7.78-7.78 2.81-2.81c.8-.78.8-2.07 0-2.86zM5.41 20L4 18.59l7.72-7.72 1.47 1.35L5.41 20z\"/>\n",
              "  </svg>\n",
              "      </button>\n",
              "      \n",
              "  <style>\n",
              "    .colab-df-container {\n",
              "      display:flex;\n",
              "      flex-wrap:wrap;\n",
              "      gap: 12px;\n",
              "    }\n",
              "\n",
              "    .colab-df-convert {\n",
              "      background-color: #E8F0FE;\n",
              "      border: none;\n",
              "      border-radius: 50%;\n",
              "      cursor: pointer;\n",
              "      display: none;\n",
              "      fill: #1967D2;\n",
              "      height: 32px;\n",
              "      padding: 0 0 0 0;\n",
              "      width: 32px;\n",
              "    }\n",
              "\n",
              "    .colab-df-convert:hover {\n",
              "      background-color: #E2EBFA;\n",
              "      box-shadow: 0px 1px 2px rgba(60, 64, 67, 0.3), 0px 1px 3px 1px rgba(60, 64, 67, 0.15);\n",
              "      fill: #174EA6;\n",
              "    }\n",
              "\n",
              "    [theme=dark] .colab-df-convert {\n",
              "      background-color: #3B4455;\n",
              "      fill: #D2E3FC;\n",
              "    }\n",
              "\n",
              "    [theme=dark] .colab-df-convert:hover {\n",
              "      background-color: #434B5C;\n",
              "      box-shadow: 0px 1px 3px 1px rgba(0, 0, 0, 0.15);\n",
              "      filter: drop-shadow(0px 1px 2px rgba(0, 0, 0, 0.3));\n",
              "      fill: #FFFFFF;\n",
              "    }\n",
              "  </style>\n",
              "\n",
              "      <script>\n",
              "        const buttonEl =\n",
              "          document.querySelector('#df-fba686a5-264c-45f2-af48-1134857fe87f button.colab-df-convert');\n",
              "        buttonEl.style.display =\n",
              "          google.colab.kernel.accessAllowed ? 'block' : 'none';\n",
              "\n",
              "        async function convertToInteractive(key) {\n",
              "          const element = document.querySelector('#df-fba686a5-264c-45f2-af48-1134857fe87f');\n",
              "          const dataTable =\n",
              "            await google.colab.kernel.invokeFunction('convertToInteractive',\n",
              "                                                     [key], {});\n",
              "          if (!dataTable) return;\n",
              "\n",
              "          const docLinkHtml = 'Like what you see? Visit the ' +\n",
              "            '<a target=\"_blank\" href=https://colab.research.google.com/notebooks/data_table.ipynb>data table notebook</a>'\n",
              "            + ' to learn more about interactive tables.';\n",
              "          element.innerHTML = '';\n",
              "          dataTable['output_type'] = 'display_data';\n",
              "          await google.colab.output.renderOutput(dataTable, element);\n",
              "          const docLink = document.createElement('div');\n",
              "          docLink.innerHTML = docLinkHtml;\n",
              "          element.appendChild(docLink);\n",
              "        }\n",
              "      </script>\n",
              "    </div>\n",
              "  </div>\n",
              "  "
            ],
            "application/vnd.google.colaboratory.module+javascript": "\n      import \"https://ssl.gstatic.com/colaboratory/data_table/f872b2c2305463fd/data_table.js\";\n\n      window.createDataTable({\n        data: [[{\n            'v': 0,\n            'f': \"0\",\n        },\n\"- disaat semua cowok berusaha melacak perhatian gue. loe lantas remehkan perhatian yg gue kasih khusus ke elo. basic elo cowok bego ! ! !'\",\n\"di saat semua cowok usaha lacak perhati gue kamu lantas remeh perhati yang gue kasih khusus ke kamu basic kamu cowok bego\"],\n [{\n            'v': 1,\n            'f': \"1\",\n        },\n\"RT USER: USER siapa yang telat ngasih tau elu?edan sarap gue bergaul dengan cigax jifla calis sama siapa noh licew juga'\",\n\"siapa yang telat beri tau kamu edan sarap gue gaul dengan cigax jifla cal sama siapa itu licew juga\"],\n [{\n            'v': 2,\n            'f': \"2\",\n        },\n\"41. Kadang aku berfikir, kenapa aku tetap percaya pada Tuhan padahal aku selalu jatuh berkali-kali. Kadang aku merasa Tuhan itu ninggalkan aku sendirian. Ketika orangtuaku berencana berpisah, ketika kakakku lebih memilih jadi Kristen. Ketika aku anak ter\",\n\"kadang aku pikir kenapa aku tetap percaya pada tuhan padahal aku selalu jatuh kali kali kadang aku rasa tuhan itu tinggal aku sendiri ketika orang tua rencana pisah ketika kakak lebih pilih jadi kristen ketika aku anak ter\"],\n [{\n            'v': 3,\n            'f': \"3\",\n        },\n\"USER USER AKU ITU AKU\\\\n\\\\nKU TAU MATAMU SIPIT TAPI DILIAT DARI MANA ITU AKU'\",\n\"aku itu aku ku tau mata sipit tapi lihat dari mana itu aku\"],\n [{\n            'v': 4,\n            'f': \"4\",\n        },\n\"USER USER Kaum cebong kapir udah keliatan dongoknya dari awal tambah dongok lagi hahahah'\",\n\"kaum cebong kafir sudah lihat dongok dari awal tambah dungu lagi haha\"]],\n        columns: [[\"number\", \"index\"], [\"string\", \"raw_tweet\"], [\"string\", \"text\"]],\n        columnOptions: [{\"width\": \"1px\", \"className\": \"index_column\"}],\n        rowsPerPage: 25,\n        helpUrl: \"https://colab.research.google.com/notebooks/data_table.ipynb\",\n        suppressOutputScrolling: true,\n        minimumWidth: undefined,\n      });\n    "
          },
          "metadata": {},
          "execution_count": 671
        }
      ],
      "source": [
        "factory = StemmerFactory()\n",
        "stemmer = factory.create_stemmer()\n",
        "\n",
        "\n",
        "def stemming(text):\n",
        "    return stemmer.stem(text)\n",
        "\n",
        "\n",
        "df[\"text\"] = df[\"text\"].apply(stemming)\n",
        "\n",
        "df1 = df_raw[[\"raw_tweet\"]]\n",
        "df2 = df[[\"text\"]]\n",
        "\n",
        "df_compare = pd.concat([df1, df2], axis=1)\n",
        "df_compare.head()"
      ]
    },
    {
      "cell_type": "markdown",
      "metadata": {
        "id": "AsULcZCjW4xT"
      },
      "source": [
        "# 4. Index Classification"
      ]
    },
    {
      "cell_type": "code",
      "execution_count": 672,
      "metadata": {
        "colab": {
          "base_uri": "https://localhost:8080/",
          "height": 197
        },
        "id": "-QBgm8FqyOt6",
        "outputId": "0e6c86f2-ee73-4011-dfdc-452d157ef2a6"
      },
      "outputs": [
        {
          "output_type": "execute_result",
          "data": {
            "text/plain": [
              "                                                text  label\n",
              "0  di saat semua cowok usaha lacak perhati gue ka...      1\n",
              "1  siapa yang telat beri tau kamu edan sarap gue ...      3\n",
              "2  kadang aku pikir kenapa aku tetap percaya pada...      0\n",
              "3  aku itu aku ku tau mata sipit tapi lihat dari ...      0\n",
              "4  kaum cebong kafir sudah lihat dongok dari awal...      2"
            ],
            "text/html": [
              "\n",
              "  <div id=\"df-abdf2285-0582-4b24-9a19-00650ddd2863\">\n",
              "    <div class=\"colab-df-container\">\n",
              "      <div>\n",
              "<style scoped>\n",
              "    .dataframe tbody tr th:only-of-type {\n",
              "        vertical-align: middle;\n",
              "    }\n",
              "\n",
              "    .dataframe tbody tr th {\n",
              "        vertical-align: top;\n",
              "    }\n",
              "\n",
              "    .dataframe thead th {\n",
              "        text-align: right;\n",
              "    }\n",
              "</style>\n",
              "<table border=\"1\" class=\"dataframe\">\n",
              "  <thead>\n",
              "    <tr style=\"text-align: right;\">\n",
              "      <th></th>\n",
              "      <th>text</th>\n",
              "      <th>label</th>\n",
              "    </tr>\n",
              "  </thead>\n",
              "  <tbody>\n",
              "    <tr>\n",
              "      <th>0</th>\n",
              "      <td>di saat semua cowok usaha lacak perhati gue ka...</td>\n",
              "      <td>1</td>\n",
              "    </tr>\n",
              "    <tr>\n",
              "      <th>1</th>\n",
              "      <td>siapa yang telat beri tau kamu edan sarap gue ...</td>\n",
              "      <td>3</td>\n",
              "    </tr>\n",
              "    <tr>\n",
              "      <th>2</th>\n",
              "      <td>kadang aku pikir kenapa aku tetap percaya pada...</td>\n",
              "      <td>0</td>\n",
              "    </tr>\n",
              "    <tr>\n",
              "      <th>3</th>\n",
              "      <td>aku itu aku ku tau mata sipit tapi lihat dari ...</td>\n",
              "      <td>0</td>\n",
              "    </tr>\n",
              "    <tr>\n",
              "      <th>4</th>\n",
              "      <td>kaum cebong kafir sudah lihat dongok dari awal...</td>\n",
              "      <td>2</td>\n",
              "    </tr>\n",
              "  </tbody>\n",
              "</table>\n",
              "</div>\n",
              "      <button class=\"colab-df-convert\" onclick=\"convertToInteractive('df-abdf2285-0582-4b24-9a19-00650ddd2863')\"\n",
              "              title=\"Convert this dataframe to an interactive table.\"\n",
              "              style=\"display:none;\">\n",
              "        \n",
              "  <svg xmlns=\"http://www.w3.org/2000/svg\" height=\"24px\"viewBox=\"0 0 24 24\"\n",
              "       width=\"24px\">\n",
              "    <path d=\"M0 0h24v24H0V0z\" fill=\"none\"/>\n",
              "    <path d=\"M18.56 5.44l.94 2.06.94-2.06 2.06-.94-2.06-.94-.94-2.06-.94 2.06-2.06.94zm-11 1L8.5 8.5l.94-2.06 2.06-.94-2.06-.94L8.5 2.5l-.94 2.06-2.06.94zm10 10l.94 2.06.94-2.06 2.06-.94-2.06-.94-.94-2.06-.94 2.06-2.06.94z\"/><path d=\"M17.41 7.96l-1.37-1.37c-.4-.4-.92-.59-1.43-.59-.52 0-1.04.2-1.43.59L10.3 9.45l-7.72 7.72c-.78.78-.78 2.05 0 2.83L4 21.41c.39.39.9.59 1.41.59.51 0 1.02-.2 1.41-.59l7.78-7.78 2.81-2.81c.8-.78.8-2.07 0-2.86zM5.41 20L4 18.59l7.72-7.72 1.47 1.35L5.41 20z\"/>\n",
              "  </svg>\n",
              "      </button>\n",
              "      \n",
              "  <style>\n",
              "    .colab-df-container {\n",
              "      display:flex;\n",
              "      flex-wrap:wrap;\n",
              "      gap: 12px;\n",
              "    }\n",
              "\n",
              "    .colab-df-convert {\n",
              "      background-color: #E8F0FE;\n",
              "      border: none;\n",
              "      border-radius: 50%;\n",
              "      cursor: pointer;\n",
              "      display: none;\n",
              "      fill: #1967D2;\n",
              "      height: 32px;\n",
              "      padding: 0 0 0 0;\n",
              "      width: 32px;\n",
              "    }\n",
              "\n",
              "    .colab-df-convert:hover {\n",
              "      background-color: #E2EBFA;\n",
              "      box-shadow: 0px 1px 2px rgba(60, 64, 67, 0.3), 0px 1px 3px 1px rgba(60, 64, 67, 0.15);\n",
              "      fill: #174EA6;\n",
              "    }\n",
              "\n",
              "    [theme=dark] .colab-df-convert {\n",
              "      background-color: #3B4455;\n",
              "      fill: #D2E3FC;\n",
              "    }\n",
              "\n",
              "    [theme=dark] .colab-df-convert:hover {\n",
              "      background-color: #434B5C;\n",
              "      box-shadow: 0px 1px 3px 1px rgba(0, 0, 0, 0.15);\n",
              "      filter: drop-shadow(0px 1px 2px rgba(0, 0, 0, 0.3));\n",
              "      fill: #FFFFFF;\n",
              "    }\n",
              "  </style>\n",
              "\n",
              "      <script>\n",
              "        const buttonEl =\n",
              "          document.querySelector('#df-abdf2285-0582-4b24-9a19-00650ddd2863 button.colab-df-convert');\n",
              "        buttonEl.style.display =\n",
              "          google.colab.kernel.accessAllowed ? 'block' : 'none';\n",
              "\n",
              "        async function convertToInteractive(key) {\n",
              "          const element = document.querySelector('#df-abdf2285-0582-4b24-9a19-00650ddd2863');\n",
              "          const dataTable =\n",
              "            await google.colab.kernel.invokeFunction('convertToInteractive',\n",
              "                                                     [key], {});\n",
              "          if (!dataTable) return;\n",
              "\n",
              "          const docLinkHtml = 'Like what you see? Visit the ' +\n",
              "            '<a target=\"_blank\" href=https://colab.research.google.com/notebooks/data_table.ipynb>data table notebook</a>'\n",
              "            + ' to learn more about interactive tables.';\n",
              "          element.innerHTML = '';\n",
              "          dataTable['output_type'] = 'display_data';\n",
              "          await google.colab.output.renderOutput(dataTable, element);\n",
              "          const docLink = document.createElement('div');\n",
              "          docLink.innerHTML = docLinkHtml;\n",
              "          element.appendChild(docLink);\n",
              "        }\n",
              "      </script>\n",
              "    </div>\n",
              "  </div>\n",
              "  "
            ],
            "application/vnd.google.colaboratory.module+javascript": "\n      import \"https://ssl.gstatic.com/colaboratory/data_table/f872b2c2305463fd/data_table.js\";\n\n      window.createDataTable({\n        data: [[{\n            'v': 0,\n            'f': \"0\",\n        },\n\"di saat semua cowok usaha lacak perhati gue kamu lantas remeh perhati yang gue kasih khusus ke kamu basic kamu cowok bego\",\n{\n            'v': 1,\n            'f': \"1\",\n        }],\n [{\n            'v': 1,\n            'f': \"1\",\n        },\n\"siapa yang telat beri tau kamu edan sarap gue gaul dengan cigax jifla cal sama siapa itu licew juga\",\n{\n            'v': 3,\n            'f': \"3\",\n        }],\n [{\n            'v': 2,\n            'f': \"2\",\n        },\n\"kadang aku pikir kenapa aku tetap percaya pada tuhan padahal aku selalu jatuh kali kali kadang aku rasa tuhan itu tinggal aku sendiri ketika orang tua rencana pisah ketika kakak lebih pilih jadi kristen ketika aku anak ter\",\n{\n            'v': 0,\n            'f': \"0\",\n        }],\n [{\n            'v': 3,\n            'f': \"3\",\n        },\n\"aku itu aku ku tau mata sipit tapi lihat dari mana itu aku\",\n{\n            'v': 0,\n            'f': \"0\",\n        }],\n [{\n            'v': 4,\n            'f': \"4\",\n        },\n\"kaum cebong kafir sudah lihat dongok dari awal tambah dungu lagi haha\",\n{\n            'v': 2,\n            'f': \"2\",\n        }]],\n        columns: [[\"number\", \"index\"], [\"string\", \"text\"], [\"number\", \"label\"]],\n        columnOptions: [{\"width\": \"1px\", \"className\": \"index_column\"}],\n        rowsPerPage: 25,\n        helpUrl: \"https://colab.research.google.com/notebooks/data_table.ipynb\",\n        suppressOutputScrolling: true,\n        minimumWidth: undefined,\n      });\n    "
          },
          "metadata": {},
          "execution_count": 672
        }
      ],
      "source": [
        "def label_classification_weak(hs):\n",
        "    label = \"\"\n",
        "\n",
        "    if int(hs) == 1:\n",
        "        label = 1\n",
        "    else:\n",
        "        label = 0\n",
        "\n",
        "    return label\n",
        "\n",
        "\n",
        "def label_classification_moderate(hs):\n",
        "    label = \"\"\n",
        "\n",
        "    if int(hs) == 1:\n",
        "        label = 2\n",
        "    else:\n",
        "        label = 0\n",
        "\n",
        "    return label\n",
        "\n",
        "\n",
        "def label_classification_strong(hs):\n",
        "    label = \"\"\n",
        "\n",
        "    if int(hs) == 1:\n",
        "        label = 3\n",
        "    else:\n",
        "        label = 0\n",
        "\n",
        "    return label\n",
        "\n",
        "\n",
        "df[\"label_weak\"] = df[\"HS_Weak\"].apply(label_classification_weak)\n",
        "df[\"label_moderate\"] = df[\"HS_Moderate\"].apply(label_classification_moderate)\n",
        "df[\"label_strong\"] = df[\"HS_Strong\"].apply(label_classification_strong)\n",
        "\n",
        "df[\"label\"] = df[[\"label_weak\", \"label_moderate\", \"label_strong\"]].max(1)\n",
        "df = df[[\"text\", \"label\"]]\n",
        "\n",
        "df.to_csv(\"dataset_preprocessed.csv\", index=False)\n",
        "\n",
        "df.head()"
      ]
    },
    {
      "cell_type": "code",
      "execution_count": 673,
      "metadata": {
        "colab": {
          "base_uri": "https://localhost:8080/",
          "height": 193
        },
        "id": "tA4tSsD67Q66",
        "outputId": "2fd7842f-4659-4aaf-ec4e-d0715b7a7746"
      },
      "outputs": [
        {
          "output_type": "stream",
          "name": "stdout",
          "text": [
            "Number of Data:  (13169, 2)\n"
          ]
        },
        {
          "output_type": "execute_result",
          "data": {
            "text/plain": [
              "   label  counts of label\n",
              "0      0             5860\n",
              "1      1             3383\n",
              "2      3             2221\n",
              "3      2             1705"
            ],
            "text/html": [
              "\n",
              "  <div id=\"df-7e7796a9-335a-4632-a5cc-0cfe55afd8a3\">\n",
              "    <div class=\"colab-df-container\">\n",
              "      <div>\n",
              "<style scoped>\n",
              "    .dataframe tbody tr th:only-of-type {\n",
              "        vertical-align: middle;\n",
              "    }\n",
              "\n",
              "    .dataframe tbody tr th {\n",
              "        vertical-align: top;\n",
              "    }\n",
              "\n",
              "    .dataframe thead th {\n",
              "        text-align: right;\n",
              "    }\n",
              "</style>\n",
              "<table border=\"1\" class=\"dataframe\">\n",
              "  <thead>\n",
              "    <tr style=\"text-align: right;\">\n",
              "      <th></th>\n",
              "      <th>label</th>\n",
              "      <th>counts of label</th>\n",
              "    </tr>\n",
              "  </thead>\n",
              "  <tbody>\n",
              "    <tr>\n",
              "      <th>0</th>\n",
              "      <td>0</td>\n",
              "      <td>5860</td>\n",
              "    </tr>\n",
              "    <tr>\n",
              "      <th>1</th>\n",
              "      <td>1</td>\n",
              "      <td>3383</td>\n",
              "    </tr>\n",
              "    <tr>\n",
              "      <th>2</th>\n",
              "      <td>3</td>\n",
              "      <td>2221</td>\n",
              "    </tr>\n",
              "    <tr>\n",
              "      <th>3</th>\n",
              "      <td>2</td>\n",
              "      <td>1705</td>\n",
              "    </tr>\n",
              "  </tbody>\n",
              "</table>\n",
              "</div>\n",
              "      <button class=\"colab-df-convert\" onclick=\"convertToInteractive('df-7e7796a9-335a-4632-a5cc-0cfe55afd8a3')\"\n",
              "              title=\"Convert this dataframe to an interactive table.\"\n",
              "              style=\"display:none;\">\n",
              "        \n",
              "  <svg xmlns=\"http://www.w3.org/2000/svg\" height=\"24px\"viewBox=\"0 0 24 24\"\n",
              "       width=\"24px\">\n",
              "    <path d=\"M0 0h24v24H0V0z\" fill=\"none\"/>\n",
              "    <path d=\"M18.56 5.44l.94 2.06.94-2.06 2.06-.94-2.06-.94-.94-2.06-.94 2.06-2.06.94zm-11 1L8.5 8.5l.94-2.06 2.06-.94-2.06-.94L8.5 2.5l-.94 2.06-2.06.94zm10 10l.94 2.06.94-2.06 2.06-.94-2.06-.94-.94-2.06-.94 2.06-2.06.94z\"/><path d=\"M17.41 7.96l-1.37-1.37c-.4-.4-.92-.59-1.43-.59-.52 0-1.04.2-1.43.59L10.3 9.45l-7.72 7.72c-.78.78-.78 2.05 0 2.83L4 21.41c.39.39.9.59 1.41.59.51 0 1.02-.2 1.41-.59l7.78-7.78 2.81-2.81c.8-.78.8-2.07 0-2.86zM5.41 20L4 18.59l7.72-7.72 1.47 1.35L5.41 20z\"/>\n",
              "  </svg>\n",
              "      </button>\n",
              "      \n",
              "  <style>\n",
              "    .colab-df-container {\n",
              "      display:flex;\n",
              "      flex-wrap:wrap;\n",
              "      gap: 12px;\n",
              "    }\n",
              "\n",
              "    .colab-df-convert {\n",
              "      background-color: #E8F0FE;\n",
              "      border: none;\n",
              "      border-radius: 50%;\n",
              "      cursor: pointer;\n",
              "      display: none;\n",
              "      fill: #1967D2;\n",
              "      height: 32px;\n",
              "      padding: 0 0 0 0;\n",
              "      width: 32px;\n",
              "    }\n",
              "\n",
              "    .colab-df-convert:hover {\n",
              "      background-color: #E2EBFA;\n",
              "      box-shadow: 0px 1px 2px rgba(60, 64, 67, 0.3), 0px 1px 3px 1px rgba(60, 64, 67, 0.15);\n",
              "      fill: #174EA6;\n",
              "    }\n",
              "\n",
              "    [theme=dark] .colab-df-convert {\n",
              "      background-color: #3B4455;\n",
              "      fill: #D2E3FC;\n",
              "    }\n",
              "\n",
              "    [theme=dark] .colab-df-convert:hover {\n",
              "      background-color: #434B5C;\n",
              "      box-shadow: 0px 1px 3px 1px rgba(0, 0, 0, 0.15);\n",
              "      filter: drop-shadow(0px 1px 2px rgba(0, 0, 0, 0.3));\n",
              "      fill: #FFFFFF;\n",
              "    }\n",
              "  </style>\n",
              "\n",
              "      <script>\n",
              "        const buttonEl =\n",
              "          document.querySelector('#df-7e7796a9-335a-4632-a5cc-0cfe55afd8a3 button.colab-df-convert');\n",
              "        buttonEl.style.display =\n",
              "          google.colab.kernel.accessAllowed ? 'block' : 'none';\n",
              "\n",
              "        async function convertToInteractive(key) {\n",
              "          const element = document.querySelector('#df-7e7796a9-335a-4632-a5cc-0cfe55afd8a3');\n",
              "          const dataTable =\n",
              "            await google.colab.kernel.invokeFunction('convertToInteractive',\n",
              "                                                     [key], {});\n",
              "          if (!dataTable) return;\n",
              "\n",
              "          const docLinkHtml = 'Like what you see? Visit the ' +\n",
              "            '<a target=\"_blank\" href=https://colab.research.google.com/notebooks/data_table.ipynb>data table notebook</a>'\n",
              "            + ' to learn more about interactive tables.';\n",
              "          element.innerHTML = '';\n",
              "          dataTable['output_type'] = 'display_data';\n",
              "          await google.colab.output.renderOutput(dataTable, element);\n",
              "          const docLink = document.createElement('div');\n",
              "          docLink.innerHTML = docLinkHtml;\n",
              "          element.appendChild(docLink);\n",
              "        }\n",
              "      </script>\n",
              "    </div>\n",
              "  </div>\n",
              "  "
            ],
            "application/vnd.google.colaboratory.module+javascript": "\n      import \"https://ssl.gstatic.com/colaboratory/data_table/f872b2c2305463fd/data_table.js\";\n\n      window.createDataTable({\n        data: [[{\n            'v': 0,\n            'f': \"0\",\n        },\n{\n            'v': 0,\n            'f': \"0\",\n        },\n{\n            'v': 5860,\n            'f': \"5860\",\n        }],\n [{\n            'v': 1,\n            'f': \"1\",\n        },\n{\n            'v': 1,\n            'f': \"1\",\n        },\n{\n            'v': 3383,\n            'f': \"3383\",\n        }],\n [{\n            'v': 2,\n            'f': \"2\",\n        },\n{\n            'v': 3,\n            'f': \"3\",\n        },\n{\n            'v': 2221,\n            'f': \"2221\",\n        }],\n [{\n            'v': 3,\n            'f': \"3\",\n        },\n{\n            'v': 2,\n            'f': \"2\",\n        },\n{\n            'v': 1705,\n            'f': \"1705\",\n        }]],\n        columns: [[\"number\", \"index\"], [\"number\", \"label\"], [\"number\", \"counts of label\"]],\n        columnOptions: [{\"width\": \"1px\", \"className\": \"index_column\"}],\n        rowsPerPage: 25,\n        helpUrl: \"https://colab.research.google.com/notebooks/data_table.ipynb\",\n        suppressOutputScrolling: true,\n        minimumWidth: undefined,\n      });\n    "
          },
          "metadata": {},
          "execution_count": 673
        }
      ],
      "source": [
        "print(\"Number of Data: \", df.shape)\n",
        "\n",
        "# converting to df and assigning new name to the columns\n",
        "value_counts = df[\"label\"].value_counts()\n",
        "\n",
        "df_value_counts = pd.DataFrame(value_counts)\n",
        "df_value_counts = df_value_counts.reset_index()\n",
        "df_value_counts.columns = [\"label\", \"counts of label\"]  # change columns name\n",
        "df_value_counts"
      ]
    },
    {
      "cell_type": "markdown",
      "metadata": {
        "id": "fhVp4SUEI1S6"
      },
      "source": [
        "# 5. Remove Missing Values"
      ]
    },
    {
      "cell_type": "code",
      "execution_count": 674,
      "metadata": {
        "colab": {
          "base_uri": "https://localhost:8080/"
        },
        "id": "3TV0gq-gI1S7",
        "outputId": "071bfee4-b6a8-4d3e-f80a-74084ead5ad7"
      },
      "outputs": [
        {
          "output_type": "stream",
          "name": "stdout",
          "text": [
            "text     46\n",
            "label     0\n",
            "dtype: int64\n"
          ]
        }
      ],
      "source": [
        "df_indexed = pd.read_csv(\"dataset_preprocessed.csv\")\n",
        "print(df_indexed.isnull().sum())"
      ]
    },
    {
      "cell_type": "code",
      "execution_count": 675,
      "metadata": {
        "colab": {
          "base_uri": "https://localhost:8080/"
        },
        "id": "d1NXVvLQXwQ0",
        "outputId": "e08dcd33-f0f4-4bbc-af32-e658e37419c1"
      },
      "outputs": [
        {
          "output_type": "stream",
          "name": "stdout",
          "text": [
            "text     0\n",
            "label    0\n",
            "dtype: int64\n"
          ]
        }
      ],
      "source": [
        "df_indexed = df_indexed[df_indexed[\"text\"].notna()]\n",
        "print(df_indexed.isnull().sum())"
      ]
    },
    {
      "cell_type": "code",
      "execution_count": 676,
      "metadata": {
        "colab": {
          "base_uri": "https://localhost:8080/"
        },
        "id": "hBdpUa25I1S7",
        "outputId": "f56c1d80-f9b1-43fb-dc6e-5c293c79f2a9"
      },
      "outputs": [
        {
          "output_type": "stream",
          "name": "stdout",
          "text": [
            "Number of Indexed Dataset:  (13123, 2)\n"
          ]
        }
      ],
      "source": [
        "print(\"Number of Indexed Dataset: \", df_indexed.shape)"
      ]
    },
    {
      "cell_type": "code",
      "execution_count": 677,
      "metadata": {
        "colab": {
          "base_uri": "https://localhost:8080/"
        },
        "id": "x9PuLjEoI1S8",
        "outputId": "00ae27c5-b231-47bf-d107-3424ea8c97a3"
      },
      "outputs": [
        {
          "output_type": "stream",
          "name": "stdout",
          "text": [
            "Preprocessed Dataset has been downloaded\n"
          ]
        }
      ],
      "source": [
        "# save dataset to Drive\n",
        "df_indexed.to_csv(\"/content/drive/MyDrive/multi-label-hate-speech-detection/data/dataset_preprocessed.csv\", index=False)\n",
        "print('Preprocessed Dataset has been downloaded')"
      ]
    },
    {
      "cell_type": "markdown",
      "metadata": {
        "id": "GAxUdpJ8M0Tw"
      },
      "source": [
        "# 6. Split Up Dataset"
      ]
    },
    {
      "cell_type": "markdown",
      "metadata": {
        "id": "QJvb3GQCEarC"
      },
      "source": [
        "## 6.1 Import Preprocessed Dataset\n",
        "\n"
      ]
    },
    {
      "cell_type": "code",
      "execution_count": 678,
      "metadata": {
        "colab": {
          "base_uri": "https://localhost:8080/"
        },
        "id": "jWgY8KQk5GKu",
        "outputId": "6c5708ed-e342-4fad-d6a0-42a52f5381f2"
      },
      "outputs": [
        {
          "output_type": "stream",
          "name": "stdout",
          "text": [
            "Dataset successfully imported\n"
          ]
        }
      ],
      "source": [
        "# import preprocessed dataset\n",
        "df = pd.read_csv(\"/content/drive/MyDrive/multi-label-hate-speech-detection/data/dataset_preprocessed.csv\")\n",
        "print('Dataset successfully imported')"
      ]
    },
    {
      "cell_type": "code",
      "execution_count": 679,
      "metadata": {
        "colab": {
          "base_uri": "https://localhost:8080/",
          "height": 215
        },
        "id": "KYGQQhzOcP5A",
        "outputId": "68b772e6-102e-4821-976a-fef9ee6aca7a"
      },
      "outputs": [
        {
          "output_type": "stream",
          "name": "stdout",
          "text": [
            "Number of Data:  (13123, 2)\n"
          ]
        },
        {
          "output_type": "execute_result",
          "data": {
            "text/plain": [
              "                                                text  label\n",
              "0  di saat semua cowok usaha lacak perhati gue ka...      1\n",
              "1  siapa yang telat beri tau kamu edan sarap gue ...      3\n",
              "2  kadang aku pikir kenapa aku tetap percaya pada...      0\n",
              "3  aku itu aku ku tau mata sipit tapi lihat dari ...      0\n",
              "4  kaum cebong kafir sudah lihat dongok dari awal...      2"
            ],
            "text/html": [
              "\n",
              "  <div id=\"df-f8c8dc9a-917f-43c1-8bb1-be5cea168aff\">\n",
              "    <div class=\"colab-df-container\">\n",
              "      <div>\n",
              "<style scoped>\n",
              "    .dataframe tbody tr th:only-of-type {\n",
              "        vertical-align: middle;\n",
              "    }\n",
              "\n",
              "    .dataframe tbody tr th {\n",
              "        vertical-align: top;\n",
              "    }\n",
              "\n",
              "    .dataframe thead th {\n",
              "        text-align: right;\n",
              "    }\n",
              "</style>\n",
              "<table border=\"1\" class=\"dataframe\">\n",
              "  <thead>\n",
              "    <tr style=\"text-align: right;\">\n",
              "      <th></th>\n",
              "      <th>text</th>\n",
              "      <th>label</th>\n",
              "    </tr>\n",
              "  </thead>\n",
              "  <tbody>\n",
              "    <tr>\n",
              "      <th>0</th>\n",
              "      <td>di saat semua cowok usaha lacak perhati gue ka...</td>\n",
              "      <td>1</td>\n",
              "    </tr>\n",
              "    <tr>\n",
              "      <th>1</th>\n",
              "      <td>siapa yang telat beri tau kamu edan sarap gue ...</td>\n",
              "      <td>3</td>\n",
              "    </tr>\n",
              "    <tr>\n",
              "      <th>2</th>\n",
              "      <td>kadang aku pikir kenapa aku tetap percaya pada...</td>\n",
              "      <td>0</td>\n",
              "    </tr>\n",
              "    <tr>\n",
              "      <th>3</th>\n",
              "      <td>aku itu aku ku tau mata sipit tapi lihat dari ...</td>\n",
              "      <td>0</td>\n",
              "    </tr>\n",
              "    <tr>\n",
              "      <th>4</th>\n",
              "      <td>kaum cebong kafir sudah lihat dongok dari awal...</td>\n",
              "      <td>2</td>\n",
              "    </tr>\n",
              "  </tbody>\n",
              "</table>\n",
              "</div>\n",
              "      <button class=\"colab-df-convert\" onclick=\"convertToInteractive('df-f8c8dc9a-917f-43c1-8bb1-be5cea168aff')\"\n",
              "              title=\"Convert this dataframe to an interactive table.\"\n",
              "              style=\"display:none;\">\n",
              "        \n",
              "  <svg xmlns=\"http://www.w3.org/2000/svg\" height=\"24px\"viewBox=\"0 0 24 24\"\n",
              "       width=\"24px\">\n",
              "    <path d=\"M0 0h24v24H0V0z\" fill=\"none\"/>\n",
              "    <path d=\"M18.56 5.44l.94 2.06.94-2.06 2.06-.94-2.06-.94-.94-2.06-.94 2.06-2.06.94zm-11 1L8.5 8.5l.94-2.06 2.06-.94-2.06-.94L8.5 2.5l-.94 2.06-2.06.94zm10 10l.94 2.06.94-2.06 2.06-.94-2.06-.94-.94-2.06-.94 2.06-2.06.94z\"/><path d=\"M17.41 7.96l-1.37-1.37c-.4-.4-.92-.59-1.43-.59-.52 0-1.04.2-1.43.59L10.3 9.45l-7.72 7.72c-.78.78-.78 2.05 0 2.83L4 21.41c.39.39.9.59 1.41.59.51 0 1.02-.2 1.41-.59l7.78-7.78 2.81-2.81c.8-.78.8-2.07 0-2.86zM5.41 20L4 18.59l7.72-7.72 1.47 1.35L5.41 20z\"/>\n",
              "  </svg>\n",
              "      </button>\n",
              "      \n",
              "  <style>\n",
              "    .colab-df-container {\n",
              "      display:flex;\n",
              "      flex-wrap:wrap;\n",
              "      gap: 12px;\n",
              "    }\n",
              "\n",
              "    .colab-df-convert {\n",
              "      background-color: #E8F0FE;\n",
              "      border: none;\n",
              "      border-radius: 50%;\n",
              "      cursor: pointer;\n",
              "      display: none;\n",
              "      fill: #1967D2;\n",
              "      height: 32px;\n",
              "      padding: 0 0 0 0;\n",
              "      width: 32px;\n",
              "    }\n",
              "\n",
              "    .colab-df-convert:hover {\n",
              "      background-color: #E2EBFA;\n",
              "      box-shadow: 0px 1px 2px rgba(60, 64, 67, 0.3), 0px 1px 3px 1px rgba(60, 64, 67, 0.15);\n",
              "      fill: #174EA6;\n",
              "    }\n",
              "\n",
              "    [theme=dark] .colab-df-convert {\n",
              "      background-color: #3B4455;\n",
              "      fill: #D2E3FC;\n",
              "    }\n",
              "\n",
              "    [theme=dark] .colab-df-convert:hover {\n",
              "      background-color: #434B5C;\n",
              "      box-shadow: 0px 1px 3px 1px rgba(0, 0, 0, 0.15);\n",
              "      filter: drop-shadow(0px 1px 2px rgba(0, 0, 0, 0.3));\n",
              "      fill: #FFFFFF;\n",
              "    }\n",
              "  </style>\n",
              "\n",
              "      <script>\n",
              "        const buttonEl =\n",
              "          document.querySelector('#df-f8c8dc9a-917f-43c1-8bb1-be5cea168aff button.colab-df-convert');\n",
              "        buttonEl.style.display =\n",
              "          google.colab.kernel.accessAllowed ? 'block' : 'none';\n",
              "\n",
              "        async function convertToInteractive(key) {\n",
              "          const element = document.querySelector('#df-f8c8dc9a-917f-43c1-8bb1-be5cea168aff');\n",
              "          const dataTable =\n",
              "            await google.colab.kernel.invokeFunction('convertToInteractive',\n",
              "                                                     [key], {});\n",
              "          if (!dataTable) return;\n",
              "\n",
              "          const docLinkHtml = 'Like what you see? Visit the ' +\n",
              "            '<a target=\"_blank\" href=https://colab.research.google.com/notebooks/data_table.ipynb>data table notebook</a>'\n",
              "            + ' to learn more about interactive tables.';\n",
              "          element.innerHTML = '';\n",
              "          dataTable['output_type'] = 'display_data';\n",
              "          await google.colab.output.renderOutput(dataTable, element);\n",
              "          const docLink = document.createElement('div');\n",
              "          docLink.innerHTML = docLinkHtml;\n",
              "          element.appendChild(docLink);\n",
              "        }\n",
              "      </script>\n",
              "    </div>\n",
              "  </div>\n",
              "  "
            ],
            "application/vnd.google.colaboratory.module+javascript": "\n      import \"https://ssl.gstatic.com/colaboratory/data_table/f872b2c2305463fd/data_table.js\";\n\n      window.createDataTable({\n        data: [[{\n            'v': 0,\n            'f': \"0\",\n        },\n\"di saat semua cowok usaha lacak perhati gue kamu lantas remeh perhati yang gue kasih khusus ke kamu basic kamu cowok bego\",\n{\n            'v': 1,\n            'f': \"1\",\n        }],\n [{\n            'v': 1,\n            'f': \"1\",\n        },\n\"siapa yang telat beri tau kamu edan sarap gue gaul dengan cigax jifla cal sama siapa itu licew juga\",\n{\n            'v': 3,\n            'f': \"3\",\n        }],\n [{\n            'v': 2,\n            'f': \"2\",\n        },\n\"kadang aku pikir kenapa aku tetap percaya pada tuhan padahal aku selalu jatuh kali kali kadang aku rasa tuhan itu tinggal aku sendiri ketika orang tua rencana pisah ketika kakak lebih pilih jadi kristen ketika aku anak ter\",\n{\n            'v': 0,\n            'f': \"0\",\n        }],\n [{\n            'v': 3,\n            'f': \"3\",\n        },\n\"aku itu aku ku tau mata sipit tapi lihat dari mana itu aku\",\n{\n            'v': 0,\n            'f': \"0\",\n        }],\n [{\n            'v': 4,\n            'f': \"4\",\n        },\n\"kaum cebong kafir sudah lihat dongok dari awal tambah dungu lagi haha\",\n{\n            'v': 2,\n            'f': \"2\",\n        }]],\n        columns: [[\"number\", \"index\"], [\"string\", \"text\"], [\"number\", \"label\"]],\n        columnOptions: [{\"width\": \"1px\", \"className\": \"index_column\"}],\n        rowsPerPage: 25,\n        helpUrl: \"https://colab.research.google.com/notebooks/data_table.ipynb\",\n        suppressOutputScrolling: true,\n        minimumWidth: undefined,\n      });\n    "
          },
          "metadata": {},
          "execution_count": 679
        }
      ],
      "source": [
        "print(\"Number of Data: \", df.shape)\n",
        "df.head()"
      ]
    },
    {
      "cell_type": "markdown",
      "metadata": {
        "id": "yxfaGkDYvNJV"
      },
      "source": [
        "## 6.2 Hold-out Validation"
      ]
    },
    {
      "cell_type": "markdown",
      "metadata": {
        "id": "jdK71WHri566"
      },
      "source": [
        "Split up dataset into train, valid, and test set with a ratio of 80% train, 10% test, and 10% valid"
      ]
    },
    {
      "cell_type": "code",
      "execution_count": 680,
      "metadata": {
        "colab": {
          "base_uri": "https://localhost:8080/"
        },
        "id": "bh2PYRkUvNJa",
        "outputId": "326b7590-a60f-4d31-a455-22d5b308fb16"
      },
      "outputs": [
        {
          "output_type": "stream",
          "name": "stdout",
          "text": [
            "Number of Train Dataset:  (10498,)\n",
            "0    4668\n",
            "1    2672\n",
            "3    1810\n",
            "2    1348\n",
            "Name: label, dtype: int64\n",
            "\n",
            "Number of Valid Dataset:  (1312,)\n",
            "0    560\n",
            "1    372\n",
            "3    201\n",
            "2    179\n",
            "Name: label, dtype: int64\n",
            "\n",
            "Number of Test Dataset:  (1313,)\n",
            "0    594\n",
            "1    332\n",
            "3    210\n",
            "2    177\n",
            "Name: label, dtype: int64\n"
          ]
        }
      ],
      "source": [
        "# define dataset\n",
        "X = df[\"text\"]\n",
        "y = df[\"label\"]\n",
        "\n",
        "# split into 80:10:10 ration\n",
        "X_train, X_rem, y_train, y_rem = train_test_split(X, y, train_size=0.8, random_state=random_state)\n",
        "X_valid, X_test, y_valid, y_test = train_test_split(\n",
        "    X_rem, y_rem, test_size=0.5, random_state=random_state\n",
        ")\n",
        "\n",
        "# describe info about train, valid, and test set\n",
        "print(\"Number of Train Dataset: \", y_train.shape)\n",
        "print(y_train.value_counts())\n",
        "\n",
        "print(\"\\nNumber of Valid Dataset: \", y_valid.shape)\n",
        "print(y_valid.value_counts())\n",
        "\n",
        "print(\"\\nNumber of Test Dataset: \", y_test.shape)\n",
        "print(y_test.value_counts())\n",
        "\n",
        "df_train = pd.concat([X_train, y_train], axis=1)\n",
        "df_valid = pd.concat([X_valid, y_valid], axis=1)\n",
        "df_test = pd.concat([X_test, y_test], axis=1)\n",
        "\n",
        "df_train.to_csv(\"dataset_training.csv\", index=False)\n",
        "df_valid.to_csv(\"dataset_validation.csv\", index=False)\n",
        "df_test.to_csv(\"dataset_testing.csv\", index=False)"
      ]
    },
    {
      "cell_type": "code",
      "execution_count": 681,
      "metadata": {
        "id": "yCsr_5G3qcc7"
      },
      "outputs": [],
      "source": [
        "df_train = pd.read_csv(\"dataset_training.csv\")\n",
        "df_test = pd.read_csv(\"dataset_testing.csv\")\n",
        "df_valid = pd.read_csv(\"dataset_validation.csv\")"
      ]
    },
    {
      "cell_type": "markdown",
      "metadata": {
        "id": "8ZG-uXxaG6QJ"
      },
      "source": [
        "## 6.3 Balancing Data with SMOTE (Optional)\n",
        "Uncomment this section if you want to work with balance data"
      ]
    },
    {
      "cell_type": "code",
      "execution_count": 682,
      "metadata": {
        "id": "HPb55b2QZvKO"
      },
      "outputs": [],
      "source": [
        "# # convert strings into numericals using TfidfVectorizer\n",
        "# vec_train = TfidfVectorizer()\n",
        "# vec_test = TfidfVectorizer()\n",
        "# vec_valid = TfidfVectorizer()\n",
        "\n",
        "# X_train = vec_train.fit_transform(df_train['text'])\n",
        "# X_valid = vec_valid.fit_transform(df_valid['text'])\n",
        "# X_test = vec_test.fit_transform(df_test['text'])"
      ]
    },
    {
      "cell_type": "code",
      "execution_count": 683,
      "metadata": {
        "id": "GeVTA_O7ue0P"
      },
      "outputs": [],
      "source": [
        "# sm = SMOTE(random_state = 42)\n",
        "\n",
        "# X_train_res, y_train_res = sm.fit_resample(X_train, y_train.ravel())\n",
        "# X_test_res, y_test_res = sm.fit_resample(X_test, y_test.ravel())\n",
        "# X_valid_res, y_valid_res = sm.fit_resample(X_valid, y_valid.ravel())\n",
        "\n",
        "# # convert back into strings using inverse_transform\n",
        "# X_train_res = vec_train.inverse_transform(X_train_res)\n",
        "# X_test_res = vec_test.inverse_transform(X_test_res)\n",
        "# X_valid_res = vec_valid.inverse_transform(X_valid_res)\n",
        "\n",
        "# pd.DataFrame({'text': X_train_res}).to_csv(\"X_train.csv\", index=False)\n",
        "# pd.DataFrame({'label': y_train_res}).to_csv(\"y_train.csv\", index=False)\n",
        "\n",
        "# pd.DataFrame({'text': X_test_res}).to_csv(\"X_test.csv\", index=False)\n",
        "# pd.DataFrame({'label': y_test_res}).to_csv(\"y_test.csv\", index=False)\n",
        "\n",
        "# pd.DataFrame({'text': X_valid_res}).to_csv(\"X_valid.csv\", index=False)\n",
        "# pd.DataFrame({'label': y_valid_res}).to_csv(\"y_valid.csv\", index=False)"
      ]
    },
    {
      "cell_type": "code",
      "execution_count": 684,
      "metadata": {
        "id": "2iOSIMoGZiSq"
      },
      "outputs": [],
      "source": [
        "# print(\"Before OverSampling, counts of label '0': {}\".format(sum(y_train == 0)))\n",
        "# print(\"Before OverSampling, counts of label '1': {}\".format(sum(y_train == 1)))\n",
        "# print(\"Before OverSampling, counts of label '2': {}\".format(sum(y_train == 2)))\n",
        "# print(\"Before OverSampling, counts of label '3': {} \\n\".format(sum(y_train == 3)))\n",
        "\n",
        "# print('After OverSampling, the shape of train_y: {} \\n'.format(y_train_res.shape))\n",
        "\n",
        "# print(\"After OverSampling, counts of label '0': {}\".format(sum(y_train_res == 0)))\n",
        "# print(\"After OverSampling, counts of label '1': {}\".format(sum(y_train_res == 1)))\n",
        "# print(\"After OverSampling, counts of label '2': {}\".format(sum(y_train_res == 2)))\n",
        "# print(\"After OverSampling, counts of label '3': {}\".format(sum(y_train_res == 3)))"
      ]
    },
    {
      "cell_type": "code",
      "execution_count": 685,
      "metadata": {
        "id": "D5tKqv5yjF6d"
      },
      "outputs": [],
      "source": [
        "# print(\"Before OverSampling, counts of label '0': {}\".format(sum(y_valid == 0)))\n",
        "# print(\"Before OverSampling, counts of label '1': {}\".format(sum(y_valid == 1)))\n",
        "# print(\"Before OverSampling, counts of label '2': {}\".format(sum(y_valid == 2)))\n",
        "# print(\"Before OverSampling, counts of label '3': {} \\n\".format(sum(y_valid == 3)))\n",
        "\n",
        "# print('After OverSampling, the shape of valid_y: {} \\n'.format(y_valid_res.shape))\n",
        "\n",
        "# print(\"After OverSampling, counts of label '0': {}\".format(sum(y_valid_res == 0)))\n",
        "# print(\"After OverSampling, counts of label '1': {}\".format(sum(y_valid_res == 1)))\n",
        "# print(\"After OverSampling, counts of label '2': {}\".format(sum(y_valid_res == 2)))\n",
        "# print(\"After OverSampling, counts of label '3': {}\".format(sum(y_valid_res == 3)))"
      ]
    },
    {
      "cell_type": "code",
      "execution_count": 686,
      "metadata": {
        "id": "9dqbmst1i7z8"
      },
      "outputs": [],
      "source": [
        "# print(\"Before OverSampling, counts of label '0': {}\".format(sum(y_test == 0)))\n",
        "# print(\"Before OverSampling, counts of label '1': {}\".format(sum(y_test == 1)))\n",
        "# print(\"Before OverSampling, counts of label '2': {}\".format(sum(y_test == 2)))\n",
        "# print(\"Before OverSampling, counts of label '3': {} \\n\".format(sum(y_test == 3)))\n",
        "\n",
        "# print('After OverSampling, the shape of test_y: {} \\n'.format(y_test_res.shape))\n",
        "\n",
        "# print(\"After OverSampling, counts of label '0': {}\".format(sum(y_test_res == 0)))\n",
        "# print(\"After OverSampling, counts of label '1': {}\".format(sum(y_test_res == 1)))\n",
        "# print(\"After OverSampling, counts of label '2': {}\".format(sum(y_test_res == 2)))\n",
        "# print(\"After OverSampling, counts of label '3': {}\".format(sum(y_test_res == 3)))"
      ]
    },
    {
      "cell_type": "code",
      "execution_count": 687,
      "metadata": {
        "id": "e49P5eFddq0X"
      },
      "outputs": [],
      "source": [
        "# def data_cleaning(text):\n",
        "#   text = re.sub(\"['']\", \"\", text)\n",
        "#   text = text.replace('[', '').replace(']', '')\n",
        "#   return text\n",
        "\n",
        "# df_train = pd.read_csv('X_train.csv')\n",
        "# df_test = pd.read_csv('X_test.csv')\n",
        "# df_valid = pd.read_csv('X_valid.csv')\n",
        "\n",
        "# df_train[\"text\"] = df_train[\"text\"].apply(data_cleaning)\n",
        "# df_train.text = df_train.text.str.strip()\n",
        "\n",
        "# df_test[\"text\"] = df_test[\"text\"].apply(data_cleaning)\n",
        "# df_test.text = df_test.text.str.strip()\n",
        "\n",
        "# df_valid[\"text\"] = df_valid[\"text\"].apply(data_cleaning)\n",
        "# df_valid.text = df_valid.text.str.strip()"
      ]
    },
    {
      "cell_type": "code",
      "execution_count": 688,
      "metadata": {
        "id": "102ItKJKieVj"
      },
      "outputs": [],
      "source": [
        "# df_train[[\"text\"]].head()"
      ]
    },
    {
      "cell_type": "code",
      "execution_count": 689,
      "metadata": {
        "id": "qMx4g5_jieMF"
      },
      "outputs": [],
      "source": [
        "# df_test[[\"text\"]].head()"
      ]
    },
    {
      "cell_type": "code",
      "execution_count": 690,
      "metadata": {
        "id": "fihABz_uid-8"
      },
      "outputs": [],
      "source": [
        "# df_valid[[\"text\"]].head()"
      ]
    },
    {
      "cell_type": "code",
      "execution_count": 691,
      "metadata": {
        "id": "uiYycYCgRaki"
      },
      "outputs": [],
      "source": [
        "# df_train.to_csv(\"X_train.csv\", index=False)\n",
        "# df_test.to_csv(\"X_test.csv\", index=False)\n",
        "# df_valid.to_csv(\"X_valid.csv\", index=False)"
      ]
    },
    {
      "cell_type": "code",
      "execution_count": 692,
      "metadata": {
        "id": "OlA83c8wUvsD"
      },
      "outputs": [],
      "source": [
        "# # save temp data training\n",
        "# df_X_train = pd.read_csv('X_train.csv')\n",
        "# df_y_train = pd.read_csv('y_train.csv')\n",
        "\n",
        "# df_train = pd.concat([df_X_train, df_y_train], axis=1)"
      ]
    },
    {
      "cell_type": "code",
      "execution_count": 693,
      "metadata": {
        "id": "L__A7be-kMEh"
      },
      "outputs": [],
      "source": [
        "# # save temp data validation\n",
        "# df_X_valid = pd.read_csv('X_valid.csv')\n",
        "# df_y_valid = pd.read_csv('y_valid.csv')\n",
        "\n",
        "# df_valid = pd.concat([df_X_valid, df_y_valid], axis=1)"
      ]
    },
    {
      "cell_type": "code",
      "execution_count": 694,
      "metadata": {
        "id": "Mc3DE4smkLn7"
      },
      "outputs": [],
      "source": [
        "# # save temp data testing\n",
        "# df_X_test = pd.read_csv('X_test.csv')\n",
        "# df_y_test = pd.read_csv('y_test.csv')\n",
        "\n",
        "# df_test = pd.concat([df_X_test, df_y_test], axis=1)"
      ]
    },
    {
      "cell_type": "markdown",
      "metadata": {
        "id": "N3yLjVFIgTtx"
      },
      "source": [
        "## 6.4 Label Classification"
      ]
    },
    {
      "cell_type": "code",
      "execution_count": 695,
      "metadata": {
        "colab": {
          "base_uri": "https://localhost:8080/",
          "height": 197
        },
        "id": "ZRkcNL4PgSvg",
        "outputId": "3fa00972-2871-4bdd-f667-8da543b841fd"
      },
      "outputs": [
        {
          "output_type": "execute_result",
          "data": {
            "text/plain": [
              "                                                text        label\n",
              "0          pakai emot emot saja gih emot nete contoh    HS_Strong\n",
              "1  dalam kancah politik alir saja sebut bagai bud...       Non_HS\n",
              "2           ya allah sinyal axis geblek banget sudah  HS_Moderate\n",
              "3  banyak cina yang pilih jokowi jadi aku pilih b...       Non_HS\n",
              "4  hujan goda itu ojek pengkol mau juga ngerojok ...    HS_Strong"
            ],
            "text/html": [
              "\n",
              "  <div id=\"df-90853fa0-c220-461b-89cc-8ef4596d2c23\">\n",
              "    <div class=\"colab-df-container\">\n",
              "      <div>\n",
              "<style scoped>\n",
              "    .dataframe tbody tr th:only-of-type {\n",
              "        vertical-align: middle;\n",
              "    }\n",
              "\n",
              "    .dataframe tbody tr th {\n",
              "        vertical-align: top;\n",
              "    }\n",
              "\n",
              "    .dataframe thead th {\n",
              "        text-align: right;\n",
              "    }\n",
              "</style>\n",
              "<table border=\"1\" class=\"dataframe\">\n",
              "  <thead>\n",
              "    <tr style=\"text-align: right;\">\n",
              "      <th></th>\n",
              "      <th>text</th>\n",
              "      <th>label</th>\n",
              "    </tr>\n",
              "  </thead>\n",
              "  <tbody>\n",
              "    <tr>\n",
              "      <th>0</th>\n",
              "      <td>pakai emot emot saja gih emot nete contoh</td>\n",
              "      <td>HS_Strong</td>\n",
              "    </tr>\n",
              "    <tr>\n",
              "      <th>1</th>\n",
              "      <td>dalam kancah politik alir saja sebut bagai bud...</td>\n",
              "      <td>Non_HS</td>\n",
              "    </tr>\n",
              "    <tr>\n",
              "      <th>2</th>\n",
              "      <td>ya allah sinyal axis geblek banget sudah</td>\n",
              "      <td>HS_Moderate</td>\n",
              "    </tr>\n",
              "    <tr>\n",
              "      <th>3</th>\n",
              "      <td>banyak cina yang pilih jokowi jadi aku pilih b...</td>\n",
              "      <td>Non_HS</td>\n",
              "    </tr>\n",
              "    <tr>\n",
              "      <th>4</th>\n",
              "      <td>hujan goda itu ojek pengkol mau juga ngerojok ...</td>\n",
              "      <td>HS_Strong</td>\n",
              "    </tr>\n",
              "  </tbody>\n",
              "</table>\n",
              "</div>\n",
              "      <button class=\"colab-df-convert\" onclick=\"convertToInteractive('df-90853fa0-c220-461b-89cc-8ef4596d2c23')\"\n",
              "              title=\"Convert this dataframe to an interactive table.\"\n",
              "              style=\"display:none;\">\n",
              "        \n",
              "  <svg xmlns=\"http://www.w3.org/2000/svg\" height=\"24px\"viewBox=\"0 0 24 24\"\n",
              "       width=\"24px\">\n",
              "    <path d=\"M0 0h24v24H0V0z\" fill=\"none\"/>\n",
              "    <path d=\"M18.56 5.44l.94 2.06.94-2.06 2.06-.94-2.06-.94-.94-2.06-.94 2.06-2.06.94zm-11 1L8.5 8.5l.94-2.06 2.06-.94-2.06-.94L8.5 2.5l-.94 2.06-2.06.94zm10 10l.94 2.06.94-2.06 2.06-.94-2.06-.94-.94-2.06-.94 2.06-2.06.94z\"/><path d=\"M17.41 7.96l-1.37-1.37c-.4-.4-.92-.59-1.43-.59-.52 0-1.04.2-1.43.59L10.3 9.45l-7.72 7.72c-.78.78-.78 2.05 0 2.83L4 21.41c.39.39.9.59 1.41.59.51 0 1.02-.2 1.41-.59l7.78-7.78 2.81-2.81c.8-.78.8-2.07 0-2.86zM5.41 20L4 18.59l7.72-7.72 1.47 1.35L5.41 20z\"/>\n",
              "  </svg>\n",
              "      </button>\n",
              "      \n",
              "  <style>\n",
              "    .colab-df-container {\n",
              "      display:flex;\n",
              "      flex-wrap:wrap;\n",
              "      gap: 12px;\n",
              "    }\n",
              "\n",
              "    .colab-df-convert {\n",
              "      background-color: #E8F0FE;\n",
              "      border: none;\n",
              "      border-radius: 50%;\n",
              "      cursor: pointer;\n",
              "      display: none;\n",
              "      fill: #1967D2;\n",
              "      height: 32px;\n",
              "      padding: 0 0 0 0;\n",
              "      width: 32px;\n",
              "    }\n",
              "\n",
              "    .colab-df-convert:hover {\n",
              "      background-color: #E2EBFA;\n",
              "      box-shadow: 0px 1px 2px rgba(60, 64, 67, 0.3), 0px 1px 3px 1px rgba(60, 64, 67, 0.15);\n",
              "      fill: #174EA6;\n",
              "    }\n",
              "\n",
              "    [theme=dark] .colab-df-convert {\n",
              "      background-color: #3B4455;\n",
              "      fill: #D2E3FC;\n",
              "    }\n",
              "\n",
              "    [theme=dark] .colab-df-convert:hover {\n",
              "      background-color: #434B5C;\n",
              "      box-shadow: 0px 1px 3px 1px rgba(0, 0, 0, 0.15);\n",
              "      filter: drop-shadow(0px 1px 2px rgba(0, 0, 0, 0.3));\n",
              "      fill: #FFFFFF;\n",
              "    }\n",
              "  </style>\n",
              "\n",
              "      <script>\n",
              "        const buttonEl =\n",
              "          document.querySelector('#df-90853fa0-c220-461b-89cc-8ef4596d2c23 button.colab-df-convert');\n",
              "        buttonEl.style.display =\n",
              "          google.colab.kernel.accessAllowed ? 'block' : 'none';\n",
              "\n",
              "        async function convertToInteractive(key) {\n",
              "          const element = document.querySelector('#df-90853fa0-c220-461b-89cc-8ef4596d2c23');\n",
              "          const dataTable =\n",
              "            await google.colab.kernel.invokeFunction('convertToInteractive',\n",
              "                                                     [key], {});\n",
              "          if (!dataTable) return;\n",
              "\n",
              "          const docLinkHtml = 'Like what you see? Visit the ' +\n",
              "            '<a target=\"_blank\" href=https://colab.research.google.com/notebooks/data_table.ipynb>data table notebook</a>'\n",
              "            + ' to learn more about interactive tables.';\n",
              "          element.innerHTML = '';\n",
              "          dataTable['output_type'] = 'display_data';\n",
              "          await google.colab.output.renderOutput(dataTable, element);\n",
              "          const docLink = document.createElement('div');\n",
              "          docLink.innerHTML = docLinkHtml;\n",
              "          element.appendChild(docLink);\n",
              "        }\n",
              "      </script>\n",
              "    </div>\n",
              "  </div>\n",
              "  "
            ],
            "application/vnd.google.colaboratory.module+javascript": "\n      import \"https://ssl.gstatic.com/colaboratory/data_table/f872b2c2305463fd/data_table.js\";\n\n      window.createDataTable({\n        data: [[{\n            'v': 0,\n            'f': \"0\",\n        },\n\"pakai emot emot saja gih emot nete contoh\",\n\"HS_Strong\"],\n [{\n            'v': 1,\n            'f': \"1\",\n        },\n\"dalam kancah politik alir saja sebut bagai budaya politik atau perilaku politik atau boleh juga faith ambil dari buku kang syaikhona karya bung adi siregar alumni dari sekolah tinggi akuntansi negara asy\",\n\"Non_HS\"],\n [{\n            'v': 2,\n            'f': \"2\",\n        },\n\"ya allah sinyal axis geblek banget sudah\",\n\"HS_Moderate\"],\n [{\n            'v': 3,\n            'f': \"3\",\n        },\n\"banyak cina yang pilih jokowi jadi aku pilih bowo saja\",\n\"Non_HS\"],\n [{\n            'v': 4,\n            'f': \"4\",\n        },\n\"hujan goda itu ojek pengkol mau juga ngerojok memek aku kata sih abang daripada pusing tidak ada duit mending buang p\",\n\"HS_Strong\"]],\n        columns: [[\"number\", \"index\"], [\"string\", \"text\"], [\"string\", \"label\"]],\n        columnOptions: [{\"width\": \"1px\", \"className\": \"index_column\"}],\n        rowsPerPage: 25,\n        helpUrl: \"https://colab.research.google.com/notebooks/data_table.ipynb\",\n        suppressOutputScrolling: true,\n        minimumWidth: undefined,\n      });\n    "
          },
          "metadata": {},
          "execution_count": 695
        }
      ],
      "source": [
        "def label_classification(hs):\n",
        "    label = \"\"\n",
        "\n",
        "    if int(hs) == 1:\n",
        "        label = \"HS_Weak\"\n",
        "    elif int(hs) == 2:\n",
        "        label = \"HS_Moderate\"\n",
        "    elif int(hs) == 3:\n",
        "        label = \"HS_Strong\"\n",
        "    else:\n",
        "        label = \"Non_HS\"\n",
        "\n",
        "    return label\n",
        "\n",
        "\n",
        "df_train[\"label\"] = df_train[\"label\"].apply(label_classification)\n",
        "\n",
        "df_train = df_train[[\"text\", \"label\"]]\n",
        "\n",
        "df_train.to_csv(\"dataset_training.csv\", index=False)\n",
        "\n",
        "df_train.head()"
      ]
    },
    {
      "cell_type": "code",
      "execution_count": 696,
      "metadata": {
        "colab": {
          "base_uri": "https://localhost:8080/",
          "height": 214
        },
        "id": "0YcmIuPygsNj",
        "outputId": "6e819b8d-f96b-4c56-a128-deb8517747d8"
      },
      "outputs": [
        {
          "output_type": "execute_result",
          "data": {
            "text/plain": [
              "                                                text      label\n",
              "0              apa huhungannya bego sama lesbi anjir  HS_Strong\n",
              "1  tak tau deh mimpi doang kayak sudah lupa gue c...     Non_HS\n",
              "2  percaya sama pakar dari pada allah it musyrik ...     Non_HS\n",
              "3  yang sebab agama cacat adalah hawa nafsu hari ...     Non_HS\n",
              "4  soal produk asing yang lewat tolong buka lagi ...     Non_HS"
            ],
            "text/html": [
              "\n",
              "  <div id=\"df-a3c65137-aad0-4d8f-9b22-72531a494e7e\">\n",
              "    <div class=\"colab-df-container\">\n",
              "      <div>\n",
              "<style scoped>\n",
              "    .dataframe tbody tr th:only-of-type {\n",
              "        vertical-align: middle;\n",
              "    }\n",
              "\n",
              "    .dataframe tbody tr th {\n",
              "        vertical-align: top;\n",
              "    }\n",
              "\n",
              "    .dataframe thead th {\n",
              "        text-align: right;\n",
              "    }\n",
              "</style>\n",
              "<table border=\"1\" class=\"dataframe\">\n",
              "  <thead>\n",
              "    <tr style=\"text-align: right;\">\n",
              "      <th></th>\n",
              "      <th>text</th>\n",
              "      <th>label</th>\n",
              "    </tr>\n",
              "  </thead>\n",
              "  <tbody>\n",
              "    <tr>\n",
              "      <th>0</th>\n",
              "      <td>apa huhungannya bego sama lesbi anjir</td>\n",
              "      <td>HS_Strong</td>\n",
              "    </tr>\n",
              "    <tr>\n",
              "      <th>1</th>\n",
              "      <td>tak tau deh mimpi doang kayak sudah lupa gue c...</td>\n",
              "      <td>Non_HS</td>\n",
              "    </tr>\n",
              "    <tr>\n",
              "      <th>2</th>\n",
              "      <td>percaya sama pakar dari pada allah it musyrik ...</td>\n",
              "      <td>Non_HS</td>\n",
              "    </tr>\n",
              "    <tr>\n",
              "      <th>3</th>\n",
              "      <td>yang sebab agama cacat adalah hawa nafsu hari ...</td>\n",
              "      <td>Non_HS</td>\n",
              "    </tr>\n",
              "    <tr>\n",
              "      <th>4</th>\n",
              "      <td>soal produk asing yang lewat tolong buka lagi ...</td>\n",
              "      <td>Non_HS</td>\n",
              "    </tr>\n",
              "  </tbody>\n",
              "</table>\n",
              "</div>\n",
              "      <button class=\"colab-df-convert\" onclick=\"convertToInteractive('df-a3c65137-aad0-4d8f-9b22-72531a494e7e')\"\n",
              "              title=\"Convert this dataframe to an interactive table.\"\n",
              "              style=\"display:none;\">\n",
              "        \n",
              "  <svg xmlns=\"http://www.w3.org/2000/svg\" height=\"24px\"viewBox=\"0 0 24 24\"\n",
              "       width=\"24px\">\n",
              "    <path d=\"M0 0h24v24H0V0z\" fill=\"none\"/>\n",
              "    <path d=\"M18.56 5.44l.94 2.06.94-2.06 2.06-.94-2.06-.94-.94-2.06-.94 2.06-2.06.94zm-11 1L8.5 8.5l.94-2.06 2.06-.94-2.06-.94L8.5 2.5l-.94 2.06-2.06.94zm10 10l.94 2.06.94-2.06 2.06-.94-2.06-.94-.94-2.06-.94 2.06-2.06.94z\"/><path d=\"M17.41 7.96l-1.37-1.37c-.4-.4-.92-.59-1.43-.59-.52 0-1.04.2-1.43.59L10.3 9.45l-7.72 7.72c-.78.78-.78 2.05 0 2.83L4 21.41c.39.39.9.59 1.41.59.51 0 1.02-.2 1.41-.59l7.78-7.78 2.81-2.81c.8-.78.8-2.07 0-2.86zM5.41 20L4 18.59l7.72-7.72 1.47 1.35L5.41 20z\"/>\n",
              "  </svg>\n",
              "      </button>\n",
              "      \n",
              "  <style>\n",
              "    .colab-df-container {\n",
              "      display:flex;\n",
              "      flex-wrap:wrap;\n",
              "      gap: 12px;\n",
              "    }\n",
              "\n",
              "    .colab-df-convert {\n",
              "      background-color: #E8F0FE;\n",
              "      border: none;\n",
              "      border-radius: 50%;\n",
              "      cursor: pointer;\n",
              "      display: none;\n",
              "      fill: #1967D2;\n",
              "      height: 32px;\n",
              "      padding: 0 0 0 0;\n",
              "      width: 32px;\n",
              "    }\n",
              "\n",
              "    .colab-df-convert:hover {\n",
              "      background-color: #E2EBFA;\n",
              "      box-shadow: 0px 1px 2px rgba(60, 64, 67, 0.3), 0px 1px 3px 1px rgba(60, 64, 67, 0.15);\n",
              "      fill: #174EA6;\n",
              "    }\n",
              "\n",
              "    [theme=dark] .colab-df-convert {\n",
              "      background-color: #3B4455;\n",
              "      fill: #D2E3FC;\n",
              "    }\n",
              "\n",
              "    [theme=dark] .colab-df-convert:hover {\n",
              "      background-color: #434B5C;\n",
              "      box-shadow: 0px 1px 3px 1px rgba(0, 0, 0, 0.15);\n",
              "      filter: drop-shadow(0px 1px 2px rgba(0, 0, 0, 0.3));\n",
              "      fill: #FFFFFF;\n",
              "    }\n",
              "  </style>\n",
              "\n",
              "      <script>\n",
              "        const buttonEl =\n",
              "          document.querySelector('#df-a3c65137-aad0-4d8f-9b22-72531a494e7e button.colab-df-convert');\n",
              "        buttonEl.style.display =\n",
              "          google.colab.kernel.accessAllowed ? 'block' : 'none';\n",
              "\n",
              "        async function convertToInteractive(key) {\n",
              "          const element = document.querySelector('#df-a3c65137-aad0-4d8f-9b22-72531a494e7e');\n",
              "          const dataTable =\n",
              "            await google.colab.kernel.invokeFunction('convertToInteractive',\n",
              "                                                     [key], {});\n",
              "          if (!dataTable) return;\n",
              "\n",
              "          const docLinkHtml = 'Like what you see? Visit the ' +\n",
              "            '<a target=\"_blank\" href=https://colab.research.google.com/notebooks/data_table.ipynb>data table notebook</a>'\n",
              "            + ' to learn more about interactive tables.';\n",
              "          element.innerHTML = '';\n",
              "          dataTable['output_type'] = 'display_data';\n",
              "          await google.colab.output.renderOutput(dataTable, element);\n",
              "          const docLink = document.createElement('div');\n",
              "          docLink.innerHTML = docLinkHtml;\n",
              "          element.appendChild(docLink);\n",
              "        }\n",
              "      </script>\n",
              "    </div>\n",
              "  </div>\n",
              "  "
            ],
            "application/vnd.google.colaboratory.module+javascript": "\n      import \"https://ssl.gstatic.com/colaboratory/data_table/f872b2c2305463fd/data_table.js\";\n\n      window.createDataTable({\n        data: [[{\n            'v': 0,\n            'f': \"0\",\n        },\n\"apa huhungannya bego sama lesbi anjir\",\n\"HS_Strong\"],\n [{\n            'v': 1,\n            'f': \"1\",\n        },\n\"tak tau deh mimpi doang kayak sudah lupa gue cuma bagi ketemu kunti banyak nya itu yang ingat\",\n\"Non_HS\"],\n [{\n            'v': 2,\n            'f': \"2\",\n        },\n\"percaya sama pakar dari pada allah it musyrik percaya sih boleh saja tetapi jangan lebih sampai lost respect\",\n\"Non_HS\"],\n [{\n            'v': 3,\n            'f': \"3\",\n        },\n\"yang sebab agama cacat adalah hawa nafsu hari asy shihab\",\n\"Non_HS\"],\n [{\n            'v': 4,\n            'f': \"4\",\n        },\n\"soal produk asing yang lewat tolong buka lagi sejarah islam lebih dulu masuk ke cina ketimbang nusantara baju koko takwa itu asli dari cina bukan budaya kita dan jubah yang kamu pakai budaya impor dari arab jadi tolong lebih baik anda telanjang saja biar ucap bisa sesi\",\n\"Non_HS\"]],\n        columns: [[\"number\", \"index\"], [\"string\", \"text\"], [\"string\", \"label\"]],\n        columnOptions: [{\"width\": \"1px\", \"className\": \"index_column\"}],\n        rowsPerPage: 25,\n        helpUrl: \"https://colab.research.google.com/notebooks/data_table.ipynb\",\n        suppressOutputScrolling: true,\n        minimumWidth: undefined,\n      });\n    "
          },
          "metadata": {},
          "execution_count": 696
        }
      ],
      "source": [
        "def label_classification(hs):\n",
        "    label = \"\"\n",
        "\n",
        "    if int(hs) == 1:\n",
        "        label = \"HS_Weak\"\n",
        "    elif int(hs) == 2:\n",
        "        label = \"HS_Moderate\"\n",
        "    elif int(hs) == 3:\n",
        "        label = \"HS_Strong\"\n",
        "    else:\n",
        "        label = \"Non_HS\"\n",
        "\n",
        "    return label\n",
        "\n",
        "\n",
        "df_test[\"label\"] = df_test[\"label\"].apply(label_classification)\n",
        "\n",
        "df_test = df_test[[\"text\", \"label\"]]\n",
        "\n",
        "df_test.to_csv(\"dataset_testing.csv\", index=False)\n",
        "\n",
        "df_test.head()"
      ]
    },
    {
      "cell_type": "code",
      "execution_count": 697,
      "metadata": {
        "colab": {
          "base_uri": "https://localhost:8080/",
          "height": 197
        },
        "id": "u092X5s4g0Yt",
        "outputId": "bb350757-c8a4-407f-db6f-b4e3f3f0879d"
      },
      "outputs": [
        {
          "output_type": "execute_result",
          "data": {
            "text/plain": [
              "                                                text        label\n",
              "0  kata airlangga pribadi jangan lupa bu khofifah...       Non_HS\n",
              "1             berengsek banget yang kirim foto setan      HS_Weak\n",
              "2           betapa biadab teroris buddha myanmar ini  HS_Moderate\n",
              "3  kalau aku jual amik untung teruk x ganda aku c...       Non_HS\n",
              "4  pada sabtu pagi masyarakat adat badui akan kem...       Non_HS"
            ],
            "text/html": [
              "\n",
              "  <div id=\"df-e9ba8a96-e713-44b3-b8f6-81b78e1a8466\">\n",
              "    <div class=\"colab-df-container\">\n",
              "      <div>\n",
              "<style scoped>\n",
              "    .dataframe tbody tr th:only-of-type {\n",
              "        vertical-align: middle;\n",
              "    }\n",
              "\n",
              "    .dataframe tbody tr th {\n",
              "        vertical-align: top;\n",
              "    }\n",
              "\n",
              "    .dataframe thead th {\n",
              "        text-align: right;\n",
              "    }\n",
              "</style>\n",
              "<table border=\"1\" class=\"dataframe\">\n",
              "  <thead>\n",
              "    <tr style=\"text-align: right;\">\n",
              "      <th></th>\n",
              "      <th>text</th>\n",
              "      <th>label</th>\n",
              "    </tr>\n",
              "  </thead>\n",
              "  <tbody>\n",
              "    <tr>\n",
              "      <th>0</th>\n",
              "      <td>kata airlangga pribadi jangan lupa bu khofifah...</td>\n",
              "      <td>Non_HS</td>\n",
              "    </tr>\n",
              "    <tr>\n",
              "      <th>1</th>\n",
              "      <td>berengsek banget yang kirim foto setan</td>\n",
              "      <td>HS_Weak</td>\n",
              "    </tr>\n",
              "    <tr>\n",
              "      <th>2</th>\n",
              "      <td>betapa biadab teroris buddha myanmar ini</td>\n",
              "      <td>HS_Moderate</td>\n",
              "    </tr>\n",
              "    <tr>\n",
              "      <th>3</th>\n",
              "      <td>kalau aku jual amik untung teruk x ganda aku c...</td>\n",
              "      <td>Non_HS</td>\n",
              "    </tr>\n",
              "    <tr>\n",
              "      <th>4</th>\n",
              "      <td>pada sabtu pagi masyarakat adat badui akan kem...</td>\n",
              "      <td>Non_HS</td>\n",
              "    </tr>\n",
              "  </tbody>\n",
              "</table>\n",
              "</div>\n",
              "      <button class=\"colab-df-convert\" onclick=\"convertToInteractive('df-e9ba8a96-e713-44b3-b8f6-81b78e1a8466')\"\n",
              "              title=\"Convert this dataframe to an interactive table.\"\n",
              "              style=\"display:none;\">\n",
              "        \n",
              "  <svg xmlns=\"http://www.w3.org/2000/svg\" height=\"24px\"viewBox=\"0 0 24 24\"\n",
              "       width=\"24px\">\n",
              "    <path d=\"M0 0h24v24H0V0z\" fill=\"none\"/>\n",
              "    <path d=\"M18.56 5.44l.94 2.06.94-2.06 2.06-.94-2.06-.94-.94-2.06-.94 2.06-2.06.94zm-11 1L8.5 8.5l.94-2.06 2.06-.94-2.06-.94L8.5 2.5l-.94 2.06-2.06.94zm10 10l.94 2.06.94-2.06 2.06-.94-2.06-.94-.94-2.06-.94 2.06-2.06.94z\"/><path d=\"M17.41 7.96l-1.37-1.37c-.4-.4-.92-.59-1.43-.59-.52 0-1.04.2-1.43.59L10.3 9.45l-7.72 7.72c-.78.78-.78 2.05 0 2.83L4 21.41c.39.39.9.59 1.41.59.51 0 1.02-.2 1.41-.59l7.78-7.78 2.81-2.81c.8-.78.8-2.07 0-2.86zM5.41 20L4 18.59l7.72-7.72 1.47 1.35L5.41 20z\"/>\n",
              "  </svg>\n",
              "      </button>\n",
              "      \n",
              "  <style>\n",
              "    .colab-df-container {\n",
              "      display:flex;\n",
              "      flex-wrap:wrap;\n",
              "      gap: 12px;\n",
              "    }\n",
              "\n",
              "    .colab-df-convert {\n",
              "      background-color: #E8F0FE;\n",
              "      border: none;\n",
              "      border-radius: 50%;\n",
              "      cursor: pointer;\n",
              "      display: none;\n",
              "      fill: #1967D2;\n",
              "      height: 32px;\n",
              "      padding: 0 0 0 0;\n",
              "      width: 32px;\n",
              "    }\n",
              "\n",
              "    .colab-df-convert:hover {\n",
              "      background-color: #E2EBFA;\n",
              "      box-shadow: 0px 1px 2px rgba(60, 64, 67, 0.3), 0px 1px 3px 1px rgba(60, 64, 67, 0.15);\n",
              "      fill: #174EA6;\n",
              "    }\n",
              "\n",
              "    [theme=dark] .colab-df-convert {\n",
              "      background-color: #3B4455;\n",
              "      fill: #D2E3FC;\n",
              "    }\n",
              "\n",
              "    [theme=dark] .colab-df-convert:hover {\n",
              "      background-color: #434B5C;\n",
              "      box-shadow: 0px 1px 3px 1px rgba(0, 0, 0, 0.15);\n",
              "      filter: drop-shadow(0px 1px 2px rgba(0, 0, 0, 0.3));\n",
              "      fill: #FFFFFF;\n",
              "    }\n",
              "  </style>\n",
              "\n",
              "      <script>\n",
              "        const buttonEl =\n",
              "          document.querySelector('#df-e9ba8a96-e713-44b3-b8f6-81b78e1a8466 button.colab-df-convert');\n",
              "        buttonEl.style.display =\n",
              "          google.colab.kernel.accessAllowed ? 'block' : 'none';\n",
              "\n",
              "        async function convertToInteractive(key) {\n",
              "          const element = document.querySelector('#df-e9ba8a96-e713-44b3-b8f6-81b78e1a8466');\n",
              "          const dataTable =\n",
              "            await google.colab.kernel.invokeFunction('convertToInteractive',\n",
              "                                                     [key], {});\n",
              "          if (!dataTable) return;\n",
              "\n",
              "          const docLinkHtml = 'Like what you see? Visit the ' +\n",
              "            '<a target=\"_blank\" href=https://colab.research.google.com/notebooks/data_table.ipynb>data table notebook</a>'\n",
              "            + ' to learn more about interactive tables.';\n",
              "          element.innerHTML = '';\n",
              "          dataTable['output_type'] = 'display_data';\n",
              "          await google.colab.output.renderOutput(dataTable, element);\n",
              "          const docLink = document.createElement('div');\n",
              "          docLink.innerHTML = docLinkHtml;\n",
              "          element.appendChild(docLink);\n",
              "        }\n",
              "      </script>\n",
              "    </div>\n",
              "  </div>\n",
              "  "
            ],
            "application/vnd.google.colaboratory.module+javascript": "\n      import \"https://ssl.gstatic.com/colaboratory/data_table/f872b2c2305463fd/data_table.js\";\n\n      window.createDataTable({\n        data: [[{\n            'v': 0,\n            'f': \"0\",\n        },\n\"kata airlangga pribadi jangan lupa bu khofifah alam tahun menteri sosial sama presiden jokowi ikut serta bantu entas miskin khofifah emil jawa timur satu\",\n\"Non_HS\"],\n [{\n            'v': 1,\n            'f': \"1\",\n        },\n\"berengsek banget yang kirim foto setan\",\n\"HS_Weak\"],\n [{\n            'v': 2,\n            'f': \"2\",\n        },\n\"betapa biadab teroris buddha myanmar ini\",\n\"HS_Moderate\"],\n [{\n            'v': 3,\n            'f': \"3\",\n        },\n\"kalau aku jual amik untung teruk x ganda aku charge goods and services tax yahudi\",\n\"Non_HS\"],\n [{\n            'v': 4,\n            'f': \"4\",\n        },\n\"pada sabtu pagi masyarakat adat badui akan kembali lanjut jalan tuju kantor gubernur banten di kawasan pusat perintah provinsi banten kp b di curug kota serang sebabaduy dw\",\n\"Non_HS\"]],\n        columns: [[\"number\", \"index\"], [\"string\", \"text\"], [\"string\", \"label\"]],\n        columnOptions: [{\"width\": \"1px\", \"className\": \"index_column\"}],\n        rowsPerPage: 25,\n        helpUrl: \"https://colab.research.google.com/notebooks/data_table.ipynb\",\n        suppressOutputScrolling: true,\n        minimumWidth: undefined,\n      });\n    "
          },
          "metadata": {},
          "execution_count": 697
        }
      ],
      "source": [
        "def label_classification(hs):\n",
        "    label = \"\"\n",
        "\n",
        "    if int(hs) == 1:\n",
        "        label = \"HS_Weak\"\n",
        "    elif int(hs) == 2:\n",
        "        label = \"HS_Moderate\"\n",
        "    elif int(hs) == 3:\n",
        "        label = \"HS_Strong\"\n",
        "    else:\n",
        "        label = \"Non_HS\"\n",
        "\n",
        "    return label\n",
        "\n",
        "\n",
        "df_valid[\"label\"] = df_valid[\"label\"].apply(label_classification)\n",
        "\n",
        "df_valid = df_valid[[\"text\", \"label\"]]\n",
        "\n",
        "df_valid.to_csv(\"dataset_validation.csv\", index=False)\n",
        "\n",
        "df_valid.head()"
      ]
    },
    {
      "cell_type": "markdown",
      "metadata": {
        "id": "u9MBxxODdiVz"
      },
      "source": [
        "## 6.5 Remove Missing Values"
      ]
    },
    {
      "cell_type": "markdown",
      "metadata": {
        "id": "JpMucpvR1aiB"
      },
      "source": [
        "Remove missing value if any, just for make sure once again."
      ]
    },
    {
      "cell_type": "code",
      "execution_count": 698,
      "metadata": {
        "colab": {
          "base_uri": "https://localhost:8080/"
        },
        "id": "A7UVLIbbNLja",
        "outputId": "13035e4a-48c6-493f-ee6f-a749e4747808"
      },
      "outputs": [
        {
          "output_type": "stream",
          "name": "stdout",
          "text": [
            "text     0\n",
            "label    0\n",
            "dtype: int64\n"
          ]
        }
      ],
      "source": [
        "df_train = pd.read_csv(\"dataset_training.csv\")\n",
        "print(df_train.isnull().sum())"
      ]
    },
    {
      "cell_type": "code",
      "execution_count": 699,
      "metadata": {
        "colab": {
          "base_uri": "https://localhost:8080/"
        },
        "id": "XLTUYYXokeYw",
        "outputId": "0f9f2553-8a1a-4fb5-e6c9-a31ea59d4013"
      },
      "outputs": [
        {
          "output_type": "stream",
          "name": "stdout",
          "text": [
            "text     0\n",
            "label    0\n",
            "dtype: int64\n"
          ]
        }
      ],
      "source": [
        "df_test = pd.read_csv(\"dataset_testing.csv\")\n",
        "print(df_test.isnull().sum())"
      ]
    },
    {
      "cell_type": "code",
      "execution_count": 700,
      "metadata": {
        "colab": {
          "base_uri": "https://localhost:8080/"
        },
        "id": "7AhH8JY_khrv",
        "outputId": "38cd86db-446b-4aaf-b7f5-5ba9ba66f8cf"
      },
      "outputs": [
        {
          "output_type": "stream",
          "name": "stdout",
          "text": [
            "text     0\n",
            "label    0\n",
            "dtype: int64\n"
          ]
        }
      ],
      "source": [
        "df_valid = pd.read_csv(\"dataset_validation.csv\")\n",
        "print(df_valid.isnull().sum())"
      ]
    },
    {
      "cell_type": "code",
      "execution_count": 701,
      "metadata": {
        "colab": {
          "base_uri": "https://localhost:8080/"
        },
        "id": "HrpMLjDjnSd5",
        "outputId": "7255f4cb-ddfe-4286-e8ff-9c14c965bb9e"
      },
      "outputs": [
        {
          "output_type": "stream",
          "name": "stdout",
          "text": [
            "text     0\n",
            "label    0\n",
            "dtype: int64\n"
          ]
        }
      ],
      "source": [
        "df_train = df_train[df_train[\"text\"].notna()]\n",
        "print(df_train.isnull().sum())"
      ]
    },
    {
      "cell_type": "code",
      "execution_count": 702,
      "metadata": {
        "colab": {
          "base_uri": "https://localhost:8080/"
        },
        "id": "k3oYQsFZkqgg",
        "outputId": "b326af77-b216-45d6-d712-51a50f92c800"
      },
      "outputs": [
        {
          "output_type": "stream",
          "name": "stdout",
          "text": [
            "text     0\n",
            "label    0\n",
            "dtype: int64\n"
          ]
        }
      ],
      "source": [
        "df_test = df_test[df_test[\"text\"].notna()]\n",
        "print(df_test.isnull().sum())"
      ]
    },
    {
      "cell_type": "code",
      "execution_count": 703,
      "metadata": {
        "colab": {
          "base_uri": "https://localhost:8080/"
        },
        "id": "n34lX2tckqxz",
        "outputId": "b61636d5-0431-4570-e4dc-f5b83cf69d27"
      },
      "outputs": [
        {
          "output_type": "stream",
          "name": "stdout",
          "text": [
            "text     0\n",
            "label    0\n",
            "dtype: int64\n"
          ]
        }
      ],
      "source": [
        "df_valid = df_valid[df_valid[\"text\"].notna()]\n",
        "print(df_valid.isnull().sum())"
      ]
    },
    {
      "cell_type": "code",
      "execution_count": 704,
      "metadata": {
        "colab": {
          "base_uri": "https://localhost:8080/"
        },
        "id": "oyLgfdUn5UkK",
        "outputId": "62379748-dbec-47c4-bbeb-5d4209943d87"
      },
      "outputs": [
        {
          "output_type": "stream",
          "name": "stdout",
          "text": [
            "Number of Data Training:  (10498, 2)\n",
            "Number of Data Testing:  (1313, 2)\n",
            "Number of Data Validation:  (1312, 2)\n"
          ]
        }
      ],
      "source": [
        "print(\"Number of Data Training: \", df_train.shape)\n",
        "print(\"Number of Data Testing: \", df_test.shape)\n",
        "print(\"Number of Data Validation: \", df_valid.shape)"
      ]
    },
    {
      "cell_type": "code",
      "execution_count": 705,
      "metadata": {
        "colab": {
          "base_uri": "https://localhost:8080/"
        },
        "id": "40Ir_Iv35Xm-",
        "outputId": "5fc82891-2886-413a-d516-905bdd6ff598"
      },
      "outputs": [
        {
          "output_type": "stream",
          "name": "stdout",
          "text": [
            "Dataset has been downloaded\n"
          ]
        }
      ],
      "source": [
        "# save split up dataset to Drive\n",
        "df_train.to_csv(\"/content/drive/MyDrive/multi-label-hate-speech-detection/data/dataset_training.csv\", index=False)\n",
        "df_test.to_csv(\"/content/drive/MyDrive/multi-label-hate-speech-detection/data/dataset_testing.csv\", index=False)\n",
        "df_valid.to_csv(\"/content/drive/MyDrive/multi-label-hate-speech-detection/data/dataset_validation.csv\", index=False)\n",
        "print('Dataset has been downloaded')"
      ]
    },
    {
      "cell_type": "markdown",
      "metadata": {
        "id": "f10L7GVNr1FN"
      },
      "source": [
        "# 7. Modeling Pretrained Model"
      ]
    },
    {
      "cell_type": "markdown",
      "metadata": {
        "id": "59NQO1PKsKU-"
      },
      "source": [
        "## 7.1 Tokenizing & Embedding"
      ]
    },
    {
      "cell_type": "code",
      "execution_count": 706,
      "metadata": {
        "colab": {
          "base_uri": "https://localhost:8080/"
        },
        "id": "bBiXmol5eCMk",
        "outputId": "d4e05db8-1d6e-45c9-df35-aab286b91f17"
      },
      "outputs": [
        {
          "output_type": "stream",
          "name": "stdout",
          "text": [
            "Loading BERT tokenizer...\n",
            "Loading BERT config...\n",
            "Instantiate BERT model...\n"
          ]
        },
        {
          "output_type": "stream",
          "name": "stderr",
          "text": [
            "Some weights of BertForSequenceClassification were not initialized from the model checkpoint at indobenchmark/indobert-base-p1 and are newly initialized: ['classifier.weight', 'classifier.bias']\n",
            "You should probably TRAIN this model on a down-stream task to be able to use it for predictions and inference.\n"
          ]
        },
        {
          "output_type": "stream",
          "name": "stdout",
          "text": [
            "CPU times: user 1.86 s, sys: 438 ms, total: 2.3 s\n",
            "Wall time: 3.6 s\n"
          ]
        }
      ],
      "source": [
        "%%time\n",
        "\n",
        "# load tokenizer\n",
        "print('Loading BERT tokenizer...')\n",
        "tokenizer = BertTokenizer.from_pretrained('indobenchmark/indobert-base-p1')\n",
        "\n",
        "# load config\n",
        "print('Loading BERT config...')\n",
        "config = BertConfig.from_pretrained('indobenchmark/indobert-base-p1', attention_probs_dropout_prob=attention_probs_dropout_prob, hidden_dropout_prob=hidden_dropout_prob, num_labels=num_labels)\n",
        "config.num_labels = MultiLabelHateSpeechClassificationDataset.NUM_LABELS\n",
        "\n",
        "# instantiate model\n",
        "print('Instantiate BERT model...')\n",
        "model = BertForSequenceClassification.from_pretrained('indobenchmark/indobert-base-p1', config=config)\n",
        "\n",
        "# tell pytorch to run this model on the GPU\n",
        "model.cuda()"
      ]
    },
    {
      "cell_type": "code",
      "execution_count": 707,
      "metadata": {
        "colab": {
          "base_uri": "https://localhost:8080/"
        },
        "id": "6bozWvakntrX",
        "outputId": "7ff7ab68-1e3a-447c-f2fc-5c0cb80ae3e5"
      },
      "outputs": [
        {
          "output_type": "stream",
          "name": "stdout",
          "text": [
            "The BERT model has 201 different named parameters.\n",
            "\n",
            "==== Embedding Layer ====\n",
            "\n",
            "bert.embeddings.word_embeddings.weight                  (50000, 768)\n",
            "bert.embeddings.position_embeddings.weight                (512, 768)\n",
            "bert.embeddings.token_type_embeddings.weight                (2, 768)\n",
            "bert.embeddings.LayerNorm.weight                              (768,)\n",
            "bert.embeddings.LayerNorm.bias                                (768,)\n",
            "\n",
            "==== First Transformer ====\n",
            "\n",
            "bert.encoder.layer.0.attention.self.query.weight          (768, 768)\n",
            "bert.encoder.layer.0.attention.self.query.bias                (768,)\n",
            "bert.encoder.layer.0.attention.self.key.weight            (768, 768)\n",
            "bert.encoder.layer.0.attention.self.key.bias                  (768,)\n",
            "bert.encoder.layer.0.attention.self.value.weight          (768, 768)\n",
            "bert.encoder.layer.0.attention.self.value.bias                (768,)\n",
            "bert.encoder.layer.0.attention.output.dense.weight        (768, 768)\n",
            "bert.encoder.layer.0.attention.output.dense.bias              (768,)\n",
            "bert.encoder.layer.0.attention.output.LayerNorm.weight        (768,)\n",
            "bert.encoder.layer.0.attention.output.LayerNorm.bias          (768,)\n",
            "bert.encoder.layer.0.intermediate.dense.weight           (3072, 768)\n",
            "bert.encoder.layer.0.intermediate.dense.bias                 (3072,)\n",
            "bert.encoder.layer.0.output.dense.weight                 (768, 3072)\n",
            "bert.encoder.layer.0.output.dense.bias                        (768,)\n",
            "bert.encoder.layer.0.output.LayerNorm.weight                  (768,)\n",
            "bert.encoder.layer.0.output.LayerNorm.bias                    (768,)\n",
            "\n",
            "==== Output Layer ====\n",
            "\n",
            "bert.pooler.dense.weight                                  (768, 768)\n",
            "bert.pooler.dense.bias                                        (768,)\n",
            "classifier.weight                                           (4, 768)\n",
            "classifier.bias                                                 (4,)\n"
          ]
        }
      ],
      "source": [
        "# Get all of the model's parameters as a list of tuples.\n",
        "params = list(model.named_parameters())\n",
        "\n",
        "print('The BERT model has {:} different named parameters.\\n'.format(len(params)))\n",
        "\n",
        "print('==== Embedding Layer ====\\n')\n",
        "\n",
        "for p in params[0:5]:\n",
        "    print(\"{:<55} {:>12}\".format(p[0], str(tuple(p[1].size()))))\n",
        "\n",
        "print('\\n==== First Transformer ====\\n')\n",
        "\n",
        "for p in params[5:21]:\n",
        "    print(\"{:<55} {:>12}\".format(p[0], str(tuple(p[1].size()))))\n",
        "\n",
        "print('\\n==== Output Layer ====\\n')\n",
        "\n",
        "for p in params[-4:]:\n",
        "    print(\"{:<55} {:>12}\".format(p[0], str(tuple(p[1].size()))))"
      ]
    },
    {
      "cell_type": "code",
      "execution_count": 708,
      "metadata": {
        "colab": {
          "base_uri": "https://localhost:8080/"
        },
        "id": "U6yH3JexPOoH",
        "outputId": "ed9fe0b9-b2a6-49c5-b831-f00d33801e9e"
      },
      "outputs": [
        {
          "output_type": "execute_result",
          "data": {
            "text/plain": [
              "BertConfig {\n",
              "  \"_name_or_path\": \"indobenchmark/indobert-base-p1\",\n",
              "  \"_num_labels\": 5,\n",
              "  \"architectures\": [\n",
              "    \"BertModel\"\n",
              "  ],\n",
              "  \"attention_probs_dropout_prob\": 0.1,\n",
              "  \"classifier_dropout\": null,\n",
              "  \"directionality\": \"bidi\",\n",
              "  \"hidden_act\": \"gelu\",\n",
              "  \"hidden_dropout_prob\": 0.1,\n",
              "  \"hidden_size\": 768,\n",
              "  \"id2label\": {\n",
              "    \"0\": \"LABEL_0\",\n",
              "    \"1\": \"LABEL_1\",\n",
              "    \"2\": \"LABEL_2\",\n",
              "    \"3\": \"LABEL_3\"\n",
              "  },\n",
              "  \"initializer_range\": 0.02,\n",
              "  \"intermediate_size\": 3072,\n",
              "  \"label2id\": {\n",
              "    \"LABEL_0\": 0,\n",
              "    \"LABEL_1\": 1,\n",
              "    \"LABEL_2\": 2,\n",
              "    \"LABEL_3\": 3\n",
              "  },\n",
              "  \"layer_norm_eps\": 1e-12,\n",
              "  \"max_position_embeddings\": 512,\n",
              "  \"model_type\": \"bert\",\n",
              "  \"num_attention_heads\": 12,\n",
              "  \"num_hidden_layers\": 12,\n",
              "  \"output_past\": true,\n",
              "  \"pad_token_id\": 0,\n",
              "  \"pooler_fc_size\": 768,\n",
              "  \"pooler_num_attention_heads\": 12,\n",
              "  \"pooler_num_fc_layers\": 3,\n",
              "  \"pooler_size_per_head\": 128,\n",
              "  \"pooler_type\": \"first_token_transform\",\n",
              "  \"position_embedding_type\": \"absolute\",\n",
              "  \"transformers_version\": \"4.20.0\",\n",
              "  \"type_vocab_size\": 2,\n",
              "  \"use_cache\": true,\n",
              "  \"vocab_size\": 50000\n",
              "}"
            ]
          },
          "metadata": {},
          "execution_count": 708
        }
      ],
      "source": [
        "config"
      ]
    },
    {
      "cell_type": "code",
      "execution_count": 709,
      "metadata": {
        "colab": {
          "base_uri": "https://localhost:8080/"
        },
        "id": "q_kPKQEveIz_",
        "outputId": "7c433002-2fee-48e6-f7bf-3727a0a78219"
      },
      "outputs": [
        {
          "output_type": "execute_result",
          "data": {
            "text/plain": [
              "BertForSequenceClassification(\n",
              "  (bert): BertModel(\n",
              "    (embeddings): BertEmbeddings(\n",
              "      (word_embeddings): Embedding(50000, 768, padding_idx=0)\n",
              "      (position_embeddings): Embedding(512, 768)\n",
              "      (token_type_embeddings): Embedding(2, 768)\n",
              "      (LayerNorm): LayerNorm((768,), eps=1e-12, elementwise_affine=True)\n",
              "      (dropout): Dropout(p=0.1, inplace=False)\n",
              "    )\n",
              "    (encoder): BertEncoder(\n",
              "      (layer): ModuleList(\n",
              "        (0): BertLayer(\n",
              "          (attention): BertAttention(\n",
              "            (self): BertSelfAttention(\n",
              "              (query): Linear(in_features=768, out_features=768, bias=True)\n",
              "              (key): Linear(in_features=768, out_features=768, bias=True)\n",
              "              (value): Linear(in_features=768, out_features=768, bias=True)\n",
              "              (dropout): Dropout(p=0.1, inplace=False)\n",
              "            )\n",
              "            (output): BertSelfOutput(\n",
              "              (dense): Linear(in_features=768, out_features=768, bias=True)\n",
              "              (LayerNorm): LayerNorm((768,), eps=1e-12, elementwise_affine=True)\n",
              "              (dropout): Dropout(p=0.1, inplace=False)\n",
              "            )\n",
              "          )\n",
              "          (intermediate): BertIntermediate(\n",
              "            (dense): Linear(in_features=768, out_features=3072, bias=True)\n",
              "            (intermediate_act_fn): GELUActivation()\n",
              "          )\n",
              "          (output): BertOutput(\n",
              "            (dense): Linear(in_features=3072, out_features=768, bias=True)\n",
              "            (LayerNorm): LayerNorm((768,), eps=1e-12, elementwise_affine=True)\n",
              "            (dropout): Dropout(p=0.1, inplace=False)\n",
              "          )\n",
              "        )\n",
              "        (1): BertLayer(\n",
              "          (attention): BertAttention(\n",
              "            (self): BertSelfAttention(\n",
              "              (query): Linear(in_features=768, out_features=768, bias=True)\n",
              "              (key): Linear(in_features=768, out_features=768, bias=True)\n",
              "              (value): Linear(in_features=768, out_features=768, bias=True)\n",
              "              (dropout): Dropout(p=0.1, inplace=False)\n",
              "            )\n",
              "            (output): BertSelfOutput(\n",
              "              (dense): Linear(in_features=768, out_features=768, bias=True)\n",
              "              (LayerNorm): LayerNorm((768,), eps=1e-12, elementwise_affine=True)\n",
              "              (dropout): Dropout(p=0.1, inplace=False)\n",
              "            )\n",
              "          )\n",
              "          (intermediate): BertIntermediate(\n",
              "            (dense): Linear(in_features=768, out_features=3072, bias=True)\n",
              "            (intermediate_act_fn): GELUActivation()\n",
              "          )\n",
              "          (output): BertOutput(\n",
              "            (dense): Linear(in_features=3072, out_features=768, bias=True)\n",
              "            (LayerNorm): LayerNorm((768,), eps=1e-12, elementwise_affine=True)\n",
              "            (dropout): Dropout(p=0.1, inplace=False)\n",
              "          )\n",
              "        )\n",
              "        (2): BertLayer(\n",
              "          (attention): BertAttention(\n",
              "            (self): BertSelfAttention(\n",
              "              (query): Linear(in_features=768, out_features=768, bias=True)\n",
              "              (key): Linear(in_features=768, out_features=768, bias=True)\n",
              "              (value): Linear(in_features=768, out_features=768, bias=True)\n",
              "              (dropout): Dropout(p=0.1, inplace=False)\n",
              "            )\n",
              "            (output): BertSelfOutput(\n",
              "              (dense): Linear(in_features=768, out_features=768, bias=True)\n",
              "              (LayerNorm): LayerNorm((768,), eps=1e-12, elementwise_affine=True)\n",
              "              (dropout): Dropout(p=0.1, inplace=False)\n",
              "            )\n",
              "          )\n",
              "          (intermediate): BertIntermediate(\n",
              "            (dense): Linear(in_features=768, out_features=3072, bias=True)\n",
              "            (intermediate_act_fn): GELUActivation()\n",
              "          )\n",
              "          (output): BertOutput(\n",
              "            (dense): Linear(in_features=3072, out_features=768, bias=True)\n",
              "            (LayerNorm): LayerNorm((768,), eps=1e-12, elementwise_affine=True)\n",
              "            (dropout): Dropout(p=0.1, inplace=False)\n",
              "          )\n",
              "        )\n",
              "        (3): BertLayer(\n",
              "          (attention): BertAttention(\n",
              "            (self): BertSelfAttention(\n",
              "              (query): Linear(in_features=768, out_features=768, bias=True)\n",
              "              (key): Linear(in_features=768, out_features=768, bias=True)\n",
              "              (value): Linear(in_features=768, out_features=768, bias=True)\n",
              "              (dropout): Dropout(p=0.1, inplace=False)\n",
              "            )\n",
              "            (output): BertSelfOutput(\n",
              "              (dense): Linear(in_features=768, out_features=768, bias=True)\n",
              "              (LayerNorm): LayerNorm((768,), eps=1e-12, elementwise_affine=True)\n",
              "              (dropout): Dropout(p=0.1, inplace=False)\n",
              "            )\n",
              "          )\n",
              "          (intermediate): BertIntermediate(\n",
              "            (dense): Linear(in_features=768, out_features=3072, bias=True)\n",
              "            (intermediate_act_fn): GELUActivation()\n",
              "          )\n",
              "          (output): BertOutput(\n",
              "            (dense): Linear(in_features=3072, out_features=768, bias=True)\n",
              "            (LayerNorm): LayerNorm((768,), eps=1e-12, elementwise_affine=True)\n",
              "            (dropout): Dropout(p=0.1, inplace=False)\n",
              "          )\n",
              "        )\n",
              "        (4): BertLayer(\n",
              "          (attention): BertAttention(\n",
              "            (self): BertSelfAttention(\n",
              "              (query): Linear(in_features=768, out_features=768, bias=True)\n",
              "              (key): Linear(in_features=768, out_features=768, bias=True)\n",
              "              (value): Linear(in_features=768, out_features=768, bias=True)\n",
              "              (dropout): Dropout(p=0.1, inplace=False)\n",
              "            )\n",
              "            (output): BertSelfOutput(\n",
              "              (dense): Linear(in_features=768, out_features=768, bias=True)\n",
              "              (LayerNorm): LayerNorm((768,), eps=1e-12, elementwise_affine=True)\n",
              "              (dropout): Dropout(p=0.1, inplace=False)\n",
              "            )\n",
              "          )\n",
              "          (intermediate): BertIntermediate(\n",
              "            (dense): Linear(in_features=768, out_features=3072, bias=True)\n",
              "            (intermediate_act_fn): GELUActivation()\n",
              "          )\n",
              "          (output): BertOutput(\n",
              "            (dense): Linear(in_features=3072, out_features=768, bias=True)\n",
              "            (LayerNorm): LayerNorm((768,), eps=1e-12, elementwise_affine=True)\n",
              "            (dropout): Dropout(p=0.1, inplace=False)\n",
              "          )\n",
              "        )\n",
              "        (5): BertLayer(\n",
              "          (attention): BertAttention(\n",
              "            (self): BertSelfAttention(\n",
              "              (query): Linear(in_features=768, out_features=768, bias=True)\n",
              "              (key): Linear(in_features=768, out_features=768, bias=True)\n",
              "              (value): Linear(in_features=768, out_features=768, bias=True)\n",
              "              (dropout): Dropout(p=0.1, inplace=False)\n",
              "            )\n",
              "            (output): BertSelfOutput(\n",
              "              (dense): Linear(in_features=768, out_features=768, bias=True)\n",
              "              (LayerNorm): LayerNorm((768,), eps=1e-12, elementwise_affine=True)\n",
              "              (dropout): Dropout(p=0.1, inplace=False)\n",
              "            )\n",
              "          )\n",
              "          (intermediate): BertIntermediate(\n",
              "            (dense): Linear(in_features=768, out_features=3072, bias=True)\n",
              "            (intermediate_act_fn): GELUActivation()\n",
              "          )\n",
              "          (output): BertOutput(\n",
              "            (dense): Linear(in_features=3072, out_features=768, bias=True)\n",
              "            (LayerNorm): LayerNorm((768,), eps=1e-12, elementwise_affine=True)\n",
              "            (dropout): Dropout(p=0.1, inplace=False)\n",
              "          )\n",
              "        )\n",
              "        (6): BertLayer(\n",
              "          (attention): BertAttention(\n",
              "            (self): BertSelfAttention(\n",
              "              (query): Linear(in_features=768, out_features=768, bias=True)\n",
              "              (key): Linear(in_features=768, out_features=768, bias=True)\n",
              "              (value): Linear(in_features=768, out_features=768, bias=True)\n",
              "              (dropout): Dropout(p=0.1, inplace=False)\n",
              "            )\n",
              "            (output): BertSelfOutput(\n",
              "              (dense): Linear(in_features=768, out_features=768, bias=True)\n",
              "              (LayerNorm): LayerNorm((768,), eps=1e-12, elementwise_affine=True)\n",
              "              (dropout): Dropout(p=0.1, inplace=False)\n",
              "            )\n",
              "          )\n",
              "          (intermediate): BertIntermediate(\n",
              "            (dense): Linear(in_features=768, out_features=3072, bias=True)\n",
              "            (intermediate_act_fn): GELUActivation()\n",
              "          )\n",
              "          (output): BertOutput(\n",
              "            (dense): Linear(in_features=3072, out_features=768, bias=True)\n",
              "            (LayerNorm): LayerNorm((768,), eps=1e-12, elementwise_affine=True)\n",
              "            (dropout): Dropout(p=0.1, inplace=False)\n",
              "          )\n",
              "        )\n",
              "        (7): BertLayer(\n",
              "          (attention): BertAttention(\n",
              "            (self): BertSelfAttention(\n",
              "              (query): Linear(in_features=768, out_features=768, bias=True)\n",
              "              (key): Linear(in_features=768, out_features=768, bias=True)\n",
              "              (value): Linear(in_features=768, out_features=768, bias=True)\n",
              "              (dropout): Dropout(p=0.1, inplace=False)\n",
              "            )\n",
              "            (output): BertSelfOutput(\n",
              "              (dense): Linear(in_features=768, out_features=768, bias=True)\n",
              "              (LayerNorm): LayerNorm((768,), eps=1e-12, elementwise_affine=True)\n",
              "              (dropout): Dropout(p=0.1, inplace=False)\n",
              "            )\n",
              "          )\n",
              "          (intermediate): BertIntermediate(\n",
              "            (dense): Linear(in_features=768, out_features=3072, bias=True)\n",
              "            (intermediate_act_fn): GELUActivation()\n",
              "          )\n",
              "          (output): BertOutput(\n",
              "            (dense): Linear(in_features=3072, out_features=768, bias=True)\n",
              "            (LayerNorm): LayerNorm((768,), eps=1e-12, elementwise_affine=True)\n",
              "            (dropout): Dropout(p=0.1, inplace=False)\n",
              "          )\n",
              "        )\n",
              "        (8): BertLayer(\n",
              "          (attention): BertAttention(\n",
              "            (self): BertSelfAttention(\n",
              "              (query): Linear(in_features=768, out_features=768, bias=True)\n",
              "              (key): Linear(in_features=768, out_features=768, bias=True)\n",
              "              (value): Linear(in_features=768, out_features=768, bias=True)\n",
              "              (dropout): Dropout(p=0.1, inplace=False)\n",
              "            )\n",
              "            (output): BertSelfOutput(\n",
              "              (dense): Linear(in_features=768, out_features=768, bias=True)\n",
              "              (LayerNorm): LayerNorm((768,), eps=1e-12, elementwise_affine=True)\n",
              "              (dropout): Dropout(p=0.1, inplace=False)\n",
              "            )\n",
              "          )\n",
              "          (intermediate): BertIntermediate(\n",
              "            (dense): Linear(in_features=768, out_features=3072, bias=True)\n",
              "            (intermediate_act_fn): GELUActivation()\n",
              "          )\n",
              "          (output): BertOutput(\n",
              "            (dense): Linear(in_features=3072, out_features=768, bias=True)\n",
              "            (LayerNorm): LayerNorm((768,), eps=1e-12, elementwise_affine=True)\n",
              "            (dropout): Dropout(p=0.1, inplace=False)\n",
              "          )\n",
              "        )\n",
              "        (9): BertLayer(\n",
              "          (attention): BertAttention(\n",
              "            (self): BertSelfAttention(\n",
              "              (query): Linear(in_features=768, out_features=768, bias=True)\n",
              "              (key): Linear(in_features=768, out_features=768, bias=True)\n",
              "              (value): Linear(in_features=768, out_features=768, bias=True)\n",
              "              (dropout): Dropout(p=0.1, inplace=False)\n",
              "            )\n",
              "            (output): BertSelfOutput(\n",
              "              (dense): Linear(in_features=768, out_features=768, bias=True)\n",
              "              (LayerNorm): LayerNorm((768,), eps=1e-12, elementwise_affine=True)\n",
              "              (dropout): Dropout(p=0.1, inplace=False)\n",
              "            )\n",
              "          )\n",
              "          (intermediate): BertIntermediate(\n",
              "            (dense): Linear(in_features=768, out_features=3072, bias=True)\n",
              "            (intermediate_act_fn): GELUActivation()\n",
              "          )\n",
              "          (output): BertOutput(\n",
              "            (dense): Linear(in_features=3072, out_features=768, bias=True)\n",
              "            (LayerNorm): LayerNorm((768,), eps=1e-12, elementwise_affine=True)\n",
              "            (dropout): Dropout(p=0.1, inplace=False)\n",
              "          )\n",
              "        )\n",
              "        (10): BertLayer(\n",
              "          (attention): BertAttention(\n",
              "            (self): BertSelfAttention(\n",
              "              (query): Linear(in_features=768, out_features=768, bias=True)\n",
              "              (key): Linear(in_features=768, out_features=768, bias=True)\n",
              "              (value): Linear(in_features=768, out_features=768, bias=True)\n",
              "              (dropout): Dropout(p=0.1, inplace=False)\n",
              "            )\n",
              "            (output): BertSelfOutput(\n",
              "              (dense): Linear(in_features=768, out_features=768, bias=True)\n",
              "              (LayerNorm): LayerNorm((768,), eps=1e-12, elementwise_affine=True)\n",
              "              (dropout): Dropout(p=0.1, inplace=False)\n",
              "            )\n",
              "          )\n",
              "          (intermediate): BertIntermediate(\n",
              "            (dense): Linear(in_features=768, out_features=3072, bias=True)\n",
              "            (intermediate_act_fn): GELUActivation()\n",
              "          )\n",
              "          (output): BertOutput(\n",
              "            (dense): Linear(in_features=3072, out_features=768, bias=True)\n",
              "            (LayerNorm): LayerNorm((768,), eps=1e-12, elementwise_affine=True)\n",
              "            (dropout): Dropout(p=0.1, inplace=False)\n",
              "          )\n",
              "        )\n",
              "        (11): BertLayer(\n",
              "          (attention): BertAttention(\n",
              "            (self): BertSelfAttention(\n",
              "              (query): Linear(in_features=768, out_features=768, bias=True)\n",
              "              (key): Linear(in_features=768, out_features=768, bias=True)\n",
              "              (value): Linear(in_features=768, out_features=768, bias=True)\n",
              "              (dropout): Dropout(p=0.1, inplace=False)\n",
              "            )\n",
              "            (output): BertSelfOutput(\n",
              "              (dense): Linear(in_features=768, out_features=768, bias=True)\n",
              "              (LayerNorm): LayerNorm((768,), eps=1e-12, elementwise_affine=True)\n",
              "              (dropout): Dropout(p=0.1, inplace=False)\n",
              "            )\n",
              "          )\n",
              "          (intermediate): BertIntermediate(\n",
              "            (dense): Linear(in_features=768, out_features=3072, bias=True)\n",
              "            (intermediate_act_fn): GELUActivation()\n",
              "          )\n",
              "          (output): BertOutput(\n",
              "            (dense): Linear(in_features=3072, out_features=768, bias=True)\n",
              "            (LayerNorm): LayerNorm((768,), eps=1e-12, elementwise_affine=True)\n",
              "            (dropout): Dropout(p=0.1, inplace=False)\n",
              "          )\n",
              "        )\n",
              "      )\n",
              "    )\n",
              "    (pooler): BertPooler(\n",
              "      (dense): Linear(in_features=768, out_features=768, bias=True)\n",
              "      (activation): Tanh()\n",
              "    )\n",
              "  )\n",
              "  (dropout): Dropout(p=0.1, inplace=False)\n",
              "  (classifier): Linear(in_features=768, out_features=4, bias=True)\n",
              ")"
            ]
          },
          "metadata": {},
          "execution_count": 709
        }
      ],
      "source": [
        "model"
      ]
    },
    {
      "cell_type": "code",
      "execution_count": 710,
      "metadata": {
        "colab": {
          "base_uri": "https://localhost:8080/"
        },
        "id": "YEXMBPYUd1Ph",
        "outputId": "1f604fe2-ba02-48b5-f021-c8cd69abec2f"
      },
      "outputs": [
        {
          "output_type": "execute_result",
          "data": {
            "text/plain": [
              "124444420"
            ]
          },
          "metadata": {},
          "execution_count": 710
        }
      ],
      "source": [
        "count_param(model)"
      ]
    },
    {
      "cell_type": "markdown",
      "metadata": {
        "id": "6JfZCBuuj7Ak"
      },
      "source": [
        "Apply the tokenizer to one sentence just to see the output."
      ]
    },
    {
      "cell_type": "code",
      "execution_count": 711,
      "metadata": {
        "colab": {
          "base_uri": "https://localhost:8080/"
        },
        "id": "Ls14jQnIrUqz",
        "outputId": "5d314d2e-bbdc-4ef8-d7ab-04b75f52a396"
      },
      "outputs": [
        {
          "output_type": "stream",
          "name": "stdout",
          "text": [
            "Text:  kebahagiaan terbesarku adalah melihatmu bersama dengan dirinya dengan begitu kau akan tenang bersamanya\n",
            "Tokenized:  ['kebahagiaan', 'terbesar', '##ku', 'adalah', 'melihatmu', 'bersama', 'dengan', 'dirinya', 'dengan', 'begitu', 'kau', 'akan', 'tenang', 'bersamanya']\n",
            "Token Embeddings:  [CLS] kebahagiaan terbesarku adalah melihatmu bersama dengan dirinya [SEP] dengan begitu kau akan tenang bersamanya [SEP]\n",
            "Token IDs:  {'input_ids': [2, 7139, 2805, 457, 154, 23670, 943, 79, 1702, 79, 975, 954, 150, 4134, 16636, 3], 'token_type_ids': [0, 0, 0, 0, 0, 0, 0, 0, 0, 0, 0, 0, 0, 0, 0, 0], 'attention_mask': [1, 1, 1, 1, 1, 1, 1, 1, 1, 1, 1, 1, 1, 1, 1, 1]}\n"
          ]
        }
      ],
      "source": [
        "text_1 = \"kebahagiaan terbesarku adalah melihatmu bersama dengan dirinya\"\n",
        "text_2 = \"dengan begitu kau akan tenang bersamanya\"\n",
        "\n",
        "text = (text_1, text_2)\n",
        "\n",
        "text = \" \".join(text)\n",
        "\n",
        "token = tokenizer.tokenize(text) # tokenizing\n",
        "encoding = tokenizer.encode(text_1, text_2) # token ids\n",
        "decoding = tokenizer.decode(encoding) # token embeddings\n",
        "encoding_input = tokenizer(text)\n",
        "\n",
        "print('Text: ', text)\n",
        "print('Tokenized: ', token)\n",
        "print('Token Embeddings: ',decoding)\n",
        "print('Token IDs: ', encoding_input)"
      ]
    },
    {
      "cell_type": "markdown",
      "metadata": {
        "id": "jQ-r_SIQwHUB"
      },
      "source": [
        "## 7.2 Create DataLoader"
      ]
    },
    {
      "cell_type": "markdown",
      "metadata": {
        "id": "UjRAyHHrmZ3C"
      },
      "source": [
        "Create an iterator for dataset using Torch's DataLoader class. This helps save memory during training and don't have to load the entire dataset into memory."
      ]
    },
    {
      "cell_type": "code",
      "execution_count": 712,
      "metadata": {
        "id": "e1Bs0cEiJ1WU"
      },
      "outputs": [],
      "source": [
        "training_dataset_path = '/content/drive/MyDrive/multi-label-hate-speech-detection/data/dataset_training.csv'\n",
        "validation_dataset_path = '/content/drive/MyDrive/multi-label-hate-speech-detection/data/dataset_validation.csv'\n",
        "testing_dataset_path = '/content/drive/MyDrive/multi-label-hate-speech-detection/data/dataset_testing.csv'"
      ]
    },
    {
      "cell_type": "code",
      "execution_count": 713,
      "metadata": {
        "id": "LP4UbkU2E8si"
      },
      "outputs": [],
      "source": [
        "training_dataset = MultiLabelHateSpeechClassificationDataset(training_dataset_path, tokenizer, lowercase=True)\n",
        "validation_dataset = MultiLabelHateSpeechClassificationDataset(validation_dataset_path, tokenizer, lowercase=True)\n",
        "testing_dataset = MultiLabelHateSpeechClassificationDataset(testing_dataset_path, tokenizer, lowercase=True)"
      ]
    },
    {
      "cell_type": "code",
      "execution_count": 714,
      "metadata": {
        "id": "wnUOGfJaQ0bf"
      },
      "outputs": [],
      "source": [
        "training_loader = HateSpeechClassificationDataLoader(dataset=training_dataset, max_seq_len=max_seq_len, batch_size=batch_size, num_workers=num_workers, shuffle=True)  \n",
        "validation_loader = HateSpeechClassificationDataLoader(dataset=validation_dataset, max_seq_len=max_seq_len, batch_size=batch_size, num_workers=num_workers, shuffle=False)  \n",
        "testing_loader = HateSpeechClassificationDataLoader(dataset=testing_dataset, max_seq_len=max_seq_len, batch_size=batch_size, num_workers=num_workers, shuffle=False)"
      ]
    },
    {
      "cell_type": "code",
      "execution_count": 715,
      "metadata": {
        "colab": {
          "base_uri": "https://localhost:8080/"
        },
        "id": "bkYv9cbCKW4Q",
        "outputId": "0d56ef96-78bd-422b-9c64-b12fa498670d"
      },
      "outputs": [
        {
          "output_type": "execute_result",
          "data": {
            "text/plain": [
              "(10498, 1312, 1313)"
            ]
          },
          "metadata": {},
          "execution_count": 715
        }
      ],
      "source": [
        "len(training_dataset), len(validation_dataset), len(testing_dataset)"
      ]
    },
    {
      "cell_type": "code",
      "execution_count": 716,
      "metadata": {
        "colab": {
          "base_uri": "https://localhost:8080/"
        },
        "id": "FtvVU4UcQGp6",
        "outputId": "a5e38661-c5eb-42b7-d373-70385368dbc4"
      },
      "outputs": [
        {
          "output_type": "execute_result",
          "data": {
            "text/plain": [
              "(329, 41, 42)"
            ]
          },
          "metadata": {},
          "execution_count": 716
        }
      ],
      "source": [
        "len(training_loader), len(validation_loader), len(testing_loader)"
      ]
    },
    {
      "cell_type": "markdown",
      "metadata": {
        "id": "p04Y9vQCkVdj"
      },
      "source": [
        "Labeling the index and vice versa"
      ]
    },
    {
      "cell_type": "code",
      "execution_count": 717,
      "metadata": {
        "colab": {
          "base_uri": "https://localhost:8080/"
        },
        "id": "-QflFl5udLyY",
        "outputId": "76413ba6-45a2-4c02-a11a-491b39f8dfa3"
      },
      "outputs": [
        {
          "output_type": "stream",
          "name": "stdout",
          "text": [
            "{'Non_HS': 0, 'HS_Weak': 1, 'HS_Moderate': 2, 'HS_Strong': 3}\n",
            "{0: 'Non_HS', 1: 'HS_Weak', 2: 'HS_Moderate', 3: 'HS_Strong'}\n"
          ]
        }
      ],
      "source": [
        "w2i, i2w = MultiLabelHateSpeechClassificationDataset.LABEL2INDEX, MultiLabelHateSpeechClassificationDataset.INDEX2LABEL\n",
        "print(w2i)\n",
        "print(i2w)"
      ]
    },
    {
      "cell_type": "markdown",
      "metadata": {
        "id": "IASFtfc-SPD1"
      },
      "source": [
        "## 7.3 Classification only with IndoBERT pre-trained model"
      ]
    },
    {
      "cell_type": "code",
      "execution_count": 718,
      "metadata": {
        "colab": {
          "base_uri": "https://localhost:8080/"
        },
        "id": "nIqRFdcxnmKy",
        "outputId": "853e080e-b2c0-4231-d312-597478557cb6"
      },
      "outputs": [
        {
          "output_type": "stream",
          "name": "stdout",
          "text": [
            "Text: kebahagiaan terbesarku adalah melihatmu bersama dengan dirinya\n",
            "Label: HS_Weak (30.646%)\n"
          ]
        }
      ],
      "source": [
        "text = 'kebahagiaan terbesarku adalah melihatmu bersama dengan dirinya'\n",
        "subwords = tokenizer.encode(text)\n",
        "subwords = torch.LongTensor(subwords).view(1, -1).to(model.device)\n",
        "\n",
        "logits = model(subwords)[0]\n",
        "label = torch.topk(logits, k=1, dim=-1)[1].squeeze().item()\n",
        "\n",
        "print(f'Text: {text}')\n",
        "print(f'Label: {i2w[label]} ({F.softmax(logits, dim=-1).squeeze()[label] * 100:.3f}%)')"
      ]
    },
    {
      "cell_type": "code",
      "execution_count": 719,
      "metadata": {
        "colab": {
          "base_uri": "https://localhost:8080/"
        },
        "id": "8doAnQ1tX4SN",
        "outputId": "279cf216-7376-4553-dbcf-7b7adf551eb8"
      },
      "outputs": [
        {
          "output_type": "stream",
          "name": "stdout",
          "text": [
            "Text: tukang bully mati aja sana\n",
            "Label: HS_Strong (40.122%)\n"
          ]
        }
      ],
      "source": [
        "text = 'tukang bully mati aja sana'\n",
        "subwords = tokenizer.encode(text)\n",
        "subwords = torch.LongTensor(subwords).view(1, -1).to(model.device)\n",
        "\n",
        "logits = model(subwords)[0]\n",
        "label = torch.topk(logits, k=1, dim=-1)[1].squeeze().item()\n",
        "\n",
        "print(f'Text: {text}')\n",
        "print(f'Label: {i2w[label]} ({F.softmax(logits, dim=-1).squeeze()[label] * 100:.3f}%)')"
      ]
    },
    {
      "cell_type": "code",
      "execution_count": 720,
      "metadata": {
        "colab": {
          "base_uri": "https://localhost:8080/"
        },
        "id": "9okJhPY19ba2",
        "outputId": "b388cea0-0d60-42eb-ebab-d236e43da107"
      },
      "outputs": [
        {
          "output_type": "stream",
          "name": "stdout",
          "text": [
            "Text: antek antek komunis mati sana\n",
            "Label: HS_Strong (38.116%)\n"
          ]
        }
      ],
      "source": [
        "text = 'antek antek komunis mati sana'\n",
        "subwords = tokenizer.encode(text)\n",
        "subwords = torch.LongTensor(subwords).view(1, -1).to(model.device)\n",
        "\n",
        "logits = model(subwords)[0]\n",
        "label = torch.topk(logits, k=1, dim=-1)[1].squeeze().item()\n",
        "\n",
        "print(f'Text: {text}')\n",
        "print(f'Label: {i2w[label]} ({F.softmax(logits, dim=-1).squeeze()[label] * 100:.3f}%)')"
      ]
    },
    {
      "cell_type": "code",
      "execution_count": 721,
      "metadata": {
        "colab": {
          "base_uri": "https://localhost:8080/"
        },
        "id": "LpG-sM4F9aVH",
        "outputId": "89021e85-e62e-41ab-cd3f-a93422775ea5"
      },
      "outputs": [
        {
          "output_type": "stream",
          "name": "stdout",
          "text": [
            "Text: kemaren gue ga di ajak tai emang\n",
            "Label: HS_Strong (36.776%)\n"
          ]
        }
      ],
      "source": [
        "text = 'kemaren gue ga di ajak tai emang'\n",
        "subwords = tokenizer.encode(text)\n",
        "subwords = torch.LongTensor(subwords).view(1, -1).to(model.device)\n",
        "\n",
        "logits = model(subwords)[0]\n",
        "label = torch.topk(logits, k=1, dim=-1)[1].squeeze().item()\n",
        "\n",
        "print(f'Text: {text}')\n",
        "print(f'Label: {i2w[label]} ({F.softmax(logits, dim=-1).squeeze()[label] * 100:.3f}%)')"
      ]
    },
    {
      "cell_type": "markdown",
      "metadata": {
        "id": "oBHqp6bkSJFp"
      },
      "source": [
        "## 7.4 Fine Tuning"
      ]
    },
    {
      "cell_type": "markdown",
      "metadata": {
        "id": "BspDWY6Im7uc"
      },
      "source": [
        "Now the input data is properly formatted, it's time to fine tune the BERT model. "
      ]
    },
    {
      "cell_type": "code",
      "execution_count": 722,
      "metadata": {
        "id": "1UIOqXX4oQIH"
      },
      "outputs": [],
      "source": [
        "optimizer = torch.optim.AdamW(model.parameters(), lr=lr, eps=eps, weight_decay=weight_decay)\n",
        "model = model.cuda()"
      ]
    },
    {
      "cell_type": "markdown",
      "metadata": {
        "id": "5Lj4Q0BlmFzz"
      },
      "source": [
        "This training code is based on the `run_glue.py` script here:\n",
        "https://github.com/huggingface/transformers/blob/5bfcd0485ece086ebcbed2d008813037968a9e58/examples/run_glue.py#L128"
      ]
    },
    {
      "cell_type": "code",
      "execution_count": 723,
      "metadata": {
        "colab": {
          "base_uri": "https://localhost:8080/"
        },
        "id": "jJQYUMqoLl3h",
        "outputId": "d1df3f07-c50b-4406-b0c5-807d2f5e70ae"
      },
      "outputs": [
        {
          "output_type": "stream",
          "name": "stderr",
          "text": [
            "(Epoch 1) TRAIN LOSS:0.7558 LR:0.00003000: 100%|██████████| 329/329 [01:32<00:00,  3.57it/s]\n"
          ]
        },
        {
          "output_type": "stream",
          "name": "stdout",
          "text": [
            "(Epoch 1) TRAIN LOSS:0.7558 ACC:0.70 F1:0.63 REC:0.62 PRE:0.65 LR:0.00003000\n"
          ]
        },
        {
          "output_type": "stream",
          "name": "stderr",
          "text": [
            "VALID LOSS:0.6866 ACC:0.73 F1:0.69 REC:0.72 PRE:0.68: 100%|██████████| 41/41 [00:04<00:00,  9.97it/s]\n"
          ]
        },
        {
          "output_type": "stream",
          "name": "stdout",
          "text": [
            "(Epoch 1) VALID LOSS:0.6866 ACC:0.73 F1:0.69 REC:0.72 PRE:0.68\n"
          ]
        },
        {
          "output_type": "stream",
          "name": "stderr",
          "text": [
            "(Epoch 2) TRAIN LOSS:0.4603 LR:0.00003000: 100%|██████████| 329/329 [01:32<00:00,  3.55it/s]\n"
          ]
        },
        {
          "output_type": "stream",
          "name": "stdout",
          "text": [
            "(Epoch 2) TRAIN LOSS:0.4603 ACC:0.83 F1:0.79 REC:0.78 PRE:0.79 LR:0.00003000\n"
          ]
        },
        {
          "output_type": "stream",
          "name": "stderr",
          "text": [
            "VALID LOSS:0.6737 ACC:0.77 F1:0.72 REC:0.73 PRE:0.74: 100%|██████████| 41/41 [00:04<00:00,  9.94it/s]\n"
          ]
        },
        {
          "output_type": "stream",
          "name": "stdout",
          "text": [
            "(Epoch 2) VALID LOSS:0.6737 ACC:0.77 F1:0.72 REC:0.73 PRE:0.74\n"
          ]
        },
        {
          "output_type": "stream",
          "name": "stderr",
          "text": [
            "(Epoch 3) TRAIN LOSS:0.2799 LR:0.00003000: 100%|██████████| 329/329 [01:33<00:00,  3.54it/s]\n"
          ]
        },
        {
          "output_type": "stream",
          "name": "stdout",
          "text": [
            "(Epoch 3) TRAIN LOSS:0.2799 ACC:0.90 F1:0.87 REC:0.87 PRE:0.88 LR:0.00003000\n"
          ]
        },
        {
          "output_type": "stream",
          "name": "stderr",
          "text": [
            "VALID LOSS:0.6831 ACC:0.78 F1:0.75 REC:0.76 PRE:0.74: 100%|██████████| 41/41 [00:04<00:00,  9.86it/s]\n"
          ]
        },
        {
          "output_type": "stream",
          "name": "stdout",
          "text": [
            "(Epoch 3) VALID LOSS:0.6831 ACC:0.78 F1:0.75 REC:0.76 PRE:0.74\n"
          ]
        },
        {
          "output_type": "stream",
          "name": "stderr",
          "text": [
            "(Epoch 4) TRAIN LOSS:0.1565 LR:0.00003000: 100%|██████████| 329/329 [01:32<00:00,  3.54it/s]\n"
          ]
        },
        {
          "output_type": "stream",
          "name": "stdout",
          "text": [
            "(Epoch 4) TRAIN LOSS:0.1565 ACC:0.95 F1:0.94 REC:0.94 PRE:0.94 LR:0.00003000\n"
          ]
        },
        {
          "output_type": "stream",
          "name": "stderr",
          "text": [
            "VALID LOSS:0.9278 ACC:0.75 F1:0.71 REC:0.72 PRE:0.71: 100%|██████████| 41/41 [00:04<00:00,  9.84it/s]\n"
          ]
        },
        {
          "output_type": "stream",
          "name": "stdout",
          "text": [
            "(Epoch 4) VALID LOSS:0.9278 ACC:0.75 F1:0.71 REC:0.72 PRE:0.71\n",
            "CPU times: user 4min 17s, sys: 1min 53s, total: 6min 11s\n",
            "Wall time: 6min 28s\n"
          ]
        }
      ],
      "source": [
        "%%time\n",
        "\n",
        "train_acc_lists = []\n",
        "train_pre_lists = []\n",
        "train_rec_lists = []\n",
        "train_f1_lists = []\n",
        "\n",
        "eval_acc_lists = []\n",
        "eval_pre_lists = []\n",
        "eval_rec_lists = []\n",
        "eval_f1_lists = []\n",
        "\n",
        "train_loss_lists = []\n",
        "eval_loss_lists = []\n",
        " \n",
        "# fine tuning\n",
        "for epoch in range(0, epochs):\n",
        "\n",
        "  # ========================================\n",
        "  #               Training\n",
        "  # ========================================\n",
        "\n",
        "  model.train()\n",
        "  torch.set_grad_enabled(True)\n",
        " \n",
        "  # reset the total loss for this epoch\n",
        "  total_train_loss = 0\n",
        "\n",
        "  list_hyp, list_label = [], []\n",
        "\n",
        "  train_pbar = tqdm(training_loader, leave=True, total=len(training_loader))\n",
        "  for i, batch_data in enumerate(train_pbar):\n",
        "    # forward model\n",
        "    loss, batch_hyp, batch_label = forward_sequence_classification(model, batch_data[:-1], i2w=i2w, device='cuda')\n",
        "\n",
        "    # update model\n",
        "    optimizer.zero_grad()\n",
        "    loss.backward()\n",
        "    optimizer.step()\n",
        "\n",
        "    tr_loss = loss.item()\n",
        "    total_train_loss = total_train_loss + tr_loss\n",
        "\n",
        "    # calculate metrics\n",
        "    list_hyp += batch_hyp\n",
        "    list_label += batch_label\n",
        "\n",
        "    train_pbar.set_description(\"(Epoch {}) TRAIN LOSS:{:.4f} LR:{:.8f}\".format((epoch+1),\n",
        "      total_train_loss/(i+1), get_lr(optimizer)))\n",
        "\n",
        "  # calculate train metric\n",
        "  metrics = multi_label_hate_speech_classification_metrics_fn(list_hyp, list_label)\n",
        "  print(\"(Epoch {}) TRAIN LOSS:{:.4f} {} LR:{:.8f}\".format((epoch+1),\n",
        "      total_train_loss/(i+1), metrics_to_string(metrics), get_lr(optimizer)))\n",
        "  \n",
        "  train_acc_lists.append(metrics['ACC'])\n",
        "  train_pre_lists.append(metrics['PRE'])\n",
        "  train_rec_lists.append(metrics['REC'])\n",
        "  train_f1_lists.append(metrics['F1'])\n",
        "  current_train_loss = round(total_train_loss/(i+1), 4)\n",
        "  train_loss_lists.append(current_train_loss)\n",
        "\n",
        "  # ========================================\n",
        "  #               Validation\n",
        "  # ========================================\n",
        "  # After the completion of each training epoch, measure our performance on\n",
        "  # our validation set.\n",
        "\n",
        "  model.eval()\n",
        "  torch.set_grad_enabled(False)\n",
        "    \n",
        "  total_loss, total_correct, total_labels = 0, 0, 0\n",
        "  list_hyp, list_label = [], []\n",
        "\n",
        "  pbar = tqdm(validation_loader, leave=True, total=len(validation_loader))\n",
        "  \n",
        "  for i, batch_data in enumerate(pbar):\n",
        "    batch_seq = batch_data[-1]        \n",
        "    loss, batch_hyp, batch_label = forward_sequence_classification(model, batch_data[:-1], i2w=i2w, device='cuda')\n",
        "        \n",
        "    # calculate total loss\n",
        "    valid_loss = loss.item()\n",
        "    total_loss = total_loss + valid_loss\n",
        "\n",
        "    # calculate evaluation metrics\n",
        "    list_hyp += batch_hyp\n",
        "    list_label += batch_label\n",
        "    metrics = multi_label_hate_speech_classification_metrics_fn(list_hyp, list_label)\n",
        "\n",
        "    pbar.set_description(\"VALID LOSS:{:.4f} {}\".format(total_loss/(i+1), metrics_to_string(metrics)))\n",
        "        \n",
        "  metrics = multi_label_hate_speech_classification_metrics_fn(list_hyp, list_label)\n",
        "  print(\"(Epoch {}) VALID LOSS:{:.4f} {}\".format((epoch+1),\n",
        "    total_loss/(i+1), metrics_to_string(metrics)))\n",
        "  \n",
        "  eval_acc_lists.append(metrics['ACC'])\n",
        "  eval_pre_lists.append(metrics['PRE'])\n",
        "  eval_rec_lists.append(metrics['REC'])\n",
        "  eval_f1_lists.append(metrics['F1'])\n",
        "  current_eval_loss = round(total_loss/(i+1), 4)\n",
        "  eval_loss_lists.append(current_eval_loss) "
      ]
    },
    {
      "cell_type": "code",
      "execution_count": 724,
      "metadata": {
        "id": "UEjY-FmuOdxT",
        "colab": {
          "base_uri": "https://localhost:8080/",
          "height": 530
        },
        "outputId": "3477422a-226b-42ff-88d1-5b0def7fef81"
      },
      "outputs": [
        {
          "output_type": "execute_result",
          "data": {
            "text/plain": [
              "<matplotlib.legend.Legend at 0x7f3b8e96fcd0>"
            ]
          },
          "metadata": {},
          "execution_count": 724
        },
        {
          "output_type": "display_data",
          "data": {
            "text/plain": [
              "<Figure size 864x576 with 1 Axes>"
            ],
            "image/png": "[encoded data removed]"
          },
          "metadata": {
            "needs_background": "light"
          }
        }
      ],
      "source": [
        "%matplotlib inline\n",
        "\n",
        "epoch = [1,2,3,4]\n",
        "width = 0.25\n",
        "\n",
        "# Show accuracy bar plot\n",
        "fig, ax = plt.subplots(figsize=(12, 8))\n",
        "\n",
        "# Set position of bar on X axis\n",
        "br1 = np.arange(len(train_acc_lists))/1.5\n",
        "br2 = [x + width for x in br1]\n",
        "\n",
        "plt.bar(br1, train_acc_lists, label='train', width=width)\n",
        "plt.bar(br2, eval_acc_lists, label='valid', width=width)\n",
        "\n",
        "# Annotate\n",
        "for p in ax.patches:\n",
        "    ax.annotate(\n",
        "        np.round(p.get_height(), decimals=2),\n",
        "        (p.get_x() + p.get_width() / 2.0, p.get_height()),\n",
        "        ha=\"center\",\n",
        "        va=\"center\",\n",
        "        xytext=(0, 10),\n",
        "        textcoords=\"offset points\",\n",
        "    )\n",
        "\n",
        "plt.xlabel('Epoch')\n",
        "plt.ylabel('Accuracy')\n",
        "plt.title('Training and Validation Accuracy')\n",
        "plt.xticks([r/1.5-0.13 + width for r in range(len(train_acc_lists))], epoch)\n",
        "plt.legend()"
      ]
    },
    {
      "cell_type": "code",
      "source": [
        "%matplotlib inline\n",
        "\n",
        "# Show precision bar plot\n",
        "fig, ax = plt.subplots(figsize=(12, 8))\n",
        "\n",
        "# Set position of bar on X axis\n",
        "br1 = np.arange(len(train_pre_lists))/1.5\n",
        "br2 = [x + width for x in br1]\n",
        "\n",
        "plt.bar(br1, train_pre_lists, label='train', width=width)\n",
        "plt.bar(br2, eval_pre_lists, label='valid', width=width)\n",
        "\n",
        "# Annotate\n",
        "for p in ax.patches:\n",
        "    ax.annotate(\n",
        "        np.round(p.get_height(), decimals=2),\n",
        "        (p.get_x() + p.get_width() / 2.0, p.get_height()),\n",
        "        ha=\"center\",\n",
        "        va=\"center\",\n",
        "        xytext=(0, 10),\n",
        "        textcoords=\"offset points\",\n",
        "    )\n",
        "\n",
        "plt.xlabel('Epoch')\n",
        "plt.ylabel('Precision')\n",
        "plt.title('Training and Validation Precision')\n",
        "plt.xticks([r/1.5-0.13 + width for r in range(len(train_pre_lists))], epoch)\n",
        "plt.legend()"
      ],
      "metadata": {
        "colab": {
          "base_uri": "https://localhost:8080/",
          "height": 530
        },
        "id": "JJONb3fqAUh3",
        "outputId": "21ba3e13-d9b1-4a78-980d-30ee50b75945"
      },
      "execution_count": 725,
      "outputs": [
        {
          "output_type": "execute_result",
          "data": {
            "text/plain": [
              "<matplotlib.legend.Legend at 0x7f3b8ff670d0>"
            ]
          },
          "metadata": {},
          "execution_count": 725
        },
        {
          "output_type": "display_data",
          "data": {
            "text/plain": [
              "<Figure size 864x576 with 1 Axes>"
            ],
            "image/png": "[encoded data removed]"
          },
          "metadata": {
            "needs_background": "light"
          }
        }
      ]
    },
    {
      "cell_type": "code",
      "source": [
        "%matplotlib inline\n",
        "\n",
        "# Show recall bar plot\n",
        "fig, ax = plt.subplots(figsize=(12, 8))\n",
        "\n",
        "# Set position of bar on X axis\n",
        "br1 = np.arange(len(train_rec_lists))/1.5\n",
        "br2 = [x + width for x in br1]\n",
        "\n",
        "plt.bar(br1, train_rec_lists, label='train', width=width)\n",
        "plt.bar(br2, eval_rec_lists, label='valid', width=width)\n",
        "\n",
        "# Annotate\n",
        "for p in ax.patches:\n",
        "    ax.annotate(\n",
        "        np.round(p.get_height(), decimals=2),\n",
        "        (p.get_x() + p.get_width() / 2.0, p.get_height()),\n",
        "        ha=\"center\",\n",
        "        va=\"center\",\n",
        "        xytext=(0, 10),\n",
        "        textcoords=\"offset points\",\n",
        "    )\n",
        "\n",
        "plt.xlabel('Epoch')\n",
        "plt.ylabel('Recall')\n",
        "plt.title('Training and Validation Recall')\n",
        "plt.xticks([r/1.5-0.13 + width for r in range(len(train_rec_lists))], epoch)\n",
        "plt.legend()"
      ],
      "metadata": {
        "colab": {
          "base_uri": "https://localhost:8080/",
          "height": 530
        },
        "id": "wcTyhLxsLhJc",
        "outputId": "1d8b2179-79d2-41cb-e606-895b5b7c158d"
      },
      "execution_count": 726,
      "outputs": [
        {
          "output_type": "execute_result",
          "data": {
            "text/plain": [
              "<matplotlib.legend.Legend at 0x7f3b8e9af090>"
            ]
          },
          "metadata": {},
          "execution_count": 726
        },
        {
          "output_type": "display_data",
          "data": {
            "text/plain": [
              "<Figure size 864x576 with 1 Axes>"
            ],
            "image/png": "[encoded data removed]"
          },
          "metadata": {
            "needs_background": "light"
          }
        }
      ]
    },
    {
      "cell_type": "code",
      "source": [
        "%matplotlib inline\n",
        "\n",
        "# Show f1-score bar plot\n",
        "fig, ax = plt.subplots(figsize=(12, 8))\n",
        "\n",
        "# Set position of bar on X axis\n",
        "br1 = np.arange(len(train_f1_lists))/1.5\n",
        "br2 = [x + width for x in br1]\n",
        "\n",
        "plt.bar(br1, train_f1_lists, label='train', width=width)\n",
        "plt.bar(br2, eval_f1_lists, label='valid', width=width)\n",
        "\n",
        "# Annotate\n",
        "for p in ax.patches:\n",
        "    ax.annotate(\n",
        "        np.round(p.get_height(), decimals=2),\n",
        "        (p.get_x() + p.get_width() / 2.0, p.get_height()),\n",
        "        ha=\"center\",\n",
        "        va=\"center\",\n",
        "        xytext=(0, 10),\n",
        "        textcoords=\"offset points\",\n",
        "    )\n",
        "\n",
        "plt.xlabel('Epoch')\n",
        "plt.ylabel('F1-score')\n",
        "plt.title('Training and Validation F1-score')\n",
        "plt.xticks([r/1.5-0.13 + width for r in range(len(train_f1_lists))], epoch)\n",
        "plt.legend()"
      ],
      "metadata": {
        "colab": {
          "base_uri": "https://localhost:8080/",
          "height": 530
        },
        "id": "OY5BMsTBLxE9",
        "outputId": "fb1eec8e-b094-404e-eb10-2e7564b2707f"
      },
      "execution_count": 727,
      "outputs": [
        {
          "output_type": "execute_result",
          "data": {
            "text/plain": [
              "<matplotlib.legend.Legend at 0x7f3b8e8f1e10>"
            ]
          },
          "metadata": {},
          "execution_count": 727
        },
        {
          "output_type": "display_data",
          "data": {
            "text/plain": [
              "<Figure size 864x576 with 1 Axes>"
            ],
            "image/png": "[encoded data removed]"
          },
          "metadata": {
            "needs_background": "light"
          }
        }
      ]
    },
    {
      "cell_type": "code",
      "execution_count": 728,
      "metadata": {
        "id": "-HCxFEwpcS5G",
        "colab": {
          "base_uri": "https://localhost:8080/",
          "height": 530
        },
        "outputId": "03ae68dc-515e-464a-fbfa-208ce76b0cdf"
      },
      "outputs": [
        {
          "output_type": "execute_result",
          "data": {
            "text/plain": [
              "<matplotlib.legend.Legend at 0x7f3b8e85f450>"
            ]
          },
          "metadata": {},
          "execution_count": 728
        },
        {
          "output_type": "display_data",
          "data": {
            "text/plain": [
              "<Figure size 864x576 with 1 Axes>"
            ],
            "image/png": "[encoded data removed]"
          },
          "metadata": {
            "needs_background": "light"
          }
        }
      ],
      "source": [
        "%matplotlib inline\n",
        "\n",
        "# Show loss bar plot\n",
        "fig, ax = plt.subplots(figsize=(12, 8))\n",
        "\n",
        "# Set position of bar on X axis\n",
        "br1 = np.arange(len(train_loss_lists))/1.5\n",
        "br2 = [x + width for x in br1]\n",
        "\n",
        "plt.bar(br1, train_loss_lists, label='train', width=width)\n",
        "plt.bar(br2, eval_loss_lists, label='valid', width=width)\n",
        "\n",
        "# Annotate\n",
        "for p in ax.patches:\n",
        "    ax.annotate(\n",
        "        np.round(p.get_height(), decimals=2),\n",
        "        (p.get_x() + p.get_width() / 2.0, p.get_height()),\n",
        "        ha=\"center\",\n",
        "        va=\"center\",\n",
        "        xytext=(0, 10),\n",
        "        textcoords=\"offset points\",\n",
        "    )\n",
        "\n",
        "plt.xlabel('Epoch')\n",
        "plt.ylabel('Loss')\n",
        "plt.title('Training and Validation Loss')\n",
        "plt.xticks([r/1.5-0.13 + width for r in range(len(train_loss_lists))], epoch)\n",
        "plt.legend()"
      ]
    },
    {
      "cell_type": "code",
      "execution_count": 729,
      "metadata": {
        "id": "SeqLOWVXSqzM",
        "colab": {
          "base_uri": "https://localhost:8080/",
          "height": 176
        },
        "outputId": "1625a707-d0e7-4666-a203-4f5e61937f59"
      },
      "outputs": [
        {
          "output_type": "execute_result",
          "data": {
            "text/plain": [
              "       Train Accuracy  Train Precision  Train Recall  Train F1  \\\n",
              "Epoch                                                            \n",
              "1                0.70             0.65          0.62      0.63   \n",
              "2                0.83             0.79          0.78      0.79   \n",
              "3                0.90             0.88          0.87      0.87   \n",
              "4                0.95             0.94          0.94      0.94   \n",
              "\n",
              "       Valid Accuracy  Valid Precision  Valid Recall  Valid F1  Train Loss  \\\n",
              "Epoch                                                                        \n",
              "1                0.73             0.68          0.72      0.69        0.76   \n",
              "2                0.77             0.74          0.73      0.72        0.46   \n",
              "3                0.78             0.74          0.76      0.75        0.28   \n",
              "4                0.75             0.71          0.72      0.71        0.16   \n",
              "\n",
              "       Valid Loss  \n",
              "Epoch              \n",
              "1            0.69  \n",
              "2            0.67  \n",
              "3            0.68  \n",
              "4            0.93  "
            ],
            "text/html": [
              "\n",
              "  <div id=\"df-211f38e9-8a13-45ae-8138-d3b613f31708\">\n",
              "    <div class=\"colab-df-container\">\n",
              "      <div>\n",
              "<style scoped>\n",
              "    .dataframe tbody tr th:only-of-type {\n",
              "        vertical-align: middle;\n",
              "    }\n",
              "\n",
              "    .dataframe tbody tr th {\n",
              "        vertical-align: top;\n",
              "    }\n",
              "\n",
              "    .dataframe thead th {\n",
              "        text-align: right;\n",
              "    }\n",
              "</style>\n",
              "<table border=\"1\" class=\"dataframe\">\n",
              "  <thead>\n",
              "    <tr style=\"text-align: right;\">\n",
              "      <th></th>\n",
              "      <th>Train Accuracy</th>\n",
              "      <th>Train Precision</th>\n",
              "      <th>Train Recall</th>\n",
              "      <th>Train F1</th>\n",
              "      <th>Valid Accuracy</th>\n",
              "      <th>Valid Precision</th>\n",
              "      <th>Valid Recall</th>\n",
              "      <th>Valid F1</th>\n",
              "      <th>Train Loss</th>\n",
              "      <th>Valid Loss</th>\n",
              "    </tr>\n",
              "    <tr>\n",
              "      <th>Epoch</th>\n",
              "      <th></th>\n",
              "      <th></th>\n",
              "      <th></th>\n",
              "      <th></th>\n",
              "      <th></th>\n",
              "      <th></th>\n",
              "      <th></th>\n",
              "      <th></th>\n",
              "      <th></th>\n",
              "      <th></th>\n",
              "    </tr>\n",
              "  </thead>\n",
              "  <tbody>\n",
              "    <tr>\n",
              "      <th>1</th>\n",
              "      <td>0.70</td>\n",
              "      <td>0.65</td>\n",
              "      <td>0.62</td>\n",
              "      <td>0.63</td>\n",
              "      <td>0.73</td>\n",
              "      <td>0.68</td>\n",
              "      <td>0.72</td>\n",
              "      <td>0.69</td>\n",
              "      <td>0.76</td>\n",
              "      <td>0.69</td>\n",
              "    </tr>\n",
              "    <tr>\n",
              "      <th>2</th>\n",
              "      <td>0.83</td>\n",
              "      <td>0.79</td>\n",
              "      <td>0.78</td>\n",
              "      <td>0.79</td>\n",
              "      <td>0.77</td>\n",
              "      <td>0.74</td>\n",
              "      <td>0.73</td>\n",
              "      <td>0.72</td>\n",
              "      <td>0.46</td>\n",
              "      <td>0.67</td>\n",
              "    </tr>\n",
              "    <tr>\n",
              "      <th>3</th>\n",
              "      <td>0.90</td>\n",
              "      <td>0.88</td>\n",
              "      <td>0.87</td>\n",
              "      <td>0.87</td>\n",
              "      <td>0.78</td>\n",
              "      <td>0.74</td>\n",
              "      <td>0.76</td>\n",
              "      <td>0.75</td>\n",
              "      <td>0.28</td>\n",
              "      <td>0.68</td>\n",
              "    </tr>\n",
              "    <tr>\n",
              "      <th>4</th>\n",
              "      <td>0.95</td>\n",
              "      <td>0.94</td>\n",
              "      <td>0.94</td>\n",
              "      <td>0.94</td>\n",
              "      <td>0.75</td>\n",
              "      <td>0.71</td>\n",
              "      <td>0.72</td>\n",
              "      <td>0.71</td>\n",
              "      <td>0.16</td>\n",
              "      <td>0.93</td>\n",
              "    </tr>\n",
              "  </tbody>\n",
              "</table>\n",
              "</div>\n",
              "      <button class=\"colab-df-convert\" onclick=\"convertToInteractive('df-211f38e9-8a13-45ae-8138-d3b613f31708')\"\n",
              "              title=\"Convert this dataframe to an interactive table.\"\n",
              "              style=\"display:none;\">\n",
              "        \n",
              "  <svg xmlns=\"http://www.w3.org/2000/svg\" height=\"24px\"viewBox=\"0 0 24 24\"\n",
              "       width=\"24px\">\n",
              "    <path d=\"M0 0h24v24H0V0z\" fill=\"none\"/>\n",
              "    <path d=\"M18.56 5.44l.94 2.06.94-2.06 2.06-.94-2.06-.94-.94-2.06-.94 2.06-2.06.94zm-11 1L8.5 8.5l.94-2.06 2.06-.94-2.06-.94L8.5 2.5l-.94 2.06-2.06.94zm10 10l.94 2.06.94-2.06 2.06-.94-2.06-.94-.94-2.06-.94 2.06-2.06.94z\"/><path d=\"M17.41 7.96l-1.37-1.37c-.4-.4-.92-.59-1.43-.59-.52 0-1.04.2-1.43.59L10.3 9.45l-7.72 7.72c-.78.78-.78 2.05 0 2.83L4 21.41c.39.39.9.59 1.41.59.51 0 1.02-.2 1.41-.59l7.78-7.78 2.81-2.81c.8-.78.8-2.07 0-2.86zM5.41 20L4 18.59l7.72-7.72 1.47 1.35L5.41 20z\"/>\n",
              "  </svg>\n",
              "      </button>\n",
              "      \n",
              "  <style>\n",
              "    .colab-df-container {\n",
              "      display:flex;\n",
              "      flex-wrap:wrap;\n",
              "      gap: 12px;\n",
              "    }\n",
              "\n",
              "    .colab-df-convert {\n",
              "      background-color: #E8F0FE;\n",
              "      border: none;\n",
              "      border-radius: 50%;\n",
              "      cursor: pointer;\n",
              "      display: none;\n",
              "      fill: #1967D2;\n",
              "      height: 32px;\n",
              "      padding: 0 0 0 0;\n",
              "      width: 32px;\n",
              "    }\n",
              "\n",
              "    .colab-df-convert:hover {\n",
              "      background-color: #E2EBFA;\n",
              "      box-shadow: 0px 1px 2px rgba(60, 64, 67, 0.3), 0px 1px 3px 1px rgba(60, 64, 67, 0.15);\n",
              "      fill: #174EA6;\n",
              "    }\n",
              "\n",
              "    [theme=dark] .colab-df-convert {\n",
              "      background-color: #3B4455;\n",
              "      fill: #D2E3FC;\n",
              "    }\n",
              "\n",
              "    [theme=dark] .colab-df-convert:hover {\n",
              "      background-color: #434B5C;\n",
              "      box-shadow: 0px 1px 3px 1px rgba(0, 0, 0, 0.15);\n",
              "      filter: drop-shadow(0px 1px 2px rgba(0, 0, 0, 0.3));\n",
              "      fill: #FFFFFF;\n",
              "    }\n",
              "  </style>\n",
              "\n",
              "      <script>\n",
              "        const buttonEl =\n",
              "          document.querySelector('#df-211f38e9-8a13-45ae-8138-d3b613f31708 button.colab-df-convert');\n",
              "        buttonEl.style.display =\n",
              "          google.colab.kernel.accessAllowed ? 'block' : 'none';\n",
              "\n",
              "        async function convertToInteractive(key) {\n",
              "          const element = document.querySelector('#df-211f38e9-8a13-45ae-8138-d3b613f31708');\n",
              "          const dataTable =\n",
              "            await google.colab.kernel.invokeFunction('convertToInteractive',\n",
              "                                                     [key], {});\n",
              "          if (!dataTable) return;\n",
              "\n",
              "          const docLinkHtml = 'Like what you see? Visit the ' +\n",
              "            '<a target=\"_blank\" href=https://colab.research.google.com/notebooks/data_table.ipynb>data table notebook</a>'\n",
              "            + ' to learn more about interactive tables.';\n",
              "          element.innerHTML = '';\n",
              "          dataTable['output_type'] = 'display_data';\n",
              "          await google.colab.output.renderOutput(dataTable, element);\n",
              "          const docLink = document.createElement('div');\n",
              "          docLink.innerHTML = docLinkHtml;\n",
              "          element.appendChild(docLink);\n",
              "        }\n",
              "      </script>\n",
              "    </div>\n",
              "  </div>\n",
              "  "
            ],
            "application/vnd.google.colaboratory.module+javascript": "\n      import \"https://ssl.gstatic.com/colaboratory/data_table/f872b2c2305463fd/data_table.js\";\n\n      window.createDataTable({\n        data: [[{\n            'v': 1,\n            'f': \"1\",\n        },\n{\n            'v': 0.7,\n            'f': \"0.7\",\n        },\n{\n            'v': 0.65,\n            'f': \"0.65\",\n        },\n{\n            'v': 0.62,\n            'f': \"0.62\",\n        },\n{\n            'v': 0.63,\n            'f': \"0.63\",\n        },\n{\n            'v': 0.73,\n            'f': \"0.73\",\n        },\n{\n            'v': 0.68,\n            'f': \"0.68\",\n        },\n{\n            'v': 0.72,\n            'f': \"0.72\",\n        },\n{\n            'v': 0.69,\n            'f': \"0.69\",\n        },\n{\n            'v': 0.76,\n            'f': \"0.76\",\n        },\n{\n            'v': 0.69,\n            'f': \"0.69\",\n        }],\n [{\n            'v': 2,\n            'f': \"2\",\n        },\n{\n            'v': 0.83,\n            'f': \"0.83\",\n        },\n{\n            'v': 0.79,\n            'f': \"0.79\",\n        },\n{\n            'v': 0.78,\n            'f': \"0.78\",\n        },\n{\n            'v': 0.79,\n            'f': \"0.79\",\n        },\n{\n            'v': 0.77,\n            'f': \"0.77\",\n        },\n{\n            'v': 0.74,\n            'f': \"0.74\",\n        },\n{\n            'v': 0.73,\n            'f': \"0.73\",\n        },\n{\n            'v': 0.72,\n            'f': \"0.72\",\n        },\n{\n            'v': 0.46,\n            'f': \"0.46\",\n        },\n{\n            'v': 0.67,\n            'f': \"0.67\",\n        }],\n [{\n            'v': 3,\n            'f': \"3\",\n        },\n{\n            'v': 0.9,\n            'f': \"0.9\",\n        },\n{\n            'v': 0.88,\n            'f': \"0.88\",\n        },\n{\n            'v': 0.87,\n            'f': \"0.87\",\n        },\n{\n            'v': 0.87,\n            'f': \"0.87\",\n        },\n{\n            'v': 0.78,\n            'f': \"0.78\",\n        },\n{\n            'v': 0.74,\n            'f': \"0.74\",\n        },\n{\n            'v': 0.76,\n            'f': \"0.76\",\n        },\n{\n            'v': 0.75,\n            'f': \"0.75\",\n        },\n{\n            'v': 0.28,\n            'f': \"0.28\",\n        },\n{\n            'v': 0.68,\n            'f': \"0.68\",\n        }],\n [{\n            'v': 4,\n            'f': \"4\",\n        },\n{\n            'v': 0.95,\n            'f': \"0.95\",\n        },\n{\n            'v': 0.94,\n            'f': \"0.94\",\n        },\n{\n            'v': 0.94,\n            'f': \"0.94\",\n        },\n{\n            'v': 0.94,\n            'f': \"0.94\",\n        },\n{\n            'v': 0.75,\n            'f': \"0.75\",\n        },\n{\n            'v': 0.71,\n            'f': \"0.71\",\n        },\n{\n            'v': 0.72,\n            'f': \"0.72\",\n        },\n{\n            'v': 0.71,\n            'f': \"0.71\",\n        },\n{\n            'v': 0.16,\n            'f': \"0.16\",\n        },\n{\n            'v': 0.93,\n            'f': \"0.93\",\n        }]],\n        columns: [[\"number\", \"Epoch\"], [\"number\", \"Train Accuracy\"], [\"number\", \"Train Precision\"], [\"number\", \"Train Recall\"], [\"number\", \"Train F1\"], [\"number\", \"Valid Accuracy\"], [\"number\", \"Valid Precision\"], [\"number\", \"Valid Recall\"], [\"number\", \"Valid F1\"], [\"number\", \"Train Loss\"], [\"number\", \"Valid Loss\"]],\n        columnOptions: [{\"width\": \"1px\", \"className\": \"index_column\"}],\n        rowsPerPage: 25,\n        helpUrl: \"https://colab.research.google.com/notebooks/data_table.ipynb\",\n        suppressOutputScrolling: true,\n        minimumWidth: undefined,\n      });\n    "
          },
          "metadata": {},
          "execution_count": 729
        }
      ],
      "source": [
        "# constructing dataframe from training\n",
        "df_stats = {'Train Accuracy': np.round(train_acc_lists, 2), 'Train Precision': np.round(train_pre_lists,2), 'Train Recall': np.round(train_rec_lists,2), 'Train F1': np.round(train_f1_lists,2), 'Valid Accuracy': np.round(eval_acc_lists,2), 'Valid Precision': np.round(eval_pre_lists,2), 'Valid Recall': np.round(eval_rec_lists,2), 'Valid F1': np.round(eval_f1_lists,2), 'Train Loss': np.round(train_loss_lists,2), 'Valid Loss': np.round(eval_loss_lists,2)}\n",
        "\n",
        "# create a dataframe from training\n",
        "df_stats = pd.DataFrame(data=df_stats)\n",
        "\n",
        "# rename row index as 'Epoch'\n",
        "df_stats = df_stats.rename_axis('Epoch')\n",
        "\n",
        "# display the table\n",
        "df_stats.index = df_stats.index + 1\n",
        "df_stats"
      ]
    },
    {
      "cell_type": "markdown",
      "metadata": {
        "id": "Q0fBLZd4whvo"
      },
      "source": [
        "# 8. Evaluation"
      ]
    },
    {
      "cell_type": "markdown",
      "metadata": {
        "id": "yr5t4T2Q0ZPv"
      },
      "source": [
        "## 8.1 Evaluate on Test Set"
      ]
    },
    {
      "cell_type": "markdown",
      "metadata": {
        "id": "aK66Uq00pfLa"
      },
      "source": [
        "With the test set prepared, we can apply our fine-tuned model to generate predictions on the test set."
      ]
    },
    {
      "cell_type": "code",
      "execution_count": 730,
      "metadata": {
        "id": "CgPfXfCRpSFK",
        "colab": {
          "base_uri": "https://localhost:8080/"
        },
        "outputId": "bb05d3ee-761f-4ce5-85d1-5273839a96f8"
      },
      "outputs": [
        {
          "output_type": "stream",
          "name": "stdout",
          "text": [
            "Loading Testing DataLoader...\n"
          ]
        },
        {
          "output_type": "stream",
          "name": "stderr",
          "text": [
            "100%|██████████| 42/42 [00:04<00:00,  9.02it/s]"
          ]
        },
        {
          "output_type": "stream",
          "name": "stdout",
          "text": [
            "      index        label\n",
            "0         0    HS_Strong\n",
            "1         1       Non_HS\n",
            "2         2       Non_HS\n",
            "3         3       Non_HS\n",
            "4         4       Non_HS\n",
            "...     ...          ...\n",
            "1308   1308  HS_Moderate\n",
            "1309   1309       Non_HS\n",
            "1310   1310    HS_Strong\n",
            "1311   1311  HS_Moderate\n",
            "1312   1312  HS_Moderate\n",
            "\n",
            "[1313 rows x 2 columns]\n",
            "CPU times: user 3.71 s, sys: 184 ms, total: 3.9 s\n",
            "Wall time: 4.68 s\n"
          ]
        },
        {
          "output_type": "stream",
          "name": "stderr",
          "text": [
            "\n"
          ]
        }
      ],
      "source": [
        "%%time\n",
        "\n",
        "# put model in evaluation mode\n",
        "model.eval()\n",
        "torch.set_grad_enabled(False)\n",
        "\n",
        "total_loss, total_correct, total_labels = 0, 0, 0\n",
        "list_hyp, list_label = [], []\n",
        "\n",
        "print('Loading Testing DataLoader...')\n",
        "\n",
        "pbar = tqdm(testing_loader, leave=True, total=len(testing_loader))\n",
        "for i, batch_data in enumerate(pbar):\n",
        "  _, batch_hyp, _ = forward_sequence_classification(model, batch_data[:-1], i2w=i2w, device='cuda')\n",
        "  list_hyp += batch_hyp\n",
        "\n",
        "df = pd.DataFrame({'label':list_hyp}).reset_index()\n",
        "df.to_csv('prediction.txt', index=False)\n",
        "\n",
        "print(df)"
      ]
    },
    {
      "cell_type": "code",
      "execution_count": 731,
      "metadata": {
        "id": "nEdL7Ezy-8La"
      },
      "outputs": [],
      "source": [
        "prediction = pd.read_csv('prediction.txt')"
      ]
    },
    {
      "cell_type": "code",
      "execution_count": 732,
      "metadata": {
        "id": "hwSrsob1_JNR"
      },
      "outputs": [],
      "source": [
        "prediction_list = []\n",
        "\n",
        "for i in prediction['label'] : \n",
        "  if i == 'HS_Weak': \n",
        "    prediction_list.append(1)\n",
        "  elif i == 'HS_Moderate': \n",
        "    prediction_list.append(2)\n",
        "  elif i == 'HS_Strong': \n",
        "    prediction_list.append(3)\n",
        "  else :\n",
        "    prediction_list.append(0)"
      ]
    },
    {
      "cell_type": "code",
      "execution_count": 733,
      "metadata": {
        "id": "YHaoz6Ea8wCN",
        "colab": {
          "base_uri": "https://localhost:8080/",
          "height": 224
        },
        "outputId": "190822de-3005-4fe8-c7c9-9d2114106fb2"
      },
      "outputs": [
        {
          "output_type": "execute_result",
          "data": {
            "text/plain": [
              "<pandas.io.formats.style.Styler at 0x7f3ccd195a50>"
            ],
            "text/html": [
              "<style type=\"text/css\">\n",
              "</style>\n",
              "<table id=\"T_70c51_\" class=\"dataframe\">\n",
              "  <thead>\n",
              "    <tr>\n",
              "      <th class=\"col_heading level0 col0\" >text</th>\n",
              "      <th class=\"col_heading level0 col1\" >label</th>\n",
              "    </tr>\n",
              "  </thead>\n",
              "  <tbody>\n",
              "    <tr>\n",
              "      <td id=\"T_70c51_row0_col0\" class=\"data row0 col0\" >apa huhungannya bego sama lesbi anjir</td>\n",
              "      <td id=\"T_70c51_row0_col1\" class=\"data row0 col1\" >3</td>\n",
              "    </tr>\n",
              "    <tr>\n",
              "      <td id=\"T_70c51_row1_col0\" class=\"data row1 col0\" >tak tau deh mimpi doang kayak sudah lupa gue cuma bagi ketemu kunti banyak nya itu yang ingat</td>\n",
              "      <td id=\"T_70c51_row1_col1\" class=\"data row1 col1\" >0</td>\n",
              "    </tr>\n",
              "    <tr>\n",
              "      <td id=\"T_70c51_row2_col0\" class=\"data row2 col0\" >percaya sama pakar dari pada allah it musyrik percaya sih boleh saja tetapi jangan lebih sampai lost respect</td>\n",
              "      <td id=\"T_70c51_row2_col1\" class=\"data row2 col1\" >0</td>\n",
              "    </tr>\n",
              "    <tr>\n",
              "      <td id=\"T_70c51_row3_col0\" class=\"data row3 col0\" >yang sebab agama cacat adalah hawa nafsu hari asy shihab</td>\n",
              "      <td id=\"T_70c51_row3_col1\" class=\"data row3 col1\" >0</td>\n",
              "    </tr>\n",
              "    <tr>\n",
              "      <td id=\"T_70c51_row4_col0\" class=\"data row4 col0\" >soal produk asing yang lewat tolong buka lagi sejarah islam lebih dulu masuk ke cina ketimbang nusantara baju koko takwa itu asli dari cina bukan budaya kita dan jubah yang kamu pakai budaya impor dari arab jadi tolong lebih baik anda telanjang saja biar ucap bisa sesi</td>\n",
              "      <td id=\"T_70c51_row4_col1\" class=\"data row4 col1\" >0</td>\n",
              "    </tr>\n",
              "  </tbody>\n",
              "</table>\n"
            ]
          },
          "metadata": {},
          "execution_count": 733
        }
      ],
      "source": [
        "data_test = pd.read_csv('/content/drive/MyDrive/multi-label-hate-speech-detection/data/dataset_testing.csv')\n",
        "\n",
        "def label_classification(hs):\n",
        "  label = ''\n",
        "  \n",
        "  if str(hs) == 'HS_Weak':\n",
        "    label = 1\n",
        "  elif str(hs) == 'HS_Moderate':\n",
        "    label = 2\n",
        "  elif str(hs) == 'HS_Strong':\n",
        "    label = 3\n",
        "  else:\n",
        "    label = 0\n",
        "\n",
        "  return label\n",
        "\n",
        "data_test['label'] = data_test['label'].apply(label_classification)\n",
        "\n",
        "data_test = data_test[['text', 'label']]\n",
        "\n",
        "data_test.head().style.hide_index()"
      ]
    },
    {
      "cell_type": "code",
      "execution_count": 734,
      "metadata": {
        "id": "b8kfzsIul61A",
        "colab": {
          "base_uri": "https://localhost:8080/"
        },
        "outputId": "918df54a-ad25-425f-e675-44b12367aabb"
      },
      "outputs": [
        {
          "output_type": "stream",
          "name": "stdout",
          "text": [
            "Accuracy: 0.77\n",
            "Precision: 0.73\n",
            "Recall: 0.74\n"
          ]
        }
      ],
      "source": [
        "print(f\"Accuracy: {round(accuracy_score(data_test['label'], prediction_list), 2)}\") \n",
        "print(f\"Precision: {round(precision_score(data_test['label'], prediction_list, average='macro'), 2)}\")\n",
        "print(f\"Recall: {round(recall_score(data_test['label'], prediction_list, average='macro'), 2)}\")"
      ]
    },
    {
      "cell_type": "code",
      "execution_count": 735,
      "metadata": {
        "id": "fUh5Ff3M192p",
        "colab": {
          "base_uri": "https://localhost:8080/"
        },
        "outputId": "87671876-f464-4b19-acdf-3dd35782790c"
      },
      "outputs": [
        {
          "output_type": "stream",
          "name": "stdout",
          "text": [
            "F1-score (Micro Avg) is 77%.\n",
            "F1-score (Macro Avg) is 73%.\n",
            "F1-score (Weighted Avg) is 77%.\n"
          ]
        }
      ],
      "source": [
        "# micro avg of f1-score\n",
        "f1_score_micro = f1_score(data_test['label'], prediction_list, average='micro') * 100\n",
        "print(\"F1-score (Micro Avg) is {}%.\" .format(round(f1_score_micro),1))\n",
        "\n",
        "# macro avg of f1-score\n",
        "f1_score_macro = f1_score(data_test['label'], prediction_list, average='macro') * 100\n",
        "print(\"F1-score (Macro Avg) is {}%.\" .format(round(f1_score_macro),1))\n",
        "\n",
        "# weighted avg of f1-score\n",
        "f1_score_weighted = f1_score(data_test['label'], prediction_list, average='weighted') * 100\n",
        "print(\"F1-score (Weighted Avg) is {}%.\" .format(round(f1_score_weighted),1))"
      ]
    },
    {
      "cell_type": "code",
      "execution_count": 736,
      "metadata": {
        "id": "CEneien4aGXH",
        "colab": {
          "base_uri": "https://localhost:8080/"
        },
        "outputId": "c1fa91d7-9549-48e6-b03a-8b600284e16d"
      },
      "outputs": [
        {
          "output_type": "stream",
          "name": "stdout",
          "text": [
            "Classification Report:\n",
            "              precision    recall  f1-score   support\n",
            "\n",
            "           0       0.90      0.86      0.88       594\n",
            "           1       0.71      0.69      0.70       332\n",
            "           2       0.64      0.64      0.64       177\n",
            "           3       0.66      0.79      0.72       210\n",
            "\n",
            "    accuracy                           0.77      1313\n",
            "   macro avg       0.73      0.74      0.73      1313\n",
            "weighted avg       0.78      0.77      0.77      1313\n",
            "\n",
            "Classification Report Table:\n",
            "              precision  recall  f1-score  support\n",
            "0                  0.90    0.86      0.88   594.00\n",
            "1                  0.71    0.69      0.70   332.00\n",
            "2                  0.64    0.64      0.64   177.00\n",
            "3                  0.66    0.79      0.72   210.00\n",
            "accuracy           0.77    0.77      0.77     0.77\n",
            "macro avg          0.73    0.74      0.73  1313.00\n",
            "weighted avg       0.78    0.77      0.77  1313.00\n"
          ]
        }
      ],
      "source": [
        "print(\"Classification Report:\")\n",
        "print(classification_report(data_test['label'], prediction_list))\n",
        "\n",
        "report = classification_report(data_test[\"label\"], prediction_list, output_dict=True)\n",
        "report = pd.DataFrame(report).round(2).transpose()\n",
        "print(\"Classification Report Table:\")\n",
        "print(report)"
      ]
    },
    {
      "cell_type": "code",
      "source": [
        "print(\"Confusion Matrix:\")\n",
        "f, ax = plt.subplots(figsize=(10,5))\n",
        "sns.heatmap(confusion_matrix(data_test['label'], prediction_list), annot=True, fmt=\".0f\", ax=ax)\n",
        "plt.xlabel(\"True Label\")\n",
        "plt.ylabel(\"Predicted Label\")\n",
        "plt.show()"
      ],
      "metadata": {
        "colab": {
          "base_uri": "https://localhost:8080/",
          "height": 351
        },
        "id": "Ka56vSejHrff",
        "outputId": "e7e7ea91-7c62-4817-fa79-ff4d6894bae1"
      },
      "execution_count": 737,
      "outputs": [
        {
          "output_type": "stream",
          "name": "stdout",
          "text": [
            "Confusion Matrix:\n"
          ]
        },
        {
          "output_type": "display_data",
          "data": {
            "text/plain": [
              "<Figure size 720x360 with 2 Axes>"
            ],
            "image/png": "[encoded data removed]"
          },
          "metadata": {
            "needs_background": "light"
          }
        }
      ]
    },
    {
      "cell_type": "markdown",
      "metadata": {
        "id": "7KM1oiiZuDSx"
      },
      "source": [
        "## 8.2 Compare True and Prediction Result"
      ]
    },
    {
      "cell_type": "markdown",
      "metadata": {
        "id": "p9_reMwRuV-M"
      },
      "source": [
        "True and prediction result should at least have the similar or same result."
      ]
    },
    {
      "cell_type": "code",
      "execution_count": 738,
      "metadata": {
        "id": "Qc_D0TJlF8_K",
        "colab": {
          "base_uri": "https://localhost:8080/"
        },
        "outputId": "70b7fd61-d1ac-45d8-af14-2bea63888158"
      },
      "outputs": [
        {
          "output_type": "stream",
          "name": "stdout",
          "text": [
            "594\n",
            "332\n",
            "177\n",
            "210\n"
          ]
        }
      ],
      "source": [
        "# true\n",
        "amount_of_true_non_hs = 0\n",
        "amount_of_true_hs_weak = 0\n",
        "amount_of_true_hs_moderate = 0\n",
        "amount_of_true_hs_strong = 0\n",
        "\n",
        "for i in data_test['label'] :\n",
        "  if i == 1 :\n",
        "    amount_of_true_hs_weak += 1\n",
        "  elif i == 2 :\n",
        "    amount_of_true_hs_moderate += 1\n",
        "  elif i == 3 :\n",
        "    amount_of_true_hs_strong += 1\n",
        "  else :\n",
        "    amount_of_true_non_hs += 1\n",
        "\n",
        "print(amount_of_true_non_hs)\n",
        "print(amount_of_true_hs_weak)\n",
        "print(amount_of_true_hs_moderate)\n",
        "print(amount_of_true_hs_strong)"
      ]
    },
    {
      "cell_type": "code",
      "execution_count": 739,
      "metadata": {
        "id": "hdipH1GIFW7F",
        "colab": {
          "base_uri": "https://localhost:8080/"
        },
        "outputId": "6faad2d0-f2e6-4acf-e5c0-329c78010cf3"
      },
      "outputs": [
        {
          "output_type": "stream",
          "name": "stdout",
          "text": [
            "567\n",
            "319\n",
            "176\n",
            "251\n"
          ]
        }
      ],
      "source": [
        "# prediction\n",
        "amount_of_pred_non_hs = 0\n",
        "amount_of_pred_hs_weak = 0\n",
        "amount_of_pred_hs_moderate = 0\n",
        "amount_of_pred_hs_strong = 0\n",
        "\n",
        "for i in prediction_list :\n",
        "  if i == 1 :\n",
        "    amount_of_pred_hs_weak += 1\n",
        "  elif i == 2 :\n",
        "    amount_of_pred_hs_moderate += 1\n",
        "  elif i == 3 :\n",
        "    amount_of_pred_hs_strong += 1\n",
        "  else :\n",
        "    amount_of_pred_non_hs += 1\n",
        "\n",
        "print(amount_of_pred_non_hs)\n",
        "print(amount_of_pred_hs_weak)\n",
        "print(amount_of_pred_hs_moderate)\n",
        "print(amount_of_pred_hs_strong)"
      ]
    },
    {
      "cell_type": "markdown",
      "metadata": {
        "id": "KuHgfVscv3l_"
      },
      "source": [
        "Show compare result on chart."
      ]
    },
    {
      "cell_type": "code",
      "execution_count": 740,
      "metadata": {
        "id": "nQKTarklBa2Z",
        "colab": {
          "base_uri": "https://localhost:8080/",
          "height": 608
        },
        "outputId": "d805c56e-e578-4c01-c39c-9c134222af12"
      },
      "outputs": [
        {
          "output_type": "execute_result",
          "data": {
            "text/plain": [
              "[]"
            ]
          },
          "metadata": {},
          "execution_count": 740
        },
        {
          "output_type": "display_data",
          "data": {
            "text/plain": [
              "<Figure size 1440x720 with 2 Axes>"
            ],
            "image/png": "[encoded data removed]"
          },
          "metadata": {}
        }
      ],
      "source": [
        "fig, (ax1, ax2) = plt.subplots(1, 2, figsize=(20, 10), subplot_kw=dict(aspect=\"equal\"))\n",
        "labels = 'Non_HS', 'HS_Weak', 'HS_Moderate', 'HS_Strong'\n",
        "labels = [x.split()[-1] for x in labels]\n",
        "\n",
        "# true result\n",
        "sizes = [amount_of_true_non_hs, amount_of_true_hs_weak, amount_of_true_hs_moderate, amount_of_true_hs_strong]\n",
        "explode = (0.1, 0, 0, 0)\n",
        "\n",
        "ax1.pie(sizes, explode=explode, labels=labels, autopct='%1.1f%%', shadow=True, startangle=90, textprops=dict(color=\"white\", weight=\"bold\"))\n",
        "ax1.axis('equal')\n",
        "ax1.set_title('Labeling True Result')\n",
        "\n",
        "# prediction result\n",
        "sizes = [amount_of_pred_non_hs, amount_of_pred_hs_weak, amount_of_pred_hs_moderate, amount_of_pred_hs_strong]\n",
        "explode = (0.1, 0, 0, 0)\n",
        "\n",
        "ax2.pie(sizes, explode=explode, labels=labels, autopct='%1.1f%%', shadow=True, startangle=90, textprops=dict(color=\"white\", weight=\"bold\"))\n",
        "ax2.axis('equal')\n",
        "ax2.set_title('Labeling Prediction Result')\n",
        "\n",
        "# set legend label\n",
        "ax1.legend(\n",
        "    labels, title='Label', loc=\"center left\", bbox_to_anchor=(1, 0, 0.5, 1)\n",
        ")\n",
        "\n",
        "ax1.plot()\n",
        "ax2.plot()"
      ]
    },
    {
      "cell_type": "markdown",
      "metadata": {
        "id": "CQE0SaIbmBd0"
      },
      "source": [
        "## 8.3 Test Fine-Tuned Model"
      ]
    },
    {
      "cell_type": "code",
      "execution_count": 741,
      "metadata": {
        "id": "1CVoKy4P1f5m",
        "colab": {
          "base_uri": "https://localhost:8080/"
        },
        "outputId": "d2167c2e-c2b0-4465-f99f-ce5405727345"
      },
      "outputs": [
        {
          "output_type": "stream",
          "name": "stdout",
          "text": [
            "Text: kebahagiaan terbesarku adalah melihatmu bersama dengan dirinya\n",
            "Label: Non_HS (99.775%)\n"
          ]
        }
      ],
      "source": [
        "text = 'kebahagiaan terbesarku adalah melihatmu bersama dengan dirinya'\n",
        "subwords = tokenizer.encode(text)\n",
        "subwords = torch.LongTensor(subwords).view(1, -1).to(model.device)\n",
        "\n",
        "logits = model(subwords)[0]\n",
        "label = torch.topk(logits, k=1, dim=-1)[1].squeeze().item()\n",
        "\n",
        "print(f'Text: {text}')\n",
        "print(f'Label: {i2w[label]} ({F.softmax(logits, dim=-1).squeeze()[label] * 100:.3f}%)')"
      ]
    },
    {
      "cell_type": "code",
      "execution_count": 742,
      "metadata": {
        "id": "jhZGf0Slr8R6",
        "colab": {
          "base_uri": "https://localhost:8080/"
        },
        "outputId": "fad892c5-59ad-4503-a27f-0c044aabbdf1"
      },
      "outputs": [
        {
          "output_type": "stream",
          "name": "stdout",
          "text": [
            "Text: tukang bully mati aja sana\n",
            "Label: HS_Weak (50.048%)\n"
          ]
        }
      ],
      "source": [
        "text = 'tukang bully mati aja sana'\n",
        "subwords = tokenizer.encode(text)\n",
        "subwords = torch.LongTensor(subwords).view(1, -1).to(model.device)\n",
        "\n",
        "logits = model(subwords)[0]\n",
        "label = torch.topk(logits, k=1, dim=-1)[1].squeeze().item()\n",
        "\n",
        "print(f'Text: {text}')\n",
        "print(f'Label: {i2w[label]} ({F.softmax(logits, dim=-1).squeeze()[label] * 100:.3f}%)')"
      ]
    },
    {
      "cell_type": "code",
      "execution_count": 743,
      "metadata": {
        "id": "fG3EeWAn72ZD",
        "colab": {
          "base_uri": "https://localhost:8080/"
        },
        "outputId": "92b200c0-9f8c-4f54-fecd-c6cfa1d0b469"
      },
      "outputs": [
        {
          "output_type": "stream",
          "name": "stdout",
          "text": [
            "Text: antek antek komunis mati sana\n",
            "Label: HS_Moderate (67.978%)\n"
          ]
        }
      ],
      "source": [
        "text = 'antek antek komunis mati sana'\n",
        "subwords = tokenizer.encode(text)\n",
        "subwords = torch.LongTensor(subwords).view(1, -1).to(model.device)\n",
        "\n",
        "logits = model(subwords)[0]\n",
        "label = torch.topk(logits, k=1, dim=-1)[1].squeeze().item()\n",
        "\n",
        "print(f'Text: {text}')\n",
        "print(f'Label: {i2w[label]} ({F.softmax(logits, dim=-1).squeeze()[label] * 100:.3f}%)')"
      ]
    },
    {
      "cell_type": "code",
      "execution_count": 744,
      "metadata": {
        "id": "PsAmXXAM621O",
        "colab": {
          "base_uri": "https://localhost:8080/"
        },
        "outputId": "3918f9ae-94e6-4fe3-9f19-2bc462d79b31"
      },
      "outputs": [
        {
          "output_type": "stream",
          "name": "stdout",
          "text": [
            "Text: kemaren gue ga di ajak tai emang\n",
            "Label: HS_Strong (85.430%)\n"
          ]
        }
      ],
      "source": [
        "text = 'kemaren gue ga di ajak tai emang'\n",
        "subwords = tokenizer.encode(text)\n",
        "subwords = torch.LongTensor(subwords).view(1, -1).to(model.device)\n",
        "\n",
        "logits = model(subwords)[0]\n",
        "label = torch.topk(logits, k=1, dim=-1)[1].squeeze().item()\n",
        "\n",
        "print(f'Text: {text}')\n",
        "print(f'Label: {i2w[label]} ({F.softmax(logits, dim=-1).squeeze()[label] * 100:.3f}%)')"
      ]
    },
    {
      "cell_type": "code",
      "execution_count": 745,
      "metadata": {
        "id": "5sF6Xs8RwOgJ",
        "colab": {
          "base_uri": "https://localhost:8080/"
        },
        "outputId": "344543e3-6f68-40df-eccd-77bcca30100b"
      },
      "outputs": [
        {
          "output_type": "stream",
          "name": "stdout",
          "text": [
            "tensor([[ 1.3934, -1.4899, -3.0652,  3.2275]], device='cuda:0')\n"
          ]
        }
      ],
      "source": [
        "print(logits)"
      ]
    },
    {
      "cell_type": "code",
      "execution_count": 746,
      "metadata": {
        "id": "q_aZVrSHrjZX",
        "colab": {
          "base_uri": "https://localhost:8080/"
        },
        "outputId": "aec481ac-e23b-43ac-f642-92ab96932e00"
      },
      "outputs": [
        {
          "output_type": "stream",
          "name": "stdout",
          "text": [
            "torch.return_types.topk(\n",
            "values=tensor([[3.2275]], device='cuda:0'),\n",
            "indices=tensor([[3]], device='cuda:0'))\n"
          ]
        }
      ],
      "source": [
        "print(torch.topk(logits, 1))"
      ]
    },
    {
      "cell_type": "markdown",
      "metadata": {
        "id": "ZDda-d_ti2Bi"
      },
      "source": [
        "# 9. Save Model"
      ]
    },
    {
      "cell_type": "markdown",
      "metadata": {
        "id": "OmnFxmWFrnAh"
      },
      "source": [
        "To save your model, download it to your local device or your Google Drive."
      ]
    },
    {
      "cell_type": "code",
      "execution_count": 747,
      "metadata": {
        "id": "sC_jouxarZdi",
        "colab": {
          "base_uri": "https://localhost:8080/",
          "height": 235
        },
        "outputId": "3ed375bc-7be0-46b1-d8b0-ad8b1c3dc342"
      },
      "outputs": [
        {
          "output_type": "error",
          "ename": "NameError",
          "evalue": "ignored",
          "traceback": [
            "\u001b[0;31m---------------------------------------------------------------------------\u001b[0m",
            "\u001b[0;31mNameError\u001b[0m                                 Traceback (most recent call last)",
            "\u001b[0;32m<ipython-input-747-e0993fb629e5>\u001b[0m in \u001b[0;36m<module>\u001b[0;34m()\u001b[0m\n\u001b[0;32m----> 1\u001b[0;31m \u001b[0masfer\u001b[0m\u001b[0;34m\u001b[0m\u001b[0;34m\u001b[0m\u001b[0m\n\u001b[0m\u001b[1;32m      2\u001b[0m \u001b[0mpath\u001b[0m \u001b[0;34m=\u001b[0m \u001b[0;34m'/content/drive/MyDrive/multi-label-hate-speech-detection/models'\u001b[0m\u001b[0;34m\u001b[0m\u001b[0;34m\u001b[0m\u001b[0m\n\u001b[1;32m      3\u001b[0m \u001b[0;34m\u001b[0m\u001b[0m\n\u001b[1;32m      4\u001b[0m \u001b[0;31m# check whether the specified path exists or not\u001b[0m\u001b[0;34m\u001b[0m\u001b[0;34m\u001b[0m\u001b[0;34m\u001b[0m\u001b[0m\n\u001b[1;32m      5\u001b[0m \u001b[0;31m# if not exists, path will be created\u001b[0m\u001b[0;34m\u001b[0m\u001b[0;34m\u001b[0m\u001b[0;34m\u001b[0m\u001b[0m\n",
            "\u001b[0;31mNameError\u001b[0m: name 'asfer' is not defined"
          ]
        }
      ],
      "source": [
        "asfer\n",
        "path = '/content/drive/MyDrive/multi-label-hate-speech-detection/models'\n",
        "\n",
        "# check whether the specified path exists or not\n",
        "# if not exists, path will be created\n",
        "if not os.path.exists(path):\n",
        "  # create output model path\n",
        "  os.makedirs(path)\n",
        "\n",
        "print(\"Saving model to %s\" % path)"
      ]
    },
    {
      "cell_type": "markdown",
      "metadata": {
        "id": "N__TEVQCrRv-"
      },
      "source": [
        "Save a trained model, configuration and tokenizer using `save_pretrained()`.\n",
        "They can then be reloaded using `from_pretrained()`"
      ]
    },
    {
      "cell_type": "code",
      "execution_count": null,
      "metadata": {
        "id": "rxjjqmP6rNab"
      },
      "outputs": [],
      "source": [
        "model_to_save = model.module if hasattr(model, 'module') else model\n",
        "model_to_save.save_pretrained(path)\n",
        "tokenizer.save_pretrained(path)"
      ]
    },
    {
      "cell_type": "code",
      "execution_count": null,
      "metadata": {
        "id": "Fa4ocl3rB7l5"
      },
      "outputs": [],
      "source": [
        "# save tokenizer\n",
        "with open('/content/drive/MyDrive/multi-label-hate-speech-detection/models/tokenizer.pkl', 'wb') as handle:\n",
        "  pickle.dump(tokenizer, handle, protocol=pickle.HIGHEST_PROTOCOL)"
      ]
    },
    {
      "cell_type": "markdown",
      "metadata": {
        "id": "4e_xdbEhsIEv"
      },
      "source": [
        "Let's check out the file sizes, out of curiosity."
      ]
    },
    {
      "cell_type": "code",
      "execution_count": null,
      "metadata": {
        "id": "hRrs7C0rsS2w"
      },
      "outputs": [],
      "source": [
        "!ls -l --block-size=K /content/drive/MyDrive/multi-label-hate-speech-detection/models"
      ]
    },
    {
      "cell_type": "markdown",
      "metadata": {
        "id": "mhCHJFX6OFkN"
      },
      "source": [
        "# **Format Code**"
      ]
    },
    {
      "cell_type": "markdown",
      "metadata": {
        "id": "gH_KYY2UQsSi"
      },
      "source": [
        "**How to Use Black for Jupyter Formatter on Google Colab**\n",
        "\n",
        "[Run only once, at startup]\n",
        "\n",
        "*   Connect to your Drive\n",
        "*   Install black for jupyter with `!pip install black[jupyter]`\n",
        "*   Restart kernel\n",
        "\n",
        "[Then]\n",
        "\n",
        "*   Place your Jupyter Notebook file somewhere on your Drive\n",
        "*   Anytime you want format your code run: `!black /content/drive/MyDrive/YOUR_PATH/YOUR_NOTEBOOK.ipynb`\n",
        "*   Don't save your notebook, hit F5 to refresh the page\n",
        "*   Voila! Now save!\n",
        "\n",
        "[Reference from here](https://stackoverflow.com/questions/63076002/code-formatter-like-nb-black-for-google-colab)"
      ]
    },
    {
      "cell_type": "code",
      "execution_count": null,
      "metadata": {
        "id": "QWRzbPlbOH14"
      },
      "outputs": [],
      "source": [
        "# run (uncomment) line below if you want to format your code with black formatter\n",
        "# !black /content/drive/MyDrive/Skripsi/Code/multi-label-hate-speech-detection/src/multi_label_hs/preprocessing/text_preprocessing.ipynb"
      ]
    }
  ],
  "metadata": {
    "accelerator": "GPU",
    "colab": {
      "collapsed_sections": [],
      "name": "indoBERT_hate_speech.ipynb",
      "provenance": [],
      "toc_visible": true
    },
    "interpreter": {
      "hash": "515b4d96db1d04773338bb41c8dc99956684dd28d23d418249df6547ca572e94"
    },
    "kernelspec": {
      "display_name": "Python 3.9.6 ('.venv': poetry)",
      "language": "python",
      "name": "python3"
    },
    "language_info": {
      "name": "python",
      "version": "3.9.6"
    }
  },
  "nbformat": 4,
  "nbformat_minor": 0
}